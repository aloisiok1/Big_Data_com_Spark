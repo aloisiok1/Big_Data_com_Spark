{
  "nbformat": 4,
  "nbformat_minor": 0,
  "metadata": {
    "colab": {
      "provenance": []
    },
    "kernelspec": {
      "name": "python3",
      "display_name": "Python 3"
    },
    "language_info": {
      "name": "python"
    }
  },
  "cells": [
    {
      "cell_type": "markdown",
      "source": [
        "#1 instalação do PySpark"
      ],
      "metadata": {
        "id": "lpj-3mODC6M6"
      }
    },
    {
      "cell_type": "code",
      "execution_count": 1,
      "metadata": {
        "colab": {
          "base_uri": "https://localhost:8080/"
        },
        "id": "ePCpDYMdCunA",
        "outputId": "ca963c6f-1905-4d6c-c7ab-a2674087f60d"
      },
      "outputs": [
        {
          "output_type": "stream",
          "name": "stdout",
          "text": [
            "Collecting pyspark\n",
            "  Downloading pyspark-3.4.1.tar.gz (310.8 MB)\n",
            "\u001b[2K     \u001b[90m━━━━━━━━━━━━━━━━━━━━━━━━━━━━━━━━━━━━━━━\u001b[0m \u001b[32m310.8/310.8 MB\u001b[0m \u001b[31m2.2 MB/s\u001b[0m eta \u001b[36m0:00:00\u001b[0m\n",
            "\u001b[?25h  Preparing metadata (setup.py) ... \u001b[?25l\u001b[?25hdone\n",
            "Requirement already satisfied: py4j==0.10.9.7 in /usr/local/lib/python3.10/dist-packages (from pyspark) (0.10.9.7)\n",
            "Building wheels for collected packages: pyspark\n",
            "  Building wheel for pyspark (setup.py) ... \u001b[?25l\u001b[?25hdone\n",
            "  Created wheel for pyspark: filename=pyspark-3.4.1-py2.py3-none-any.whl size=311285387 sha256=0d59fb6582d262b7676a943bbf064101a1783292a56861af5129c89b88f24d52\n",
            "  Stored in directory: /root/.cache/pip/wheels/0d/77/a3/ff2f74cc9ab41f8f594dabf0579c2a7c6de920d584206e0834\n",
            "Successfully built pyspark\n",
            "Installing collected packages: pyspark\n",
            "Successfully installed pyspark-3.4.1\n"
          ]
        }
      ],
      "source": [
        "!pip install pyspark"
      ]
    },
    {
      "cell_type": "code",
      "source": [
        "!pip install findspark\n",
        "from pyspark import SparkContext\n",
        "from pyspark.sql import SparkSession"
      ],
      "metadata": {
        "colab": {
          "base_uri": "https://localhost:8080/"
        },
        "id": "vEG_QWe9DA9L",
        "outputId": "f3a903c8-e9cb-4fc1-fb75-c85587f41f9f"
      },
      "execution_count": 2,
      "outputs": [
        {
          "output_type": "stream",
          "name": "stdout",
          "text": [
            "Collecting findspark\n",
            "  Downloading findspark-2.0.1-py2.py3-none-any.whl (4.4 kB)\n",
            "Installing collected packages: findspark\n",
            "Successfully installed findspark-2.0.1\n"
          ]
        }
      ]
    },
    {
      "cell_type": "code",
      "source": [
        "sc = SparkContext.getOrCreate()"
      ],
      "metadata": {
        "id": "lagIb_TvDVcr"
      },
      "execution_count": 3,
      "outputs": []
    },
    {
      "cell_type": "code",
      "source": [
        "spark = SparkSession.builder.appName(\"PySpark Dataframe\").getOrCreate()"
      ],
      "metadata": {
        "id": "6xjR7joTDd7Y"
      },
      "execution_count": 4,
      "outputs": []
    },
    {
      "cell_type": "markdown",
      "source": [
        "#2 Transformation"
      ],
      "metadata": {
        "id": "smKMijc-D58K"
      }
    },
    {
      "cell_type": "markdown",
      "source": [
        "#2.1 map()"
      ],
      "metadata": {
        "id": "Kv1fe6PEEP6f"
      }
    },
    {
      "cell_type": "code",
      "source": [
        "data = [1,2,3,4,5]\n",
        "myRDD = sc.parallelize(data)\n",
        "newRDD = myRDD.map(lambda x: x*2)\n",
        "print(newRDD.collect())"
      ],
      "metadata": {
        "colab": {
          "base_uri": "https://localhost:8080/"
        },
        "id": "FNFLYbzjDymg",
        "outputId": "0057a03b-7c8a-41b5-bda4-e741e4610ea6"
      },
      "execution_count": 6,
      "outputs": [
        {
          "output_type": "stream",
          "name": "stdout",
          "text": [
            "[2, 4, 6, 8, 10]\n"
          ]
        }
      ]
    },
    {
      "cell_type": "markdown",
      "source": [
        "#2.2 filter()"
      ],
      "metadata": {
        "id": "qqPTuaXVE8W7"
      }
    },
    {
      "cell_type": "code",
      "source": [
        "data = [1,2,3,4,5,6,7,8,9]\n",
        "myRDD = sc.parallelize(data)\n",
        "newRDD = myRDD.filter(lambda x: x%2 == 0)\n",
        "print(newRDD.collect())"
      ],
      "metadata": {
        "colab": {
          "base_uri": "https://localhost:8080/"
        },
        "id": "mZVaGj_TEd1R",
        "outputId": "22afc8fe-a20e-486a-b37b-749735e474c2"
      },
      "execution_count": 8,
      "outputs": [
        {
          "output_type": "stream",
          "name": "stdout",
          "text": [
            "[2, 4, 6, 8]\n"
          ]
        }
      ]
    },
    {
      "cell_type": "markdown",
      "source": [
        "#2.3 distinct()"
      ],
      "metadata": {
        "id": "rniX2CR7FstA"
      }
    },
    {
      "cell_type": "code",
      "source": [
        "data = [1,1,1,2,2,2,2,3,3,3,3,4,5]\n",
        "myRDD = sc.parallelize(data)\n",
        "newRDD = myRDD.distinct()\n",
        "print(newRDD.collect())"
      ],
      "metadata": {
        "colab": {
          "base_uri": "https://localhost:8080/"
        },
        "id": "p3L9AbNsFWXp",
        "outputId": "647feca8-fb48-4b1b-b973-38a990b04de7"
      },
      "execution_count": 9,
      "outputs": [
        {
          "output_type": "stream",
          "name": "stdout",
          "text": [
            "[2, 4, 1, 3, 5]\n"
          ]
        }
      ]
    },
    {
      "cell_type": "code",
      "source": [
        "data = [1,1,1,2,2,2,2,3,3,3,3,4,5]\n",
        "myRDD = sc.parallelize(data)\n",
        "newRDD = myRDD.distinct()\n",
        "print(newRDD.count())"
      ],
      "metadata": {
        "colab": {
          "base_uri": "https://localhost:8080/"
        },
        "id": "fvo4yS_gGBa4",
        "outputId": "f4a51a31-22d8-499e-be28-100cc0ad0e7a"
      },
      "execution_count": 10,
      "outputs": [
        {
          "output_type": "stream",
          "name": "stdout",
          "text": [
            "5\n"
          ]
        }
      ]
    },
    {
      "cell_type": "code",
      "source": [
        "data = [1,1,1,2,2,2,2,3,3,3,3,4,5]\n",
        "myRDD = sc.parallelize(data)\n",
        "newRDD = myRDD.distinct()\n",
        "print(type(newRDD))"
      ],
      "metadata": {
        "colab": {
          "base_uri": "https://localhost:8080/"
        },
        "id": "6JnTHTGcGR24",
        "outputId": "5e98103d-d7a3-473b-87fb-d9287022d1bf"
      },
      "execution_count": 11,
      "outputs": [
        {
          "output_type": "stream",
          "name": "stdout",
          "text": [
            "<class 'pyspark.rdd.PipelinedRDD'>\n"
          ]
        }
      ]
    },
    {
      "cell_type": "markdown",
      "source": [
        "#2.4 groupByKey()"
      ],
      "metadata": {
        "id": "QyfnPujvGdXB"
      }
    },
    {
      "cell_type": "code",
      "source": [
        "myRDD = sc.parallelize([(\"a\", 1), (\"a\", 2), (\"a\", 3), (\"b\", 1)])\n",
        "\n",
        "resultList = myRDD.groupByKey().mapValues(list)\n",
        "resultList.collect()"
      ],
      "metadata": {
        "colab": {
          "base_uri": "https://localhost:8080/"
        },
        "id": "-YGwaiJeGbsA",
        "outputId": "b01801a9-6b86-4492-9f72-7607242e5e64"
      },
      "execution_count": 12,
      "outputs": [
        {
          "output_type": "execute_result",
          "data": {
            "text/plain": [
              "[('b', [1]), ('a', [1, 2, 3])]"
            ]
          },
          "metadata": {},
          "execution_count": 12
        }
      ]
    },
    {
      "cell_type": "markdown",
      "source": [
        "#2.5 reduceByKey()"
      ],
      "metadata": {
        "id": "d4TOe4MaHg05"
      }
    },
    {
      "cell_type": "code",
      "source": [
        "from operator import add\n",
        "myRDD = sc.parallelize([(\"a\", 1), (\"a\", 2), (\"a\", 3), (\"b\", 1)])\n",
        "\n",
        "newRDD = myRDD.reduceByKey(add)\n",
        "newRDD.collect()"
      ],
      "metadata": {
        "colab": {
          "base_uri": "https://localhost:8080/"
        },
        "id": "44tRPlqQHL55",
        "outputId": "b198a9ec-2f44-4df3-dd69-7901c7dd9bda"
      },
      "execution_count": 14,
      "outputs": [
        {
          "output_type": "execute_result",
          "data": {
            "text/plain": [
              "[('b', 1), ('a', 6)]"
            ]
          },
          "metadata": {},
          "execution_count": 14
        }
      ]
    },
    {
      "cell_type": "markdown",
      "source": [
        "#2.6 sortByKey()"
      ],
      "metadata": {
        "id": "C67W8RdVIYOI"
      }
    },
    {
      "cell_type": "code",
      "source": [
        "from operator import add\n",
        "myRDD = sc.parallelize([(\"a\", 1), (\"d\", 2), (\"c\", 3), (\"b\", 1)])\n",
        "\n",
        "newRDD = myRDD.sortByKey()\n",
        "newRDD.collect()"
      ],
      "metadata": {
        "colab": {
          "base_uri": "https://localhost:8080/"
        },
        "id": "8rNXWFwuH_GA",
        "outputId": "80bb9bde-9049-4fc9-d870-d37012086dbb"
      },
      "execution_count": 15,
      "outputs": [
        {
          "output_type": "execute_result",
          "data": {
            "text/plain": [
              "[('a', 1), ('b', 1), ('c', 3), ('d', 2)]"
            ]
          },
          "metadata": {},
          "execution_count": 15
        }
      ]
    },
    {
      "cell_type": "markdown",
      "source": [
        "#2.7 union()"
      ],
      "metadata": {
        "id": "aJgYCajDI2OO"
      }
    },
    {
      "cell_type": "code",
      "source": [
        "myRDD1 = sc.parallelize([1,2,3,4])\n",
        "myRDD2 = sc.parallelize([3,4,5,6,7])\n",
        "\n",
        "newRDD = myRDD1.union(myRDD2)\n",
        "newRDD.collect()"
      ],
      "metadata": {
        "colab": {
          "base_uri": "https://localhost:8080/"
        },
        "id": "wtJ32PsyI6iw",
        "outputId": "5b6c7514-2e83-4e73-c420-9691eb9b5a83"
      },
      "execution_count": 16,
      "outputs": [
        {
          "output_type": "execute_result",
          "data": {
            "text/plain": [
              "[1, 2, 3, 4, 3, 4, 5, 6, 7]"
            ]
          },
          "metadata": {},
          "execution_count": 16
        }
      ]
    },
    {
      "cell_type": "markdown",
      "source": [
        "#3 Actions"
      ],
      "metadata": {
        "id": "SNLMyLo8KxhA"
      }
    },
    {
      "cell_type": "markdown",
      "source": [
        "#3.1 count()"
      ],
      "metadata": {
        "id": "2giLEgqfKr2X"
      }
    },
    {
      "cell_type": "code",
      "source": [
        "data = [\"scala\", \"Python\", \"Java\", \"R\"]\n",
        "myRDD = sc.parallelize(data)\n",
        "myRDD.count()"
      ],
      "metadata": {
        "colab": {
          "base_uri": "https://localhost:8080/"
        },
        "id": "4RKelKOtKurP",
        "outputId": "7f7e27b9-d5c9-478a-8639-640427b4285b"
      },
      "execution_count": 17,
      "outputs": [
        {
          "output_type": "execute_result",
          "data": {
            "text/plain": [
              "4"
            ]
          },
          "metadata": {},
          "execution_count": 17
        }
      ]
    },
    {
      "cell_type": "code",
      "source": [
        "data = [1,2,3,3,4,5,5,6,7]\n",
        "myRDD = sc.parallelize(data)\n",
        "myRDD.count()"
      ],
      "metadata": {
        "colab": {
          "base_uri": "https://localhost:8080/"
        },
        "id": "vWrl-BOxLOLI",
        "outputId": "804c90e0-8f5f-46c9-c397-5fab20b51358"
      },
      "execution_count": 18,
      "outputs": [
        {
          "output_type": "execute_result",
          "data": {
            "text/plain": [
              "9"
            ]
          },
          "metadata": {},
          "execution_count": 18
        }
      ]
    },
    {
      "cell_type": "markdown",
      "source": [
        "#3.2 reduce()"
      ],
      "metadata": {
        "id": "6XW1Y7FdLUuI"
      }
    },
    {
      "cell_type": "code",
      "source": [
        "data = [1,2,3,4,5]\n",
        "myRDD = sc.parallelize(data)\n",
        "myRDD.reduce(lambda x, y : x * y)"
      ],
      "metadata": {
        "colab": {
          "base_uri": "https://localhost:8080/"
        },
        "id": "WV-5a9ZvLSiW",
        "outputId": "1dc53ce8-912f-41c5-f751-5ba4d999fcf2"
      },
      "execution_count": 20,
      "outputs": [
        {
          "output_type": "execute_result",
          "data": {
            "text/plain": [
              "120"
            ]
          },
          "metadata": {},
          "execution_count": 20
        }
      ]
    },
    {
      "cell_type": "markdown",
      "source": [
        "#3.3 foreach()"
      ],
      "metadata": {
        "id": "hjPRhCptMCIf"
      }
    },
    {
      "cell_type": "code",
      "source": [
        "def fun(x):\n",
        "  print(x)\n",
        "data = [\"scala\", \"Python\", \"Java\", \"R\"]\n",
        "myRDD = sc.parallelize(data)\n",
        "myRDD.foreach(fun)"
      ],
      "metadata": {
        "id": "xYAnyro5LpXv"
      },
      "execution_count": 21,
      "outputs": []
    },
    {
      "cell_type": "markdown",
      "source": [
        "#3.4 countByValue()"
      ],
      "metadata": {
        "id": "PHM26foAMZxv"
      }
    },
    {
      "cell_type": "code",
      "source": [
        "data = [\"scala\", \"Python\", \"scala\", \"R\", \"Python\", \"Java\", \"Python\", \"R\", \"scala\", \"Python\", \"R\"]\n",
        "myRDD = sc.parallelize(data)\n",
        "myRDD.countByValue().items()"
      ],
      "metadata": {
        "colab": {
          "base_uri": "https://localhost:8080/"
        },
        "id": "W3hgYomrMStN",
        "outputId": "1ade9ddb-b3b5-4cc0-f4bb-5169166785f9"
      },
      "execution_count": 24,
      "outputs": [
        {
          "output_type": "execute_result",
          "data": {
            "text/plain": [
              "dict_items([('scala', 3), ('Python', 4), ('R', 3), ('Java', 1)])"
            ]
          },
          "metadata": {},
          "execution_count": 24
        }
      ]
    },
    {
      "cell_type": "markdown",
      "source": [
        "#3.5 countbyKey()"
      ],
      "metadata": {
        "id": "X7siVOGVNXWZ"
      }
    },
    {
      "cell_type": "code",
      "source": [
        "data = [(\"a\", 1), (\"d\", 1), (\"c\", 1), (\"b\", 1), (\"b\", 1)]\n",
        "myRDD = sc.parallelize(data)\n",
        "myRDD.countByKey().items()"
      ],
      "metadata": {
        "colab": {
          "base_uri": "https://localhost:8080/"
        },
        "id": "12YLcl-NNETm",
        "outputId": "900c4488-ac84-4a78-96c7-66fec16b4225"
      },
      "execution_count": 26,
      "outputs": [
        {
          "output_type": "execute_result",
          "data": {
            "text/plain": [
              "dict_items([('a', 1), ('d', 1), ('c', 1), ('b', 2)])"
            ]
          },
          "metadata": {},
          "execution_count": 26
        }
      ]
    },
    {
      "cell_type": "markdown",
      "source": [
        "#3.6 take(n)"
      ],
      "metadata": {
        "id": "NA9dopeCOI02"
      }
    },
    {
      "cell_type": "code",
      "source": [
        "data = [1,2,3,3,4,5,5,6,7]\n",
        "myRDD = sc.parallelize(data)\n",
        "myRDD.take(3)"
      ],
      "metadata": {
        "colab": {
          "base_uri": "https://localhost:8080/"
        },
        "id": "G-VLLzqPOBI4",
        "outputId": "9de36a25-501b-408a-c34f-2a88f04f4f77"
      },
      "execution_count": 27,
      "outputs": [
        {
          "output_type": "execute_result",
          "data": {
            "text/plain": [
              "[1, 2, 3]"
            ]
          },
          "metadata": {},
          "execution_count": 27
        }
      ]
    },
    {
      "cell_type": "markdown",
      "source": [
        "#3.7 top(n)"
      ],
      "metadata": {
        "id": "o6AroOm9OmIg"
      }
    },
    {
      "cell_type": "code",
      "source": [
        "data = [1,2,3,3,4,5,5,6,7]\n",
        "myRDD = sc.parallelize(data)\n",
        "myRDD.top(3)"
      ],
      "metadata": {
        "colab": {
          "base_uri": "https://localhost:8080/"
        },
        "id": "J2U6uB2NOWzm",
        "outputId": "19806159-e97d-4ad1-9069-16aeb4edae31"
      },
      "execution_count": 28,
      "outputs": [
        {
          "output_type": "execute_result",
          "data": {
            "text/plain": [
              "[7, 6, 5]"
            ]
          },
          "metadata": {},
          "execution_count": 28
        }
      ]
    },
    {
      "cell_type": "code",
      "source": [],
      "metadata": {
        "id": "Dfe1G-prOjaW"
      },
      "execution_count": null,
      "outputs": []
    }
  ]
}