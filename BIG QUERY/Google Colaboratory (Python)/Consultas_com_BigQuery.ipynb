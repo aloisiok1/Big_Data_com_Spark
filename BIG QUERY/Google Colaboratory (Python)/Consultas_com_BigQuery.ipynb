{
  "nbformat": 4,
  "nbformat_minor": 0,
  "metadata": {
    "colab": {
      "provenance": []
    },
    "kernelspec": {
      "name": "python3",
      "display_name": "Python 3"
    },
    "language_info": {
      "name": "python"
    }
  },
  "cells": [
    {
      "cell_type": "code",
      "execution_count": 66,
      "metadata": {
        "id": "Qkq5T-yjDDS7"
      },
      "outputs": [],
      "source": [
        "from google.colab import auth\n",
        "auth.authenticate_user()"
      ]
    },
    {
      "cell_type": "code",
      "source": [
        "!pip install google-cloud-bigquery"
      ],
      "metadata": {
        "colab": {
          "base_uri": "https://localhost:8080/"
        },
        "id": "Dm2TpVyYI4KB",
        "outputId": "7aebdcf2-d642-4968-b4ee-dcc99a32d7fc"
      },
      "execution_count": 67,
      "outputs": [
        {
          "output_type": "stream",
          "name": "stdout",
          "text": [
            "Requirement already satisfied: google-cloud-bigquery in /usr/local/lib/python3.10/dist-packages (3.10.0)\n",
            "Requirement already satisfied: grpcio<2.0dev,>=1.47.0 in /usr/local/lib/python3.10/dist-packages (from google-cloud-bigquery) (1.59.0)\n",
            "Requirement already satisfied: google-api-core[grpc]!=2.0.*,!=2.1.*,!=2.2.*,!=2.3.0,<3.0.0dev,>=1.31.5 in /usr/local/lib/python3.10/dist-packages (from google-cloud-bigquery) (2.11.1)\n",
            "Requirement already satisfied: proto-plus<2.0.0dev,>=1.15.0 in /usr/local/lib/python3.10/dist-packages (from google-cloud-bigquery) (1.22.3)\n",
            "Requirement already satisfied: google-cloud-core<3.0.0dev,>=1.6.0 in /usr/local/lib/python3.10/dist-packages (from google-cloud-bigquery) (2.3.3)\n",
            "Requirement already satisfied: google-resumable-media<3.0dev,>=0.6.0 in /usr/local/lib/python3.10/dist-packages (from google-cloud-bigquery) (2.6.0)\n",
            "Requirement already satisfied: packaging>=20.0.0 in /usr/local/lib/python3.10/dist-packages (from google-cloud-bigquery) (23.2)\n",
            "Requirement already satisfied: protobuf!=3.20.0,!=3.20.1,!=4.21.0,!=4.21.1,!=4.21.2,!=4.21.3,!=4.21.4,!=4.21.5,<5.0.0dev,>=3.19.5 in /usr/local/lib/python3.10/dist-packages (from google-cloud-bigquery) (3.20.3)\n",
            "Requirement already satisfied: python-dateutil<3.0dev,>=2.7.2 in /usr/local/lib/python3.10/dist-packages (from google-cloud-bigquery) (2.8.2)\n",
            "Requirement already satisfied: requests<3.0.0dev,>=2.21.0 in /usr/local/lib/python3.10/dist-packages (from google-cloud-bigquery) (2.31.0)\n",
            "Requirement already satisfied: googleapis-common-protos<2.0.dev0,>=1.56.2 in /usr/local/lib/python3.10/dist-packages (from google-api-core[grpc]!=2.0.*,!=2.1.*,!=2.2.*,!=2.3.0,<3.0.0dev,>=1.31.5->google-cloud-bigquery) (1.60.0)\n",
            "Requirement already satisfied: google-auth<3.0.dev0,>=2.14.1 in /usr/local/lib/python3.10/dist-packages (from google-api-core[grpc]!=2.0.*,!=2.1.*,!=2.2.*,!=2.3.0,<3.0.0dev,>=1.31.5->google-cloud-bigquery) (2.17.3)\n",
            "Requirement already satisfied: grpcio-status<2.0.dev0,>=1.33.2 in /usr/local/lib/python3.10/dist-packages (from google-api-core[grpc]!=2.0.*,!=2.1.*,!=2.2.*,!=2.3.0,<3.0.0dev,>=1.31.5->google-cloud-bigquery) (1.48.2)\n",
            "Requirement already satisfied: google-crc32c<2.0dev,>=1.0 in /usr/local/lib/python3.10/dist-packages (from google-resumable-media<3.0dev,>=0.6.0->google-cloud-bigquery) (1.5.0)\n",
            "Requirement already satisfied: six>=1.5 in /usr/local/lib/python3.10/dist-packages (from python-dateutil<3.0dev,>=2.7.2->google-cloud-bigquery) (1.16.0)\n",
            "Requirement already satisfied: charset-normalizer<4,>=2 in /usr/local/lib/python3.10/dist-packages (from requests<3.0.0dev,>=2.21.0->google-cloud-bigquery) (3.3.0)\n",
            "Requirement already satisfied: idna<4,>=2.5 in /usr/local/lib/python3.10/dist-packages (from requests<3.0.0dev,>=2.21.0->google-cloud-bigquery) (3.4)\n",
            "Requirement already satisfied: urllib3<3,>=1.21.1 in /usr/local/lib/python3.10/dist-packages (from requests<3.0.0dev,>=2.21.0->google-cloud-bigquery) (2.0.6)\n",
            "Requirement already satisfied: certifi>=2017.4.17 in /usr/local/lib/python3.10/dist-packages (from requests<3.0.0dev,>=2.21.0->google-cloud-bigquery) (2023.7.22)\n",
            "Requirement already satisfied: cachetools<6.0,>=2.0.0 in /usr/local/lib/python3.10/dist-packages (from google-auth<3.0.dev0,>=2.14.1->google-api-core[grpc]!=2.0.*,!=2.1.*,!=2.2.*,!=2.3.0,<3.0.0dev,>=1.31.5->google-cloud-bigquery) (5.3.1)\n",
            "Requirement already satisfied: pyasn1-modules>=0.2.1 in /usr/local/lib/python3.10/dist-packages (from google-auth<3.0.dev0,>=2.14.1->google-api-core[grpc]!=2.0.*,!=2.1.*,!=2.2.*,!=2.3.0,<3.0.0dev,>=1.31.5->google-cloud-bigquery) (0.3.0)\n",
            "Requirement already satisfied: rsa<5,>=3.1.4 in /usr/local/lib/python3.10/dist-packages (from google-auth<3.0.dev0,>=2.14.1->google-api-core[grpc]!=2.0.*,!=2.1.*,!=2.2.*,!=2.3.0,<3.0.0dev,>=1.31.5->google-cloud-bigquery) (4.9)\n",
            "Requirement already satisfied: pyasn1<0.6.0,>=0.4.6 in /usr/local/lib/python3.10/dist-packages (from pyasn1-modules>=0.2.1->google-auth<3.0.dev0,>=2.14.1->google-api-core[grpc]!=2.0.*,!=2.1.*,!=2.2.*,!=2.3.0,<3.0.0dev,>=1.31.5->google-cloud-bigquery) (0.5.0)\n"
          ]
        }
      ]
    },
    {
      "cell_type": "code",
      "source": [
        "from google.cloud import bigquery"
      ],
      "metadata": {
        "id": "ixvI_Ur7JCJX"
      },
      "execution_count": 68,
      "outputs": []
    },
    {
      "cell_type": "code",
      "source": [
        "project_id = \"orbital-ego-400021\" # Substitua pelo ID do seu projeto no Google Cloud\n",
        "client = bigquery.Client(project=project_id)"
      ],
      "metadata": {
        "id": "JG0Wn2fSJH2v"
      },
      "execution_count": 69,
      "outputs": []
    },
    {
      "cell_type": "code",
      "source": [
        "query = '''SELECT * FROM `orbital-ego-400021.Teste12.teste12` LIMIT 10'''\n",
        "query_job = client.query(query)\n",
        "results = query_job.result()\n",
        "for row in results:\n",
        "    print(row)"
      ],
      "metadata": {
        "colab": {
          "base_uri": "https://localhost:8080/"
        },
        "id": "eaoxaKBMJlrN",
        "outputId": "de871afe-2d7f-4d1a-be5b-fa1aa13d49ba"
      },
      "execution_count": 70,
      "outputs": [
        {
          "output_type": "stream",
          "name": "stdout",
          "text": [
            "Row((datetime.date(2012, 2, 2), 9718, 22844.749999999996, 86467.97999999998, 1218271.9999999995, 125.36242025108047, 0.0, 16262.4), {'date': 0, 'transactions': 1, 'total_volume_sold_gallons': 2, 'total_volume_sold_liters': 3, 'total_revenue_sales': 4, 'avg_revenue_sales': 5, 'min_revenue_sales': 6, 'max_revenue_sales': 7})\n",
            "Row((datetime.date(2012, 2, 6), 8791, 23501.3, 88957.93000000002, 1165230.5500000005, 132.54812308042315, 0.0, 17226.0), {'date': 0, 'transactions': 1, 'total_volume_sold_gallons': 2, 'total_volume_sold_liters': 3, 'total_revenue_sales': 4, 'avg_revenue_sales': 5, 'min_revenue_sales': 6, 'max_revenue_sales': 7})\n",
            "Row((datetime.date(2012, 2, 8), 9132, 20939.840000000004, 79262.88999999997, 986933.9099999997, 108.07423455978974, 0.0, 19110.0), {'date': 0, 'transactions': 1, 'total_volume_sold_gallons': 2, 'total_volume_sold_liters': 3, 'total_revenue_sales': 4, 'avg_revenue_sales': 5, 'min_revenue_sales': 6, 'max_revenue_sales': 7})\n",
            "Row((datetime.date(2012, 2, 9), 9562, 21348.58, 80802.92, 1150050.0900000005, 120.2729648609078, 0.0, 25584.0), {'date': 0, 'transactions': 1, 'total_volume_sold_gallons': 2, 'total_volume_sold_liters': 3, 'total_revenue_sales': 4, 'avg_revenue_sales': 5, 'min_revenue_sales': 6, 'max_revenue_sales': 7})\n",
            "Row((datetime.date(2012, 2, 13), 8237, 21040.999999999996, 79644.43000000001, 1039052.1499999999, 126.1444882845696, 0.0, 17814.48), {'date': 0, 'transactions': 1, 'total_volume_sold_gallons': 2, 'total_volume_sold_liters': 3, 'total_revenue_sales': 4, 'avg_revenue_sales': 5, 'min_revenue_sales': 6, 'max_revenue_sales': 7})\n",
            "Row((datetime.date(2012, 2, 15), 8667, 21117.60000000001, 79938.59999999998, 962829.3100000002, 111.09141686858197, 0.0, 26856.0), {'date': 0, 'transactions': 1, 'total_volume_sold_gallons': 2, 'total_volume_sold_liters': 3, 'total_revenue_sales': 4, 'avg_revenue_sales': 5, 'min_revenue_sales': 6, 'max_revenue_sales': 7})\n",
            "Row((datetime.date(2012, 2, 16), 9296, 21782.540000000005, 82448.41, 1132707.0000000002, 121.84885972461275, 0.0, 16262.4), {'date': 0, 'transactions': 1, 'total_volume_sold_gallons': 2, 'total_volume_sold_liters': 3, 'total_revenue_sales': 4, 'avg_revenue_sales': 5, 'min_revenue_sales': 6, 'max_revenue_sales': 7})\n",
            "Row((datetime.date(2012, 2, 20), 8830, 23150.330000000005, 87629.53999999998, 1135350.7899999993, 128.5787984144961, 0.0, 17581.2), {'date': 0, 'transactions': 1, 'total_volume_sold_gallons': 2, 'total_volume_sold_liters': 3, 'total_revenue_sales': 4, 'avg_revenue_sales': 5, 'min_revenue_sales': 6, 'max_revenue_sales': 7})\n",
            "Row((datetime.date(2012, 2, 22), 8976, 20405.740000000016, 77243.33999999997, 998421.72, 111.2323663101604, 0.0, 27183.0), {'date': 0, 'transactions': 1, 'total_volume_sold_gallons': 2, 'total_volume_sold_liters': 3, 'total_revenue_sales': 4, 'avg_revenue_sales': 5, 'min_revenue_sales': 6, 'max_revenue_sales': 7})\n",
            "Row((datetime.date(2012, 2, 27), 8556, 21984.38, 83217.67999999998, 1070445.6800000002, 125.11052828424496, 0.0, 10747.2), {'date': 0, 'transactions': 1, 'total_volume_sold_gallons': 2, 'total_volume_sold_liters': 3, 'total_revenue_sales': 4, 'avg_revenue_sales': 5, 'min_revenue_sales': 6, 'max_revenue_sales': 7})\n"
          ]
        }
      ]
    },
    {
      "cell_type": "code",
      "source": [],
      "metadata": {
        "id": "Kta4xOtqKbn6"
      },
      "execution_count": 70,
      "outputs": []
    }
  ]
}