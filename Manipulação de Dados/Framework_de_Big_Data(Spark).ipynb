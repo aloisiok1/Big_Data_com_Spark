{
  "nbformat": 4,
  "nbformat_minor": 0,
  "metadata": {
    "colab": {
      "provenance": []
    },
    "kernelspec": {
      "name": "python3",
      "display_name": "Python 3"
    },
    "language_info": {
      "name": "python"
    }
  },
  "cells": [
    {
      "cell_type": "markdown",
      "source": [
        "## PySpark - Instalando a biblioteca no google colab\n"
      ],
      "metadata": {
        "id": "O61i95uhsN5-"
      }
    },
    {
      "cell_type": "code",
      "execution_count": 1,
      "metadata": {
        "colab": {
          "base_uri": "https://localhost:8080/"
        },
        "id": "fhlPSQnvr90j",
        "outputId": "c7389428-fc21-47d8-ccd9-2383307b9771"
      },
      "outputs": [
        {
          "output_type": "stream",
          "name": "stdout",
          "text": [
            "Collecting pyspark\n",
            "  Downloading pyspark-3.4.1.tar.gz (310.8 MB)\n",
            "\u001b[2K     \u001b[90m━━━━━━━━━━━━━━━━━━━━━━━━━━━━━━━━━━━━━━━\u001b[0m \u001b[32m310.8/310.8 MB\u001b[0m \u001b[31m2.1 MB/s\u001b[0m eta \u001b[36m0:00:00\u001b[0m\n",
            "\u001b[?25h  Preparing metadata (setup.py) ... \u001b[?25l\u001b[?25hdone\n",
            "Requirement already satisfied: py4j==0.10.9.7 in /usr/local/lib/python3.10/dist-packages (from pyspark) (0.10.9.7)\n",
            "Building wheels for collected packages: pyspark\n",
            "  Building wheel for pyspark (setup.py) ... \u001b[?25l\u001b[?25hdone\n",
            "  Created wheel for pyspark: filename=pyspark-3.4.1-py2.py3-none-any.whl size=311285387 sha256=6b08812855d40e3f3af09d39667a8c85f6dd07cbc968bc2cb5469a7f6721b497\n",
            "  Stored in directory: /root/.cache/pip/wheels/0d/77/a3/ff2f74cc9ab41f8f594dabf0579c2a7c6de920d584206e0834\n",
            "Successfully built pyspark\n",
            "Installing collected packages: pyspark\n",
            "Successfully installed pyspark-3.4.1\n"
          ]
        }
      ],
      "source": [
        "!pip install pyspark"
      ]
    },
    {
      "cell_type": "code",
      "source": [
        "!pip install findspark"
      ],
      "metadata": {
        "colab": {
          "base_uri": "https://localhost:8080/"
        },
        "id": "zSsCcDJEsH2V",
        "outputId": "48764361-8e87-44b7-ff08-7958b25c47ad"
      },
      "execution_count": 2,
      "outputs": [
        {
          "output_type": "stream",
          "name": "stdout",
          "text": [
            "Collecting findspark\n",
            "  Downloading findspark-2.0.1-py2.py3-none-any.whl (4.4 kB)\n",
            "Installing collected packages: findspark\n",
            "Successfully installed findspark-2.0.1\n"
          ]
        }
      ]
    },
    {
      "cell_type": "code",
      "source": [
        "import findspark\n",
        "findspark.init()\n",
        "from pyspark.sql import SparkSession\n",
        "spark = SparkSession.builder.master(\"local[*]\").getOrCreate()"
      ],
      "metadata": {
        "id": "CGsARAdvsehm"
      },
      "execution_count": 4,
      "outputs": []
    },
    {
      "cell_type": "code",
      "source": [
        "df=spark.sql('''select 'Sucesso total, estamos online!' as hello''')\n",
        "df.show()"
      ],
      "metadata": {
        "colab": {
          "base_uri": "https://localhost:8080/"
        },
        "id": "Ky-1qxxbs6tr",
        "outputId": "47c4d8a1-3fba-4fdb-b949-01f1f2a06514"
      },
      "execution_count": 5,
      "outputs": [
        {
          "output_type": "stream",
          "name": "stdout",
          "text": [
            "+--------------------+\n",
            "|               hello|\n",
            "+--------------------+\n",
            "|Sucesso total, es...|\n",
            "+--------------------+\n",
            "\n"
          ]
        }
      ]
    },
    {
      "cell_type": "code",
      "source": [
        "#importando as bibliotecas do spark\n",
        "from pyspark.sql import Row, DataFrame\n",
        "from pyspark.sql.types import StringType, StructType, StructField, IntegerType\n",
        "from pyspark.sql.functions import col, expr, lit, substring, concat, concat_ws, when, coalesce\n",
        "from pyspark.sql import functions as F #for more SQL functions\n",
        "from functools import reduce"
      ],
      "metadata": {
        "id": "OfXbJ6BrtUoi"
      },
      "execution_count": 7,
      "outputs": []
    },
    {
      "cell_type": "markdown",
      "source": [
        "##1. Data Manipulations using Spark"
      ],
      "metadata": {
        "id": "75aYb_dhulaD"
      }
    },
    {
      "cell_type": "code",
      "source": [
        "df=spark.read.csv(\"/content/banklist.csv\", sep=\",\", inferSchema=True, header=True)\n",
        "\n",
        "print(\"df.count: \", df.count())\n",
        "print(\"df.col ct: \", len(df.columns))\n",
        "print(\"df.columns: \", df.columns)"
      ],
      "metadata": {
        "colab": {
          "base_uri": "https://localhost:8080/"
        },
        "id": "exPFbz1YuGLF",
        "outputId": "c01f4884-a7a7-4251-c54d-31c8aae8f26d"
      },
      "execution_count": 8,
      "outputs": [
        {
          "output_type": "stream",
          "name": "stdout",
          "text": [
            "df.count:  561\n",
            "df.col ct:  6\n",
            "df.columns:  ['Bank Name', 'City', 'ST', 'CERT', 'Acquiring Institution', 'Closing Date']\n"
          ]
        }
      ]
    },
    {
      "cell_type": "markdown",
      "source": [
        "##2. Using SQL in PySpark"
      ],
      "metadata": {
        "id": "iKkSBc2txCTr"
      }
    },
    {
      "cell_type": "code",
      "source": [
        "df.createOrReplaceTempView(\"banklist\")\n",
        "df_check=spark.sql('''select `Bank Name`, city, `Closing Date` from banklist''')\n",
        "df_check.show()"
      ],
      "metadata": {
        "colab": {
          "base_uri": "https://localhost:8080/"
        },
        "id": "dyAS5xaqwVC8",
        "outputId": "48414020-18ca-4982-daa5-3396086bf94f"
      },
      "execution_count": 12,
      "outputs": [
        {
          "output_type": "stream",
          "name": "stdout",
          "text": [
            "+--------------------+------------------+------------+\n",
            "|           Bank Name|              city|Closing Date|\n",
            "+--------------------+------------------+------------+\n",
            "|The First State Bank|     Barboursville|    3-Apr-20|\n",
            "|  Ericson State Bank|           Ericson|   14-Feb-20|\n",
            "|City National Ban...|            Newark|    1-Nov-19|\n",
            "|       Resolute Bank|            Maumee|   25-Oct-19|\n",
            "|Louisa Community ...|            Louisa|   25-Oct-19|\n",
            "|The Enloe State Bank|            Cooper|   31-May-19|\n",
            "|Washington Federa...|           Chicago|   15-Dec-17|\n",
            "|The Farmers and M...|           Argonia|   13-Oct-17|\n",
            "| Fayette County Bank|        Saint Elmo|   26-May-17|\n",
            "|Guaranty Bank, (d...|         Milwaukee|    5-May-17|\n",
            "|      First NBC Bank|       New Orleans|   28-Apr-17|\n",
            "|       Proficio Bank|Cottonwood Heights|    3-Mar-17|\n",
            "|Seaway Bank and T...|           Chicago|   27-Jan-17|\n",
            "|Harvest Community...|        Pennsville|   13-Jan-17|\n",
            "|         Allied Bank|          Mulberry|   23-Sep-16|\n",
            "|The Woodbury Bank...|          Woodbury|   19-Aug-16|\n",
            "|First CornerStone...|   King of Prussia|    6-May-16|\n",
            "|  Trust Company Bank|           Memphis|   29-Apr-16|\n",
            "|North Milwaukee S...|         Milwaukee|   11-Mar-16|\n",
            "|Hometown National...|          Longview|    2-Oct-15|\n",
            "+--------------------+------------------+------------+\n",
            "only showing top 20 rows\n",
            "\n"
          ]
        }
      ]
    },
    {
      "cell_type": "code",
      "source": [
        "df.createOrReplaceTempView(\"banklist\")\n",
        "df_check=spark.sql('''select `Bank Name`, city, `Closing Date` from banklist''')\n",
        "df_check.show(4, truncate=False)"
      ],
      "metadata": {
        "colab": {
          "base_uri": "https://localhost:8080/"
        },
        "id": "4ryIamczxvEz",
        "outputId": "c08804a5-7da5-494f-e5cb-6070474c2d40"
      },
      "execution_count": 13,
      "outputs": [
        {
          "output_type": "stream",
          "name": "stdout",
          "text": [
            "+--------------------------------+-------------+------------+\n",
            "|Bank Name                       |city         |Closing Date|\n",
            "+--------------------------------+-------------+------------+\n",
            "|The First State Bank            |Barboursville|3-Apr-20    |\n",
            "|Ericson State Bank              |Ericson      |14-Feb-20   |\n",
            "|City National Bank of New Jersey|Newark       |1-Nov-19    |\n",
            "|Resolute Bank                   |Maumee       |25-Oct-19   |\n",
            "+--------------------------------+-------------+------------+\n",
            "only showing top 4 rows\n",
            "\n"
          ]
        }
      ]
    },
    {
      "cell_type": "markdown",
      "source": [
        "##3. DataFrame Basic Operations"
      ],
      "metadata": {
        "id": "cG3lQsl2yLOi"
      }
    },
    {
      "cell_type": "code",
      "source": [
        "df.describe().show()"
      ],
      "metadata": {
        "colab": {
          "base_uri": "https://localhost:8080/"
        },
        "id": "3RXCTaquyFl6",
        "outputId": "ebe22938-58f4-4b74-8f16-ff56df311b62"
      },
      "execution_count": 14,
      "outputs": [
        {
          "output_type": "stream",
          "name": "stdout",
          "text": [
            "+-------+--------------------+-------+----+-----------------+---------------------+------------+\n",
            "|summary|           Bank Name|   City|  ST|             CERT|Acquiring Institution|Closing Date|\n",
            "+-------+--------------------+-------+----+-----------------+---------------------+------------+\n",
            "|  count|                 561|    561| 561|              561|                  561|         561|\n",
            "|   mean|                null|   null|null|31685.68449197861|                 null|        null|\n",
            "| stddev|                null|   null|null|16446.65659309965|                 null|        null|\n",
            "|    min|1st American Stat...|Acworth|  AL|               91|      1st United Bank|    1-Aug-08|\n",
            "|    max|               ebank|Wyoming|  WY|            58701|  Your Community Bank|    9-Sep-11|\n",
            "+-------+--------------------+-------+----+-----------------+---------------------+------------+\n",
            "\n"
          ]
        }
      ]
    },
    {
      "cell_type": "code",
      "source": [
        "df.describe(\"City\", \"ST\").show()"
      ],
      "metadata": {
        "colab": {
          "base_uri": "https://localhost:8080/"
        },
        "id": "yYQSvHCfyTIr",
        "outputId": "1cf3edc1-f37f-4079-8f13-952a8f397857"
      },
      "execution_count": 15,
      "outputs": [
        {
          "output_type": "stream",
          "name": "stdout",
          "text": [
            "+-------+-------+----+\n",
            "|summary|   City|  ST|\n",
            "+-------+-------+----+\n",
            "|  count|    561| 561|\n",
            "|   mean|   null|null|\n",
            "| stddev|   null|null|\n",
            "|    min|Acworth|  AL|\n",
            "|    max|Wyoming|  WY|\n",
            "+-------+-------+----+\n",
            "\n"
          ]
        }
      ]
    },
    {
      "cell_type": "markdown",
      "source": [
        "Count, Columns and Schema"
      ],
      "metadata": {
        "id": "1chq2bYvykma"
      }
    },
    {
      "cell_type": "code",
      "source": [
        "print(\"total de Linhas: \", df.count())\n",
        "print(\"total de Colunas: \", len(df.columns))\n",
        "print(\"Colunas: \", df.columns)\n",
        "print(\"Tipo do Dado: \", df.dtypes)\n",
        "print(\"Schema: \", df.schema)"
      ],
      "metadata": {
        "colab": {
          "base_uri": "https://localhost:8080/"
        },
        "id": "Z4Mzjaa-yhvR",
        "outputId": "71371f7c-1595-461e-f256-9d653320bda9"
      },
      "execution_count": 21,
      "outputs": [
        {
          "output_type": "stream",
          "name": "stdout",
          "text": [
            "total de Linhas:  561\n",
            "total de Colunas:  6\n",
            "Colunas:  ['Bank Name', 'City', 'ST', 'CERT', 'Acquiring Institution', 'Closing Date']\n",
            "Tipo do Dado:  [('Bank Name', 'string'), ('City', 'string'), ('ST', 'string'), ('CERT', 'int'), ('Acquiring Institution', 'string'), ('Closing Date', 'string')]\n",
            "Schema:  StructType([StructField('Bank Name', StringType(), True), StructField('City', StringType(), True), StructField('ST', StringType(), True), StructField('CERT', IntegerType(), True), StructField('Acquiring Institution', StringType(), True), StructField('Closing Date', StringType(), True)])\n"
          ]
        }
      ]
    },
    {
      "cell_type": "code",
      "source": [
        "df.printSchema()"
      ],
      "metadata": {
        "colab": {
          "base_uri": "https://localhost:8080/"
        },
        "id": "w9IlXG7bzAVr",
        "outputId": "2594fd75-e596-4783-f393-d2c793184206"
      },
      "execution_count": 22,
      "outputs": [
        {
          "output_type": "stream",
          "name": "stdout",
          "text": [
            "root\n",
            " |-- Bank Name: string (nullable = true)\n",
            " |-- City: string (nullable = true)\n",
            " |-- ST: string (nullable = true)\n",
            " |-- CERT: integer (nullable = true)\n",
            " |-- Acquiring Institution: string (nullable = true)\n",
            " |-- Closing Date: string (nullable = true)\n",
            "\n"
          ]
        }
      ]
    },
    {
      "cell_type": "markdown",
      "source": [
        "##Remove Duplicates"
      ],
      "metadata": {
        "id": "h4Bude5MzkJr"
      }
    },
    {
      "cell_type": "code",
      "source": [
        "df=df.dropDuplicates()\n",
        "print(\"df.count: \", df.count())\n",
        "print(\"df.columns: \", df.columns)"
      ],
      "metadata": {
        "colab": {
          "base_uri": "https://localhost:8080/"
        },
        "id": "bpZM_YpQzciC",
        "outputId": "87145578-0911-40f0-e60c-0955ec84b180"
      },
      "execution_count": 23,
      "outputs": [
        {
          "output_type": "stream",
          "name": "stdout",
          "text": [
            "df.count:  561\n",
            "df.columns:  ['Bank Name', 'City', 'ST', 'CERT', 'Acquiring Institution', 'Closing Date']\n"
          ]
        }
      ]
    },
    {
      "cell_type": "markdown",
      "source": [
        "##Select Specific Columns"
      ],
      "metadata": {
        "id": "SsNckmCCz_j8"
      }
    },
    {
      "cell_type": "code",
      "source": [
        "df2=df.select(*[\"Bank Name\", \"City\"])\n",
        "df2.show()"
      ],
      "metadata": {
        "colab": {
          "base_uri": "https://localhost:8080/"
        },
        "id": "W0_C_Kebz2g6",
        "outputId": "03897531-842f-4754-dc15-53eded07296f"
      },
      "execution_count": 25,
      "outputs": [
        {
          "output_type": "stream",
          "name": "stdout",
          "text": [
            "+--------------------+----------------+\n",
            "|           Bank Name|            City|\n",
            "+--------------------+----------------+\n",
            "| First Bank of Idaho|         Ketchum|\n",
            "|Amcore Bank, Nati...|        Rockford|\n",
            "|        Venture Bank|           Lacey|\n",
            "|First State Bank ...|           Altus|\n",
            "|Valley Capital Ba...|            Mesa|\n",
            "|Michigan Heritage...|Farmington Hills|\n",
            "|Columbia Savings ...|      Cincinnati|\n",
            "|       Fidelity Bank|        Dearborn|\n",
            "|The Park Avenue Bank|        Valdosta|\n",
            "|Western Commercia...|  Woodland Hills|\n",
            "|        Syringa Bank|           Boise|\n",
            "|Republic Federal ...|           Miami|\n",
            "|Westside Communit...|University Place|\n",
            "|   First United Bank|           Crete|\n",
            "|HarVest Bank of M...|    Gaithersburg|\n",
            "|            BankEast|       Knoxville|\n",
            "|    Polk County Bank|        Johnston|\n",
            "|Colorado Capital ...|     Castle Rock|\n",
            "|         Access Bank|        Champlin|\n",
            "|Pacific National ...|   San Francisco|\n",
            "+--------------------+----------------+\n",
            "only showing top 20 rows\n",
            "\n"
          ]
        }
      ]
    },
    {
      "cell_type": "markdown",
      "source": [
        "##Select Multiple Columns"
      ],
      "metadata": {
        "id": "v8PLoRhw0SmZ"
      }
    },
    {
      "cell_type": "code",
      "source": [
        "col_l=list(set(df.columns) - {\"CERT\", \"ST\"})\n",
        "df2 = df.select(*col_l)\n",
        "df2.show()"
      ],
      "metadata": {
        "colab": {
          "base_uri": "https://localhost:8080/"
        },
        "id": "9O6uB4av0Luz",
        "outputId": "815f7790-e8c3-4700-eb37-7649546f1631"
      },
      "execution_count": 26,
      "outputs": [
        {
          "output_type": "stream",
          "name": "stdout",
          "text": [
            "+--------------------+------------+---------------------+----------------+\n",
            "|           Bank Name|Closing Date|Acquiring Institution|            City|\n",
            "+--------------------+------------+---------------------+----------------+\n",
            "| First Bank of Idaho|   24-Apr-09|      U.S. Bank, N.A.|         Ketchum|\n",
            "|Amcore Bank, Nati...|   23-Apr-10|          Harris N.A.|        Rockford|\n",
            "|        Venture Bank|   11-Sep-09| First-Citizens Ba...|           Lacey|\n",
            "|First State Bank ...|   31-Jul-09|         Herring Bank|           Altus|\n",
            "|Valley Capital Ba...|   11-Dec-09| Enterprise Bank &...|            Mesa|\n",
            "|Michigan Heritage...|   24-Apr-09|       Level One Bank|Farmington Hills|\n",
            "|Columbia Savings ...|   23-May-14| United Fidelity B...|      Cincinnati|\n",
            "|       Fidelity Bank|   30-Mar-12| The Huntington Na...|        Dearborn|\n",
            "|The Park Avenue Bank|   29-Apr-11|   Bank of the Ozarks|        Valdosta|\n",
            "|Western Commercia...|    5-Nov-10| First California ...|  Woodland Hills|\n",
            "|        Syringa Bank|   31-Jan-14|         Sunwest Bank|           Boise|\n",
            "|Republic Federal ...|   11-Dec-09|      1st United Bank|           Miami|\n",
            "|Westside Communit...|   11-Jan-13|         Sunwest Bank|University Place|\n",
            "|   First United Bank|   28-Sep-12| Old Plank Trail C...|           Crete|\n",
            "|HarVest Bank of M...|   27-Apr-12|             Sonabank|    Gaithersburg|\n",
            "|            BankEast|   27-Jan-12|      U.S. Bank, N.A.|       Knoxville|\n",
            "|    Polk County Bank|   18-Nov-11|  Grinnell State Bank|        Johnston|\n",
            "|Colorado Capital ...|    8-Jul-11| First-Citizens Ba...|     Castle Rock|\n",
            "|         Access Bank|    7-May-10|            PrinsBank|        Champlin|\n",
            "|Pacific National ...|   30-Oct-09|       U.S. Bank N.A.|   San Francisco|\n",
            "+--------------------+------------+---------------------+----------------+\n",
            "only showing top 20 rows\n",
            "\n"
          ]
        }
      ]
    },
    {
      "cell_type": "markdown",
      "source": [
        "##Rename Column"
      ],
      "metadata": {
        "id": "Q5CZB_au02hA"
      }
    },
    {
      "cell_type": "code",
      "source": [
        "df2 = df \\\n",
        "  .withColumnRenamed(\"Bank Name\", \"bank_name\") \\\n",
        "  .withColumnRenamed(\"Acquiring Institution\", \"acq_institution\") \\\n",
        "  .withColumnRenamed(\"Closing Date\", \"closing_date\") \\\n",
        "  .withColumnRenamed(\"ST\", \"state\") \\\n",
        "  .withColumnRenamed(\"CERT\", \"cert\")\n",
        "\n",
        "df2.show()"
      ],
      "metadata": {
        "colab": {
          "base_uri": "https://localhost:8080/"
        },
        "id": "c4cBGj-T0nk5",
        "outputId": "62132b40-7b5b-434c-8aa3-bb1475dc31e9"
      },
      "execution_count": 29,
      "outputs": [
        {
          "output_type": "stream",
          "name": "stdout",
          "text": [
            "+--------------------+----------------+-----+-----+--------------------+------------+\n",
            "|           bank_name|            City|state| cert|     acq_institution|closing_date|\n",
            "+--------------------+----------------+-----+-----+--------------------+------------+\n",
            "| First Bank of Idaho|         Ketchum|   ID|34396|     U.S. Bank, N.A.|   24-Apr-09|\n",
            "|Amcore Bank, Nati...|        Rockford|   IL| 3735|         Harris N.A.|   23-Apr-10|\n",
            "|        Venture Bank|           Lacey|   WA|22868|First-Citizens Ba...|   11-Sep-09|\n",
            "|First State Bank ...|           Altus|   OK| 9873|        Herring Bank|   31-Jul-09|\n",
            "|Valley Capital Ba...|            Mesa|   AZ|58399|Enterprise Bank &...|   11-Dec-09|\n",
            "|Michigan Heritage...|Farmington Hills|   MI|34369|      Level One Bank|   24-Apr-09|\n",
            "|Columbia Savings ...|      Cincinnati|   OH|32284|United Fidelity B...|   23-May-14|\n",
            "|       Fidelity Bank|        Dearborn|   MI|33883|The Huntington Na...|   30-Mar-12|\n",
            "|The Park Avenue Bank|        Valdosta|   GA|19797|  Bank of the Ozarks|   29-Apr-11|\n",
            "|Western Commercia...|  Woodland Hills|   CA|58087|First California ...|    5-Nov-10|\n",
            "|        Syringa Bank|           Boise|   ID|34296|        Sunwest Bank|   31-Jan-14|\n",
            "|Republic Federal ...|           Miami|   FL|22846|     1st United Bank|   11-Dec-09|\n",
            "|Westside Communit...|University Place|   WA|33997|        Sunwest Bank|   11-Jan-13|\n",
            "|   First United Bank|           Crete|   IL|20685|Old Plank Trail C...|   28-Sep-12|\n",
            "|HarVest Bank of M...|    Gaithersburg|   MD|57766|            Sonabank|   27-Apr-12|\n",
            "|            BankEast|       Knoxville|   TN|19869|     U.S. Bank, N.A.|   27-Jan-12|\n",
            "|    Polk County Bank|        Johnston|   IA|14194| Grinnell State Bank|   18-Nov-11|\n",
            "|Colorado Capital ...|     Castle Rock|   CO|34522|First-Citizens Ba...|    8-Jul-11|\n",
            "|         Access Bank|        Champlin|   MN|16476|           PrinsBank|    7-May-10|\n",
            "|Pacific National ...|   San Francisco|   CA|30006|      U.S. Bank N.A.|   30-Oct-09|\n",
            "+--------------------+----------------+-----+-----+--------------------+------------+\n",
            "only showing top 20 rows\n",
            "\n"
          ]
        }
      ]
    },
    {
      "cell_type": "code",
      "source": [],
      "metadata": {
        "id": "5mJO6u5q111i"
      },
      "execution_count": null,
      "outputs": []
    }
  ]
}