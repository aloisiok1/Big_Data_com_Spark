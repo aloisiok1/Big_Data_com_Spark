{
  "nbformat": 4,
  "nbformat_minor": 0,
  "metadata": {
    "colab": {
      "provenance": [],
      "toc_visible": true
    },
    "kernelspec": {
      "name": "python3",
      "display_name": "Python 3"
    },
    "language_info": {
      "name": "python"
    }
  },
  "cells": [
    {
      "cell_type": "markdown",
      "source": [
        "##1  PySpark - Instalando a biblioteca no google colab\n"
      ],
      "metadata": {
        "id": "O61i95uhsN5-"
      }
    },
    {
      "cell_type": "code",
      "execution_count": 1,
      "metadata": {
        "colab": {
          "base_uri": "https://localhost:8080/"
        },
        "id": "fhlPSQnvr90j",
        "outputId": "7a78becc-e32a-4787-8454-c144e8f9adb7"
      },
      "outputs": [
        {
          "output_type": "stream",
          "name": "stdout",
          "text": [
            "Collecting pyspark\n",
            "  Downloading pyspark-3.4.1.tar.gz (310.8 MB)\n",
            "\u001b[2K     \u001b[90m━━━━━━━━━━━━━━━━━━━━━━━━━━━━━━━━━━━━━━━\u001b[0m \u001b[32m310.8/310.8 MB\u001b[0m \u001b[31m2.4 MB/s\u001b[0m eta \u001b[36m0:00:00\u001b[0m\n",
            "\u001b[?25h  Preparing metadata (setup.py) ... \u001b[?25l\u001b[?25hdone\n",
            "Requirement already satisfied: py4j==0.10.9.7 in /usr/local/lib/python3.10/dist-packages (from pyspark) (0.10.9.7)\n",
            "Building wheels for collected packages: pyspark\n",
            "  Building wheel for pyspark (setup.py) ... \u001b[?25l\u001b[?25hdone\n",
            "  Created wheel for pyspark: filename=pyspark-3.4.1-py2.py3-none-any.whl size=311285387 sha256=8b1f8d169d9f0aad94306fc9e84e84bdcfed560a70437fdf251bfc729256c249\n",
            "  Stored in directory: /root/.cache/pip/wheels/0d/77/a3/ff2f74cc9ab41f8f594dabf0579c2a7c6de920d584206e0834\n",
            "Successfully built pyspark\n",
            "Installing collected packages: pyspark\n",
            "Successfully installed pyspark-3.4.1\n"
          ]
        }
      ],
      "source": [
        "!pip install pyspark"
      ]
    },
    {
      "cell_type": "code",
      "source": [
        "!pip install findspark"
      ],
      "metadata": {
        "colab": {
          "base_uri": "https://localhost:8080/"
        },
        "id": "zSsCcDJEsH2V",
        "outputId": "ffaa1812-c5f6-4076-ac18-e209d178f42e"
      },
      "execution_count": 2,
      "outputs": [
        {
          "output_type": "stream",
          "name": "stdout",
          "text": [
            "Collecting findspark\n",
            "  Downloading findspark-2.0.1-py2.py3-none-any.whl (4.4 kB)\n",
            "Installing collected packages: findspark\n",
            "Successfully installed findspark-2.0.1\n"
          ]
        }
      ]
    },
    {
      "cell_type": "code",
      "source": [
        "import findspark\n",
        "findspark.init()\n",
        "from pyspark.sql import SparkSession\n",
        "spark = SparkSession.builder.master(\"local[*]\").getOrCreate()"
      ],
      "metadata": {
        "id": "CGsARAdvsehm"
      },
      "execution_count": 3,
      "outputs": []
    },
    {
      "cell_type": "code",
      "source": [
        "df=spark.sql('''select 'Sucesso total, estamos online!' as hello''')\n",
        "df.show()"
      ],
      "metadata": {
        "colab": {
          "base_uri": "https://localhost:8080/"
        },
        "id": "Ky-1qxxbs6tr",
        "outputId": "b8e97951-3c2e-43d5-958b-e419c3adda08"
      },
      "execution_count": 4,
      "outputs": [
        {
          "output_type": "stream",
          "name": "stdout",
          "text": [
            "+--------------------+\n",
            "|               hello|\n",
            "+--------------------+\n",
            "|Sucesso total, es...|\n",
            "+--------------------+\n",
            "\n"
          ]
        }
      ]
    },
    {
      "cell_type": "code",
      "source": [
        "#importando as bibliotecas do spark\n",
        "from pyspark.sql import Row, DataFrame\n",
        "from pyspark.sql.types import StringType, StructType, StructField, IntegerType\n",
        "from pyspark.sql.functions import col, expr, lit, substring, concat, concat_ws, when, coalesce\n",
        "from pyspark.sql import functions as F #for more SQL functions\n",
        "from functools import reduce"
      ],
      "metadata": {
        "id": "OfXbJ6BrtUoi"
      },
      "execution_count": 5,
      "outputs": []
    },
    {
      "cell_type": "markdown",
      "source": [
        "##2 Data Manipulations using Spark"
      ],
      "metadata": {
        "id": "75aYb_dhulaD"
      }
    },
    {
      "cell_type": "code",
      "source": [
        "df=spark.read.csv(\"/content/banklist.csv\", sep=\",\", inferSchema=True, header=True)\n",
        "\n",
        "print(\"df.count: \", df.count())\n",
        "print(\"df.col ct: \", len(df.columns))\n",
        "print(\"df.columns: \", df.columns)"
      ],
      "metadata": {
        "colab": {
          "base_uri": "https://localhost:8080/"
        },
        "id": "exPFbz1YuGLF",
        "outputId": "75f9d91f-8060-4671-dddc-9bd63659443a"
      },
      "execution_count": 6,
      "outputs": [
        {
          "output_type": "stream",
          "name": "stdout",
          "text": [
            "df.count:  561\n",
            "df.col ct:  6\n",
            "df.columns:  ['Bank Name', 'City', 'ST', 'CERT', 'Acquiring Institution', 'Closing Date']\n"
          ]
        }
      ]
    },
    {
      "cell_type": "markdown",
      "source": [
        "##3 Using SQL in PySpark"
      ],
      "metadata": {
        "id": "iKkSBc2txCTr"
      }
    },
    {
      "cell_type": "code",
      "source": [
        "df.createOrReplaceTempView(\"banklist\")\n",
        "df_check=spark.sql('''select `Bank Name`, city, `Closing Date` from banklist''')\n",
        "df_check.show()"
      ],
      "metadata": {
        "colab": {
          "base_uri": "https://localhost:8080/"
        },
        "id": "dyAS5xaqwVC8",
        "outputId": "45c7ae30-22d6-4320-b7dc-2000a96ba60f"
      },
      "execution_count": 7,
      "outputs": [
        {
          "output_type": "stream",
          "name": "stdout",
          "text": [
            "+--------------------+------------------+------------+\n",
            "|           Bank Name|              city|Closing Date|\n",
            "+--------------------+------------------+------------+\n",
            "|The First State Bank|     Barboursville|    3-Apr-20|\n",
            "|  Ericson State Bank|           Ericson|   14-Feb-20|\n",
            "|City National Ban...|            Newark|    1-Nov-19|\n",
            "|       Resolute Bank|            Maumee|   25-Oct-19|\n",
            "|Louisa Community ...|            Louisa|   25-Oct-19|\n",
            "|The Enloe State Bank|            Cooper|   31-May-19|\n",
            "|Washington Federa...|           Chicago|   15-Dec-17|\n",
            "|The Farmers and M...|           Argonia|   13-Oct-17|\n",
            "| Fayette County Bank|        Saint Elmo|   26-May-17|\n",
            "|Guaranty Bank, (d...|         Milwaukee|    5-May-17|\n",
            "|      First NBC Bank|       New Orleans|   28-Apr-17|\n",
            "|       Proficio Bank|Cottonwood Heights|    3-Mar-17|\n",
            "|Seaway Bank and T...|           Chicago|   27-Jan-17|\n",
            "|Harvest Community...|        Pennsville|   13-Jan-17|\n",
            "|         Allied Bank|          Mulberry|   23-Sep-16|\n",
            "|The Woodbury Bank...|          Woodbury|   19-Aug-16|\n",
            "|First CornerStone...|   King of Prussia|    6-May-16|\n",
            "|  Trust Company Bank|           Memphis|   29-Apr-16|\n",
            "|North Milwaukee S...|         Milwaukee|   11-Mar-16|\n",
            "|Hometown National...|          Longview|    2-Oct-15|\n",
            "+--------------------+------------------+------------+\n",
            "only showing top 20 rows\n",
            "\n"
          ]
        }
      ]
    },
    {
      "cell_type": "code",
      "source": [
        "df.createOrReplaceTempView(\"banklist\")\n",
        "df_check=spark.sql('''select `Bank Name`, city, `Closing Date` from banklist''')\n",
        "df_check.show(4, truncate=False)"
      ],
      "metadata": {
        "colab": {
          "base_uri": "https://localhost:8080/"
        },
        "id": "4ryIamczxvEz",
        "outputId": "ca7b25f2-04cf-4644-9d23-f66c10ed06f7"
      },
      "execution_count": 8,
      "outputs": [
        {
          "output_type": "stream",
          "name": "stdout",
          "text": [
            "+--------------------------------+-------------+------------+\n",
            "|Bank Name                       |city         |Closing Date|\n",
            "+--------------------------------+-------------+------------+\n",
            "|The First State Bank            |Barboursville|3-Apr-20    |\n",
            "|Ericson State Bank              |Ericson      |14-Feb-20   |\n",
            "|City National Bank of New Jersey|Newark       |1-Nov-19    |\n",
            "|Resolute Bank                   |Maumee       |25-Oct-19   |\n",
            "+--------------------------------+-------------+------------+\n",
            "only showing top 4 rows\n",
            "\n"
          ]
        }
      ]
    },
    {
      "cell_type": "markdown",
      "source": [
        "##4 DataFrame Basic Operations"
      ],
      "metadata": {
        "id": "cG3lQsl2yLOi"
      }
    },
    {
      "cell_type": "code",
      "source": [
        "df.describe().show()"
      ],
      "metadata": {
        "colab": {
          "base_uri": "https://localhost:8080/"
        },
        "id": "3RXCTaquyFl6",
        "outputId": "f08a8ea8-0d3a-46bf-ed11-6914709ceef8"
      },
      "execution_count": 9,
      "outputs": [
        {
          "output_type": "stream",
          "name": "stdout",
          "text": [
            "+-------+--------------------+-------+----+-----------------+---------------------+------------+\n",
            "|summary|           Bank Name|   City|  ST|             CERT|Acquiring Institution|Closing Date|\n",
            "+-------+--------------------+-------+----+-----------------+---------------------+------------+\n",
            "|  count|                 561|    561| 561|              561|                  561|         561|\n",
            "|   mean|                null|   null|null|31685.68449197861|                 null|        null|\n",
            "| stddev|                null|   null|null|16446.65659309965|                 null|        null|\n",
            "|    min|1st American Stat...|Acworth|  AL|               91|      1st United Bank|    1-Aug-08|\n",
            "|    max|               ebank|Wyoming|  WY|            58701|  Your Community Bank|    9-Sep-11|\n",
            "+-------+--------------------+-------+----+-----------------+---------------------+------------+\n",
            "\n"
          ]
        }
      ]
    },
    {
      "cell_type": "code",
      "source": [
        "df.describe(\"City\", \"ST\").show()"
      ],
      "metadata": {
        "colab": {
          "base_uri": "https://localhost:8080/"
        },
        "id": "yYQSvHCfyTIr",
        "outputId": "ebd19d49-94c4-4152-b82f-d5b11dd9e447"
      },
      "execution_count": 10,
      "outputs": [
        {
          "output_type": "stream",
          "name": "stdout",
          "text": [
            "+-------+-------+----+\n",
            "|summary|   City|  ST|\n",
            "+-------+-------+----+\n",
            "|  count|    561| 561|\n",
            "|   mean|   null|null|\n",
            "| stddev|   null|null|\n",
            "|    min|Acworth|  AL|\n",
            "|    max|Wyoming|  WY|\n",
            "+-------+-------+----+\n",
            "\n"
          ]
        }
      ]
    },
    {
      "cell_type": "markdown",
      "source": [
        "Count, Columns and Schema"
      ],
      "metadata": {
        "id": "1chq2bYvykma"
      }
    },
    {
      "cell_type": "code",
      "source": [
        "print(\"total de Linhas: \", df.count())\n",
        "print(\"total de Colunas: \", len(df.columns))\n",
        "print(\"Colunas: \", df.columns)\n",
        "print(\"Tipo do Dado: \", df.dtypes)\n",
        "print(\"Schema: \", df.schema)"
      ],
      "metadata": {
        "colab": {
          "base_uri": "https://localhost:8080/"
        },
        "id": "Z4Mzjaa-yhvR",
        "outputId": "dda109b2-54b3-4ecc-fcd2-b25cd523a63c"
      },
      "execution_count": 11,
      "outputs": [
        {
          "output_type": "stream",
          "name": "stdout",
          "text": [
            "total de Linhas:  561\n",
            "total de Colunas:  6\n",
            "Colunas:  ['Bank Name', 'City', 'ST', 'CERT', 'Acquiring Institution', 'Closing Date']\n",
            "Tipo do Dado:  [('Bank Name', 'string'), ('City', 'string'), ('ST', 'string'), ('CERT', 'int'), ('Acquiring Institution', 'string'), ('Closing Date', 'string')]\n",
            "Schema:  StructType([StructField('Bank Name', StringType(), True), StructField('City', StringType(), True), StructField('ST', StringType(), True), StructField('CERT', IntegerType(), True), StructField('Acquiring Institution', StringType(), True), StructField('Closing Date', StringType(), True)])\n"
          ]
        }
      ]
    },
    {
      "cell_type": "code",
      "source": [
        "df.printSchema()"
      ],
      "metadata": {
        "colab": {
          "base_uri": "https://localhost:8080/"
        },
        "id": "w9IlXG7bzAVr",
        "outputId": "65954a61-fd13-4484-93ff-f8f20e52d0e7"
      },
      "execution_count": 12,
      "outputs": [
        {
          "output_type": "stream",
          "name": "stdout",
          "text": [
            "root\n",
            " |-- Bank Name: string (nullable = true)\n",
            " |-- City: string (nullable = true)\n",
            " |-- ST: string (nullable = true)\n",
            " |-- CERT: integer (nullable = true)\n",
            " |-- Acquiring Institution: string (nullable = true)\n",
            " |-- Closing Date: string (nullable = true)\n",
            "\n"
          ]
        }
      ]
    },
    {
      "cell_type": "markdown",
      "source": [
        "##5 Remove Duplicates"
      ],
      "metadata": {
        "id": "h4Bude5MzkJr"
      }
    },
    {
      "cell_type": "code",
      "source": [
        "df=df.dropDuplicates()\n",
        "print(\"df.count: \", df.count())\n",
        "print(\"df.columns: \", df.columns)"
      ],
      "metadata": {
        "colab": {
          "base_uri": "https://localhost:8080/"
        },
        "id": "bpZM_YpQzciC",
        "outputId": "ba65f428-65aa-4b21-a36c-3413a3ddd805"
      },
      "execution_count": 13,
      "outputs": [
        {
          "output_type": "stream",
          "name": "stdout",
          "text": [
            "df.count:  561\n",
            "df.columns:  ['Bank Name', 'City', 'ST', 'CERT', 'Acquiring Institution', 'Closing Date']\n"
          ]
        }
      ]
    },
    {
      "cell_type": "markdown",
      "source": [
        "##6 Select Specific Columns"
      ],
      "metadata": {
        "id": "SsNckmCCz_j8"
      }
    },
    {
      "cell_type": "code",
      "source": [
        "df2=df.select(*[\"Bank Name\", \"City\"])\n",
        "df2.show()"
      ],
      "metadata": {
        "colab": {
          "base_uri": "https://localhost:8080/"
        },
        "id": "W0_C_Kebz2g6",
        "outputId": "d253e5f5-4841-489e-c969-4a738d05e90f"
      },
      "execution_count": 14,
      "outputs": [
        {
          "output_type": "stream",
          "name": "stdout",
          "text": [
            "+--------------------+----------------+\n",
            "|           Bank Name|            City|\n",
            "+--------------------+----------------+\n",
            "| First Bank of Idaho|         Ketchum|\n",
            "|Amcore Bank, Nati...|        Rockford|\n",
            "|        Venture Bank|           Lacey|\n",
            "|First State Bank ...|           Altus|\n",
            "|Valley Capital Ba...|            Mesa|\n",
            "|Michigan Heritage...|Farmington Hills|\n",
            "|Columbia Savings ...|      Cincinnati|\n",
            "|       Fidelity Bank|        Dearborn|\n",
            "|The Park Avenue Bank|        Valdosta|\n",
            "|Western Commercia...|  Woodland Hills|\n",
            "|        Syringa Bank|           Boise|\n",
            "|Republic Federal ...|           Miami|\n",
            "|Westside Communit...|University Place|\n",
            "|   First United Bank|           Crete|\n",
            "|HarVest Bank of M...|    Gaithersburg|\n",
            "|            BankEast|       Knoxville|\n",
            "|    Polk County Bank|        Johnston|\n",
            "|Colorado Capital ...|     Castle Rock|\n",
            "|         Access Bank|        Champlin|\n",
            "|Pacific National ...|   San Francisco|\n",
            "+--------------------+----------------+\n",
            "only showing top 20 rows\n",
            "\n"
          ]
        }
      ]
    },
    {
      "cell_type": "markdown",
      "source": [
        "##7 Select Multiple Columns"
      ],
      "metadata": {
        "id": "v8PLoRhw0SmZ"
      }
    },
    {
      "cell_type": "code",
      "source": [
        "col_l=list(set(df.columns) - {\"CERT\", \"ST\"})\n",
        "df2 = df.select(*col_l)\n",
        "df2.show()"
      ],
      "metadata": {
        "colab": {
          "base_uri": "https://localhost:8080/"
        },
        "id": "9O6uB4av0Luz",
        "outputId": "39dcbb00-9e50-4bca-b623-aaeaa2454553"
      },
      "execution_count": 15,
      "outputs": [
        {
          "output_type": "stream",
          "name": "stdout",
          "text": [
            "+---------------------+--------------------+------------+----------------+\n",
            "|Acquiring Institution|           Bank Name|Closing Date|            City|\n",
            "+---------------------+--------------------+------------+----------------+\n",
            "|      U.S. Bank, N.A.| First Bank of Idaho|   24-Apr-09|         Ketchum|\n",
            "|          Harris N.A.|Amcore Bank, Nati...|   23-Apr-10|        Rockford|\n",
            "| First-Citizens Ba...|        Venture Bank|   11-Sep-09|           Lacey|\n",
            "|         Herring Bank|First State Bank ...|   31-Jul-09|           Altus|\n",
            "| Enterprise Bank &...|Valley Capital Ba...|   11-Dec-09|            Mesa|\n",
            "|       Level One Bank|Michigan Heritage...|   24-Apr-09|Farmington Hills|\n",
            "| United Fidelity B...|Columbia Savings ...|   23-May-14|      Cincinnati|\n",
            "| The Huntington Na...|       Fidelity Bank|   30-Mar-12|        Dearborn|\n",
            "|   Bank of the Ozarks|The Park Avenue Bank|   29-Apr-11|        Valdosta|\n",
            "| First California ...|Western Commercia...|    5-Nov-10|  Woodland Hills|\n",
            "|         Sunwest Bank|        Syringa Bank|   31-Jan-14|           Boise|\n",
            "|      1st United Bank|Republic Federal ...|   11-Dec-09|           Miami|\n",
            "|         Sunwest Bank|Westside Communit...|   11-Jan-13|University Place|\n",
            "| Old Plank Trail C...|   First United Bank|   28-Sep-12|           Crete|\n",
            "|             Sonabank|HarVest Bank of M...|   27-Apr-12|    Gaithersburg|\n",
            "|      U.S. Bank, N.A.|            BankEast|   27-Jan-12|       Knoxville|\n",
            "|  Grinnell State Bank|    Polk County Bank|   18-Nov-11|        Johnston|\n",
            "| First-Citizens Ba...|Colorado Capital ...|    8-Jul-11|     Castle Rock|\n",
            "|            PrinsBank|         Access Bank|    7-May-10|        Champlin|\n",
            "|       U.S. Bank N.A.|Pacific National ...|   30-Oct-09|   San Francisco|\n",
            "+---------------------+--------------------+------------+----------------+\n",
            "only showing top 20 rows\n",
            "\n"
          ]
        }
      ]
    },
    {
      "cell_type": "markdown",
      "source": [
        "##8 Rename Column"
      ],
      "metadata": {
        "id": "Q5CZB_au02hA"
      }
    },
    {
      "cell_type": "code",
      "source": [
        "df2 = df \\\n",
        "  .withColumnRenamed(\"Bank Name\", \"bank_name\") \\\n",
        "  .withColumnRenamed(\"Acquiring Institution\", \"acq_institution\") \\\n",
        "  .withColumnRenamed(\"Closing Date\", \"closing_date\") \\\n",
        "  .withColumnRenamed(\"ST\", \"state\") \\\n",
        "  .withColumnRenamed(\"CERT\", \"cert\")\n",
        "\n",
        "df2.show()"
      ],
      "metadata": {
        "colab": {
          "base_uri": "https://localhost:8080/"
        },
        "id": "c4cBGj-T0nk5",
        "outputId": "92fc4f14-83e8-4793-a68c-389627d2fd19"
      },
      "execution_count": 16,
      "outputs": [
        {
          "output_type": "stream",
          "name": "stdout",
          "text": [
            "+--------------------+----------------+-----+-----+--------------------+------------+\n",
            "|           bank_name|            City|state| cert|     acq_institution|closing_date|\n",
            "+--------------------+----------------+-----+-----+--------------------+------------+\n",
            "| First Bank of Idaho|         Ketchum|   ID|34396|     U.S. Bank, N.A.|   24-Apr-09|\n",
            "|Amcore Bank, Nati...|        Rockford|   IL| 3735|         Harris N.A.|   23-Apr-10|\n",
            "|        Venture Bank|           Lacey|   WA|22868|First-Citizens Ba...|   11-Sep-09|\n",
            "|First State Bank ...|           Altus|   OK| 9873|        Herring Bank|   31-Jul-09|\n",
            "|Valley Capital Ba...|            Mesa|   AZ|58399|Enterprise Bank &...|   11-Dec-09|\n",
            "|Michigan Heritage...|Farmington Hills|   MI|34369|      Level One Bank|   24-Apr-09|\n",
            "|Columbia Savings ...|      Cincinnati|   OH|32284|United Fidelity B...|   23-May-14|\n",
            "|       Fidelity Bank|        Dearborn|   MI|33883|The Huntington Na...|   30-Mar-12|\n",
            "|The Park Avenue Bank|        Valdosta|   GA|19797|  Bank of the Ozarks|   29-Apr-11|\n",
            "|Western Commercia...|  Woodland Hills|   CA|58087|First California ...|    5-Nov-10|\n",
            "|        Syringa Bank|           Boise|   ID|34296|        Sunwest Bank|   31-Jan-14|\n",
            "|Republic Federal ...|           Miami|   FL|22846|     1st United Bank|   11-Dec-09|\n",
            "|Westside Communit...|University Place|   WA|33997|        Sunwest Bank|   11-Jan-13|\n",
            "|   First United Bank|           Crete|   IL|20685|Old Plank Trail C...|   28-Sep-12|\n",
            "|HarVest Bank of M...|    Gaithersburg|   MD|57766|            Sonabank|   27-Apr-12|\n",
            "|            BankEast|       Knoxville|   TN|19869|     U.S. Bank, N.A.|   27-Jan-12|\n",
            "|    Polk County Bank|        Johnston|   IA|14194| Grinnell State Bank|   18-Nov-11|\n",
            "|Colorado Capital ...|     Castle Rock|   CO|34522|First-Citizens Ba...|    8-Jul-11|\n",
            "|         Access Bank|        Champlin|   MN|16476|           PrinsBank|    7-May-10|\n",
            "|Pacific National ...|   San Francisco|   CA|30006|      U.S. Bank N.A.|   30-Oct-09|\n",
            "+--------------------+----------------+-----+-----+--------------------+------------+\n",
            "only showing top 20 rows\n",
            "\n"
          ]
        }
      ]
    },
    {
      "cell_type": "markdown",
      "source": [
        "##9 Add Columns"
      ],
      "metadata": {
        "id": "MgWjxOugfD3O"
      }
    },
    {
      "cell_type": "code",
      "source": [
        "df2=df.withColumn(\"state\", col(\"ST\"))\n",
        "df2.show()"
      ],
      "metadata": {
        "colab": {
          "base_uri": "https://localhost:8080/"
        },
        "id": "5mJO6u5q111i",
        "outputId": "b9e98c71-ea2c-40c2-96e5-bfe23e50022d"
      },
      "execution_count": 19,
      "outputs": [
        {
          "output_type": "stream",
          "name": "stdout",
          "text": [
            "+--------------------+----------------+---+-----+---------------------+------------+-----+\n",
            "|           Bank Name|            City| ST| CERT|Acquiring Institution|Closing Date|state|\n",
            "+--------------------+----------------+---+-----+---------------------+------------+-----+\n",
            "| First Bank of Idaho|         Ketchum| ID|34396|      U.S. Bank, N.A.|   24-Apr-09|   ID|\n",
            "|Amcore Bank, Nati...|        Rockford| IL| 3735|          Harris N.A.|   23-Apr-10|   IL|\n",
            "|        Venture Bank|           Lacey| WA|22868| First-Citizens Ba...|   11-Sep-09|   WA|\n",
            "|First State Bank ...|           Altus| OK| 9873|         Herring Bank|   31-Jul-09|   OK|\n",
            "|Valley Capital Ba...|            Mesa| AZ|58399| Enterprise Bank &...|   11-Dec-09|   AZ|\n",
            "|Michigan Heritage...|Farmington Hills| MI|34369|       Level One Bank|   24-Apr-09|   MI|\n",
            "|Columbia Savings ...|      Cincinnati| OH|32284| United Fidelity B...|   23-May-14|   OH|\n",
            "|       Fidelity Bank|        Dearborn| MI|33883| The Huntington Na...|   30-Mar-12|   MI|\n",
            "|The Park Avenue Bank|        Valdosta| GA|19797|   Bank of the Ozarks|   29-Apr-11|   GA|\n",
            "|Western Commercia...|  Woodland Hills| CA|58087| First California ...|    5-Nov-10|   CA|\n",
            "|        Syringa Bank|           Boise| ID|34296|         Sunwest Bank|   31-Jan-14|   ID|\n",
            "|Republic Federal ...|           Miami| FL|22846|      1st United Bank|   11-Dec-09|   FL|\n",
            "|Westside Communit...|University Place| WA|33997|         Sunwest Bank|   11-Jan-13|   WA|\n",
            "|   First United Bank|           Crete| IL|20685| Old Plank Trail C...|   28-Sep-12|   IL|\n",
            "|HarVest Bank of M...|    Gaithersburg| MD|57766|             Sonabank|   27-Apr-12|   MD|\n",
            "|            BankEast|       Knoxville| TN|19869|      U.S. Bank, N.A.|   27-Jan-12|   TN|\n",
            "|    Polk County Bank|        Johnston| IA|14194|  Grinnell State Bank|   18-Nov-11|   IA|\n",
            "|Colorado Capital ...|     Castle Rock| CO|34522| First-Citizens Ba...|    8-Jul-11|   CO|\n",
            "|         Access Bank|        Champlin| MN|16476|            PrinsBank|    7-May-10|   MN|\n",
            "|Pacific National ...|   San Francisco| CA|30006|       U.S. Bank N.A.|   30-Oct-09|   CA|\n",
            "+--------------------+----------------+---+-----+---------------------+------------+-----+\n",
            "only showing top 20 rows\n",
            "\n"
          ]
        }
      ]
    },
    {
      "cell_type": "markdown",
      "source": [
        "##10 Add Constant Column"
      ],
      "metadata": {
        "id": "Yyv2Y-Tlkgyj"
      }
    },
    {
      "cell_type": "code",
      "source": [
        "df2 = df.withColumn(\"country\", lit(\"US\"))\n",
        "df2.show()"
      ],
      "metadata": {
        "colab": {
          "base_uri": "https://localhost:8080/"
        },
        "id": "vy2oNcKZkVLX",
        "outputId": "17310058-a1f3-4910-b233-a745a047d3e4"
      },
      "execution_count": 20,
      "outputs": [
        {
          "output_type": "stream",
          "name": "stdout",
          "text": [
            "+--------------------+----------------+---+-----+---------------------+------------+-------+\n",
            "|           Bank Name|            City| ST| CERT|Acquiring Institution|Closing Date|country|\n",
            "+--------------------+----------------+---+-----+---------------------+------------+-------+\n",
            "| First Bank of Idaho|         Ketchum| ID|34396|      U.S. Bank, N.A.|   24-Apr-09|     US|\n",
            "|Amcore Bank, Nati...|        Rockford| IL| 3735|          Harris N.A.|   23-Apr-10|     US|\n",
            "|        Venture Bank|           Lacey| WA|22868| First-Citizens Ba...|   11-Sep-09|     US|\n",
            "|First State Bank ...|           Altus| OK| 9873|         Herring Bank|   31-Jul-09|     US|\n",
            "|Valley Capital Ba...|            Mesa| AZ|58399| Enterprise Bank &...|   11-Dec-09|     US|\n",
            "|Michigan Heritage...|Farmington Hills| MI|34369|       Level One Bank|   24-Apr-09|     US|\n",
            "|Columbia Savings ...|      Cincinnati| OH|32284| United Fidelity B...|   23-May-14|     US|\n",
            "|       Fidelity Bank|        Dearborn| MI|33883| The Huntington Na...|   30-Mar-12|     US|\n",
            "|The Park Avenue Bank|        Valdosta| GA|19797|   Bank of the Ozarks|   29-Apr-11|     US|\n",
            "|Western Commercia...|  Woodland Hills| CA|58087| First California ...|    5-Nov-10|     US|\n",
            "|        Syringa Bank|           Boise| ID|34296|         Sunwest Bank|   31-Jan-14|     US|\n",
            "|Republic Federal ...|           Miami| FL|22846|      1st United Bank|   11-Dec-09|     US|\n",
            "|Westside Communit...|University Place| WA|33997|         Sunwest Bank|   11-Jan-13|     US|\n",
            "|   First United Bank|           Crete| IL|20685| Old Plank Trail C...|   28-Sep-12|     US|\n",
            "|HarVest Bank of M...|    Gaithersburg| MD|57766|             Sonabank|   27-Apr-12|     US|\n",
            "|            BankEast|       Knoxville| TN|19869|      U.S. Bank, N.A.|   27-Jan-12|     US|\n",
            "|    Polk County Bank|        Johnston| IA|14194|  Grinnell State Bank|   18-Nov-11|     US|\n",
            "|Colorado Capital ...|     Castle Rock| CO|34522| First-Citizens Ba...|    8-Jul-11|     US|\n",
            "|         Access Bank|        Champlin| MN|16476|            PrinsBank|    7-May-10|     US|\n",
            "|Pacific National ...|   San Francisco| CA|30006|       U.S. Bank N.A.|   30-Oct-09|     US|\n",
            "+--------------------+----------------+---+-----+---------------------+------------+-------+\n",
            "only showing top 20 rows\n",
            "\n"
          ]
        }
      ]
    },
    {
      "cell_type": "markdown",
      "source": [
        "##11 Drop Column"
      ],
      "metadata": {
        "id": "pJfNgAPQkvbB"
      }
    },
    {
      "cell_type": "code",
      "source": [
        "df2 = df.drop(\"CERT\")\n",
        "df2.show()"
      ],
      "metadata": {
        "colab": {
          "base_uri": "https://localhost:8080/"
        },
        "id": "7i9I28EuktmZ",
        "outputId": "d227f723-0bbe-4ecc-d88f-14a408172a98"
      },
      "execution_count": 21,
      "outputs": [
        {
          "output_type": "stream",
          "name": "stdout",
          "text": [
            "+--------------------+----------------+---+---------------------+------------+\n",
            "|           Bank Name|            City| ST|Acquiring Institution|Closing Date|\n",
            "+--------------------+----------------+---+---------------------+------------+\n",
            "| First Bank of Idaho|         Ketchum| ID|      U.S. Bank, N.A.|   24-Apr-09|\n",
            "|Amcore Bank, Nati...|        Rockford| IL|          Harris N.A.|   23-Apr-10|\n",
            "|        Venture Bank|           Lacey| WA| First-Citizens Ba...|   11-Sep-09|\n",
            "|First State Bank ...|           Altus| OK|         Herring Bank|   31-Jul-09|\n",
            "|Valley Capital Ba...|            Mesa| AZ| Enterprise Bank &...|   11-Dec-09|\n",
            "|Michigan Heritage...|Farmington Hills| MI|       Level One Bank|   24-Apr-09|\n",
            "|Columbia Savings ...|      Cincinnati| OH| United Fidelity B...|   23-May-14|\n",
            "|       Fidelity Bank|        Dearborn| MI| The Huntington Na...|   30-Mar-12|\n",
            "|The Park Avenue Bank|        Valdosta| GA|   Bank of the Ozarks|   29-Apr-11|\n",
            "|Western Commercia...|  Woodland Hills| CA| First California ...|    5-Nov-10|\n",
            "|        Syringa Bank|           Boise| ID|         Sunwest Bank|   31-Jan-14|\n",
            "|Republic Federal ...|           Miami| FL|      1st United Bank|   11-Dec-09|\n",
            "|Westside Communit...|University Place| WA|         Sunwest Bank|   11-Jan-13|\n",
            "|   First United Bank|           Crete| IL| Old Plank Trail C...|   28-Sep-12|\n",
            "|HarVest Bank of M...|    Gaithersburg| MD|             Sonabank|   27-Apr-12|\n",
            "|            BankEast|       Knoxville| TN|      U.S. Bank, N.A.|   27-Jan-12|\n",
            "|    Polk County Bank|        Johnston| IA|  Grinnell State Bank|   18-Nov-11|\n",
            "|Colorado Capital ...|     Castle Rock| CO| First-Citizens Ba...|    8-Jul-11|\n",
            "|         Access Bank|        Champlin| MN|            PrinsBank|    7-May-10|\n",
            "|Pacific National ...|   San Francisco| CA|       U.S. Bank N.A.|   30-Oct-09|\n",
            "+--------------------+----------------+---+---------------------+------------+\n",
            "only showing top 20 rows\n",
            "\n"
          ]
        }
      ]
    },
    {
      "cell_type": "markdown",
      "source": [
        "##12 Drop Multiple Column"
      ],
      "metadata": {
        "id": "K8gp_jOYk83p"
      }
    },
    {
      "cell_type": "code",
      "source": [
        "df2 = df.drop(*[\"CERT\", \"ST\"])\n",
        "df2.show()"
      ],
      "metadata": {
        "colab": {
          "base_uri": "https://localhost:8080/"
        },
        "id": "o0OTPEXyk6tB",
        "outputId": "8cb8dab7-7d94-4192-8092-266f6ed8f41f"
      },
      "execution_count": 22,
      "outputs": [
        {
          "output_type": "stream",
          "name": "stdout",
          "text": [
            "+--------------------+----------------+---------------------+------------+\n",
            "|           Bank Name|            City|Acquiring Institution|Closing Date|\n",
            "+--------------------+----------------+---------------------+------------+\n",
            "| First Bank of Idaho|         Ketchum|      U.S. Bank, N.A.|   24-Apr-09|\n",
            "|Amcore Bank, Nati...|        Rockford|          Harris N.A.|   23-Apr-10|\n",
            "|        Venture Bank|           Lacey| First-Citizens Ba...|   11-Sep-09|\n",
            "|First State Bank ...|           Altus|         Herring Bank|   31-Jul-09|\n",
            "|Valley Capital Ba...|            Mesa| Enterprise Bank &...|   11-Dec-09|\n",
            "|Michigan Heritage...|Farmington Hills|       Level One Bank|   24-Apr-09|\n",
            "|Columbia Savings ...|      Cincinnati| United Fidelity B...|   23-May-14|\n",
            "|       Fidelity Bank|        Dearborn| The Huntington Na...|   30-Mar-12|\n",
            "|The Park Avenue Bank|        Valdosta|   Bank of the Ozarks|   29-Apr-11|\n",
            "|Western Commercia...|  Woodland Hills| First California ...|    5-Nov-10|\n",
            "|        Syringa Bank|           Boise|         Sunwest Bank|   31-Jan-14|\n",
            "|Republic Federal ...|           Miami|      1st United Bank|   11-Dec-09|\n",
            "|Westside Communit...|University Place|         Sunwest Bank|   11-Jan-13|\n",
            "|   First United Bank|           Crete| Old Plank Trail C...|   28-Sep-12|\n",
            "|HarVest Bank of M...|    Gaithersburg|             Sonabank|   27-Apr-12|\n",
            "|            BankEast|       Knoxville|      U.S. Bank, N.A.|   27-Jan-12|\n",
            "|    Polk County Bank|        Johnston|  Grinnell State Bank|   18-Nov-11|\n",
            "|Colorado Capital ...|     Castle Rock| First-Citizens Ba...|    8-Jul-11|\n",
            "|         Access Bank|        Champlin|            PrinsBank|    7-May-10|\n",
            "|Pacific National ...|   San Francisco|       U.S. Bank N.A.|   30-Oct-09|\n",
            "+--------------------+----------------+---------------------+------------+\n",
            "only showing top 20 rows\n",
            "\n"
          ]
        }
      ]
    },
    {
      "cell_type": "code",
      "source": [
        "#modelo diferente\n",
        "df2 = reduce(DataFrame.drop, [\"CERT\", \"ST\"], df)\n",
        "df2.show()"
      ],
      "metadata": {
        "colab": {
          "base_uri": "https://localhost:8080/"
        },
        "id": "8-2uEcvzlOQD",
        "outputId": "33044b26-c835-4365-b2a1-e36681653ba1"
      },
      "execution_count": 24,
      "outputs": [
        {
          "output_type": "stream",
          "name": "stdout",
          "text": [
            "+--------------------+----------------+---------------------+------------+\n",
            "|           Bank Name|            City|Acquiring Institution|Closing Date|\n",
            "+--------------------+----------------+---------------------+------------+\n",
            "| First Bank of Idaho|         Ketchum|      U.S. Bank, N.A.|   24-Apr-09|\n",
            "|Amcore Bank, Nati...|        Rockford|          Harris N.A.|   23-Apr-10|\n",
            "|        Venture Bank|           Lacey| First-Citizens Ba...|   11-Sep-09|\n",
            "|First State Bank ...|           Altus|         Herring Bank|   31-Jul-09|\n",
            "|Valley Capital Ba...|            Mesa| Enterprise Bank &...|   11-Dec-09|\n",
            "|Michigan Heritage...|Farmington Hills|       Level One Bank|   24-Apr-09|\n",
            "|Columbia Savings ...|      Cincinnati| United Fidelity B...|   23-May-14|\n",
            "|       Fidelity Bank|        Dearborn| The Huntington Na...|   30-Mar-12|\n",
            "|The Park Avenue Bank|        Valdosta|   Bank of the Ozarks|   29-Apr-11|\n",
            "|Western Commercia...|  Woodland Hills| First California ...|    5-Nov-10|\n",
            "|        Syringa Bank|           Boise|         Sunwest Bank|   31-Jan-14|\n",
            "|Republic Federal ...|           Miami|      1st United Bank|   11-Dec-09|\n",
            "|Westside Communit...|University Place|         Sunwest Bank|   11-Jan-13|\n",
            "|   First United Bank|           Crete| Old Plank Trail C...|   28-Sep-12|\n",
            "|HarVest Bank of M...|    Gaithersburg|             Sonabank|   27-Apr-12|\n",
            "|            BankEast|       Knoxville|      U.S. Bank, N.A.|   27-Jan-12|\n",
            "|    Polk County Bank|        Johnston|  Grinnell State Bank|   18-Nov-11|\n",
            "|Colorado Capital ...|     Castle Rock| First-Citizens Ba...|    8-Jul-11|\n",
            "|         Access Bank|        Champlin|            PrinsBank|    7-May-10|\n",
            "|Pacific National ...|   San Francisco|       U.S. Bank N.A.|   30-Oct-09|\n",
            "+--------------------+----------------+---------------------+------------+\n",
            "only showing top 20 rows\n",
            "\n"
          ]
        }
      ]
    },
    {
      "cell_type": "markdown",
      "source": [
        "##13 Filter Data"
      ],
      "metadata": {
        "id": "_63CP7MOloLW"
      }
    },
    {
      "cell_type": "code",
      "source": [
        "#Equals do Values\n",
        "df2 = df.where(df[\"ST\"]==\"NE\")\n",
        "df2.show()"
      ],
      "metadata": {
        "colab": {
          "base_uri": "https://localhost:8080/"
        },
        "id": "tktgvk-tlgmC",
        "outputId": "40c70111-163d-415c-933d-5387dd6a27e2"
      },
      "execution_count": 25,
      "outputs": [
        {
          "output_type": "stream",
          "name": "stdout",
          "text": [
            "+-------------------+---------+---+-----+---------------------+------------+\n",
            "|          Bank Name|     City| ST| CERT|Acquiring Institution|Closing Date|\n",
            "+-------------------+---------+---+-----+---------------------+------------+\n",
            "|       TierOne Bank|  Lincoln| NE|29341|   Great Western Bank|    4-Jun-10|\n",
            "|Sherman County Bank|Loup City| NE| 5431|        Heritage Bank|   13-Feb-09|\n",
            "|Mid City Bank, Inc.|    Omaha| NE|19397|         Premier Bank|    4-Nov-11|\n",
            "| Ericson State Bank|  Ericson| NE|18265| Farmers and Merch...|   14-Feb-20|\n",
            "+-------------------+---------+---+-----+---------------------+------------+\n",
            "\n"
          ]
        }
      ]
    },
    {
      "cell_type": "code",
      "source": [
        "#Between values\n",
        "df3=df.where(df[\"CERT\"].between(\"1000\", \"2000\"))\n",
        "df3.show()"
      ],
      "metadata": {
        "colab": {
          "base_uri": "https://localhost:8080/"
        },
        "id": "_CGDn58ql7X5",
        "outputId": "be1d510a-7913-4d1c-c8bf-4d910c593b5d"
      },
      "execution_count": 27,
      "outputs": [
        {
          "output_type": "stream",
          "name": "stdout",
          "text": [
            "+--------------------+-------------+---+----+---------------------+------------+\n",
            "|           Bank Name|         City| ST|CERT|Acquiring Institution|Closing Date|\n",
            "+--------------------+-------------+---+----+---------------------+------------+\n",
            "|The Farmers Bank ...|    Lynchburg| TN|1690| Clayton Bank and ...|   15-Jun-12|\n",
            "| Fayette County Bank|   Saint Elmo| IL|1802| United Fidelity B...|   26-May-17|\n",
            "|     Bank of Ephraim|      Ephraim| UT|1249|        Far West Bank|   25-Jun-04|\n",
            "| Citizens State Bank|New Baltimore| MI|1006|          No Acquirer|   18-Dec-09|\n",
            "|Barnes Banking Co...|    Kaysville| UT|1252|          No Acquirer|   15-Jan-10|\n",
            "|Glasgow Savings Bank|      Glasgow| MO|1056| Regional Missouri...|   13-Jul-12|\n",
            "|           Hume Bank|         Hume| MO|1971|        Security Bank|    7-Mar-08|\n",
            "|     Mainstreet Bank|  Forest Lake| MN|1909|         Central Bank|   28-Aug-09|\n",
            "|      Heartland Bank|      Leawood| KS|1361|         Metcalf Bank|   20-Jul-12|\n",
            "+--------------------+-------------+---+----+---------------------+------------+\n",
            "\n"
          ]
        }
      ]
    },
    {
      "cell_type": "code",
      "source": [
        "df4 = df.where(df[\"ST\"].isin(\"NE\", \"IL\"))\n",
        "df4.show()"
      ],
      "metadata": {
        "colab": {
          "base_uri": "https://localhost:8080/"
        },
        "id": "L6CcxnNYmN8p",
        "outputId": "2a48e7d8-aad7-4424-ea0b-88d3a3f2189e"
      },
      "execution_count": 28,
      "outputs": [
        {
          "output_type": "stream",
          "name": "stdout",
          "text": [
            "+--------------------+------------+---+-----+---------------------+------------+\n",
            "|           Bank Name|        City| ST| CERT|Acquiring Institution|Closing Date|\n",
            "+--------------------+------------+---+-----+---------------------+------------+\n",
            "|Amcore Bank, Nati...|    Rockford| IL| 3735|          Harris N.A.|   23-Apr-10|\n",
            "|   First United Bank|       Crete| IL|20685| Old Plank Trail C...|   28-Sep-12|\n",
            "|    Corus Bank, N.A.|     Chicago| IL|13693| MB Financial Bank...|   11-Sep-09|\n",
            "|   First Choice Bank|      Geneva| IL|57212|  Inland Bank & Trust|   19-Aug-11|\n",
            "|Highland Communit...|     Chicago| IL|20290| United Fidelity B...|   23-Jan-15|\n",
            "|Second Federal Sa...|     Chicago| IL|27986| Hinsdale Bank & T...|   20-Jul-12|\n",
            "|Corn Belt Bank & ...|  Pittsfield| IL|16500| The Carlinville N...|   13-Feb-09|\n",
            "|Independent Banke...| Springfield| IL|26820| The Independent B...|   18-Dec-09|\n",
            "|       Broadway Bank|     Chicago| IL|22853| MB Financial Bank...|   23-Apr-10|\n",
            "|Citizens National...|      Macomb| IL| 5757| Morton Community ...|   22-May-09|\n",
            "|Lincoln Park Savi...|     Chicago| IL|30600| Northbrook Bank &...|   23-Apr-10|\n",
            "|Community First B...|     Chicago| IL|57948| Northbrook Bank &...|    4-Feb-11|\n",
            "|Arcola Homestead ...|      Arcola| IL|31813|          No Acquirer|    4-Jun-10|\n",
            "|Seaway Bank and T...|     Chicago| IL|19328|  State Bank of Texas|   27-Jan-17|\n",
            "|Town Community Ba...|     Antioch| IL|34705|  First American Bank|   15-Jan-10|\n",
            "|National Bank of ...|    Berkeley| IL|19733| Republic Bank of ...|   16-Jan-09|\n",
            "|      Wheatland Bank|  Naperville| IL|58429| Wheaton Bank & Trust|   23-Apr-10|\n",
            "|        Country Bank|       Aledo| IL|35395| Blackhawk Bank & ...|   14-Oct-11|\n",
            "|Midwest Bank and ...|Elmwood Park| IL|18117| FirstMerit Bank, ...|   14-May-10|\n",
            "|    John Warner Bank|     Clinton| IL|12093| State Bank of Lin...|    2-Jul-09|\n",
            "+--------------------+------------+---+-----+---------------------+------------+\n",
            "only showing top 20 rows\n",
            "\n"
          ]
        }
      ]
    },
    {
      "cell_type": "code",
      "source": [
        "#contagem de cada filtro\n",
        "df2 = df.where(df[\"ST\"]==\"NE\")\n",
        "\n",
        "df3=df.where(df[\"CERT\"].between(\"1000\", \"2000\"))\n",
        "\n",
        "df4 = df.where(df[\"ST\"].isin(\"NE\", \"IL\"))\n",
        "\n",
        "print(\"df.count: \", df.count())\n",
        "print(\"df2.count: \", df2.count())\n",
        "print(\"df3.count: \", df3.count())\n",
        "print(\"df4.count: \", df4.count())"
      ],
      "metadata": {
        "colab": {
          "base_uri": "https://localhost:8080/"
        },
        "id": "5ndeNUrzmkio",
        "outputId": "cb0d083c-c110-4890-da22-56c324f06dfb"
      },
      "execution_count": 29,
      "outputs": [
        {
          "output_type": "stream",
          "name": "stdout",
          "text": [
            "df.count:  561\n",
            "df2.count:  4\n",
            "df3.count:  9\n",
            "df4.count:  73\n"
          ]
        }
      ]
    },
    {
      "cell_type": "markdown",
      "source": [
        "##14 Filter Data Using Logical Operator"
      ],
      "metadata": {
        "id": "Xvgm-v1xpXbB"
      }
    },
    {
      "cell_type": "code",
      "source": [
        "df2 = df.where((df[\"ST\"]==\"NE\")&(df[\"CITY\"]==\"Ericson\"))\n",
        "df2.show()"
      ],
      "metadata": {
        "colab": {
          "base_uri": "https://localhost:8080/"
        },
        "id": "noc6yDKKmdtB",
        "outputId": "0cd67a70-23c1-4ed0-85a4-744bcecdacd0"
      },
      "execution_count": 30,
      "outputs": [
        {
          "output_type": "stream",
          "name": "stdout",
          "text": [
            "+------------------+-------+---+-----+---------------------+------------+\n",
            "|         Bank Name|   City| ST| CERT|Acquiring Institution|Closing Date|\n",
            "+------------------+-------+---+-----+---------------------+------------+\n",
            "|Ericson State Bank|Ericson| NE|18265| Farmers and Merch...|   14-Feb-20|\n",
            "+------------------+-------+---+-----+---------------------+------------+\n",
            "\n"
          ]
        }
      ]
    },
    {
      "cell_type": "markdown",
      "source": [
        "## 15 Replace Values in DataFrame"
      ],
      "metadata": {
        "id": "mrs4tzSMpzgt"
      }
    },
    {
      "cell_type": "code",
      "source": [
        "# Pre Replace\n",
        "df.show()\n",
        "\n",
        "# Post Replace\n",
        "print(\"replace 7 in the above dataframe with 17 at all instances\")\n",
        "df.na.replace(7,17).show()"
      ],
      "metadata": {
        "colab": {
          "base_uri": "https://localhost:8080/"
        },
        "id": "DWZUPBfFprgB",
        "outputId": "e3e40e3b-2286-4322-d831-40086e3ed371"
      },
      "execution_count": 33,
      "outputs": [
        {
          "output_type": "stream",
          "name": "stdout",
          "text": [
            "+--------------------+----------------+---+-----+---------------------+------------+\n",
            "|           Bank Name|            City| ST| CERT|Acquiring Institution|Closing Date|\n",
            "+--------------------+----------------+---+-----+---------------------+------------+\n",
            "| First Bank of Idaho|         Ketchum| ID|34396|      U.S. Bank, N.A.|   24-Apr-09|\n",
            "|Amcore Bank, Nati...|        Rockford| IL| 3735|          Harris N.A.|   23-Apr-10|\n",
            "|        Venture Bank|           Lacey| WA|22868| First-Citizens Ba...|   11-Sep-09|\n",
            "|First State Bank ...|           Altus| OK| 9873|         Herring Bank|   31-Jul-09|\n",
            "|Valley Capital Ba...|            Mesa| AZ|58399| Enterprise Bank &...|   11-Dec-09|\n",
            "|Michigan Heritage...|Farmington Hills| MI|34369|       Level One Bank|   24-Apr-09|\n",
            "|Columbia Savings ...|      Cincinnati| OH|32284| United Fidelity B...|   23-May-14|\n",
            "|       Fidelity Bank|        Dearborn| MI|33883| The Huntington Na...|   30-Mar-12|\n",
            "|The Park Avenue Bank|        Valdosta| GA|19797|   Bank of the Ozarks|   29-Apr-11|\n",
            "|Western Commercia...|  Woodland Hills| CA|58087| First California ...|    5-Nov-10|\n",
            "|        Syringa Bank|           Boise| ID|34296|         Sunwest Bank|   31-Jan-14|\n",
            "|Republic Federal ...|           Miami| FL|22846|      1st United Bank|   11-Dec-09|\n",
            "|Westside Communit...|University Place| WA|33997|         Sunwest Bank|   11-Jan-13|\n",
            "|   First United Bank|           Crete| IL|20685| Old Plank Trail C...|   28-Sep-12|\n",
            "|HarVest Bank of M...|    Gaithersburg| MD|57766|             Sonabank|   27-Apr-12|\n",
            "|            BankEast|       Knoxville| TN|19869|      U.S. Bank, N.A.|   27-Jan-12|\n",
            "|    Polk County Bank|        Johnston| IA|14194|  Grinnell State Bank|   18-Nov-11|\n",
            "|Colorado Capital ...|     Castle Rock| CO|34522| First-Citizens Ba...|    8-Jul-11|\n",
            "|         Access Bank|        Champlin| MN|16476|            PrinsBank|    7-May-10|\n",
            "|Pacific National ...|   San Francisco| CA|30006|       U.S. Bank N.A.|   30-Oct-09|\n",
            "+--------------------+----------------+---+-----+---------------------+------------+\n",
            "only showing top 20 rows\n",
            "\n",
            "replace 7 in the above dataframe with 17 at all instances\n",
            "+--------------------+----------------+---+-----+---------------------+------------+\n",
            "|           Bank Name|            City| ST| CERT|Acquiring Institution|Closing Date|\n",
            "+--------------------+----------------+---+-----+---------------------+------------+\n",
            "| First Bank of Idaho|         Ketchum| ID|34396|      U.S. Bank, N.A.|   24-Apr-09|\n",
            "|Amcore Bank, Nati...|        Rockford| IL| 3735|          Harris N.A.|   23-Apr-10|\n",
            "|        Venture Bank|           Lacey| WA|22868| First-Citizens Ba...|   11-Sep-09|\n",
            "|First State Bank ...|           Altus| OK| 9873|         Herring Bank|   31-Jul-09|\n",
            "|Valley Capital Ba...|            Mesa| AZ|58399| Enterprise Bank &...|   11-Dec-09|\n",
            "|Michigan Heritage...|Farmington Hills| MI|34369|       Level One Bank|   24-Apr-09|\n",
            "|Columbia Savings ...|      Cincinnati| OH|32284| United Fidelity B...|   23-May-14|\n",
            "|       Fidelity Bank|        Dearborn| MI|33883| The Huntington Na...|   30-Mar-12|\n",
            "|The Park Avenue Bank|        Valdosta| GA|19797|   Bank of the Ozarks|   29-Apr-11|\n",
            "|Western Commercia...|  Woodland Hills| CA|58087| First California ...|    5-Nov-10|\n",
            "|        Syringa Bank|           Boise| ID|34296|         Sunwest Bank|   31-Jan-14|\n",
            "|Republic Federal ...|           Miami| FL|22846|      1st United Bank|   11-Dec-09|\n",
            "|Westside Communit...|University Place| WA|33997|         Sunwest Bank|   11-Jan-13|\n",
            "|   First United Bank|           Crete| IL|20685| Old Plank Trail C...|   28-Sep-12|\n",
            "|HarVest Bank of M...|    Gaithersburg| MD|57766|             Sonabank|   27-Apr-12|\n",
            "|            BankEast|       Knoxville| TN|19869|      U.S. Bank, N.A.|   27-Jan-12|\n",
            "|    Polk County Bank|        Johnston| IA|14194|  Grinnell State Bank|   18-Nov-11|\n",
            "|Colorado Capital ...|     Castle Rock| CO|34522| First-Citizens Ba...|    8-Jul-11|\n",
            "|         Access Bank|        Champlin| MN|16476|            PrinsBank|    7-May-10|\n",
            "|Pacific National ...|   San Francisco| CA|30006|       U.S. Bank N.A.|   30-Oct-09|\n",
            "+--------------------+----------------+---+-----+---------------------+------------+\n",
            "only showing top 20 rows\n",
            "\n"
          ]
        }
      ]
    },
    {
      "cell_type": "code",
      "source": [],
      "metadata": {
        "id": "gY7-FvVqqL26"
      },
      "execution_count": null,
      "outputs": []
    }
  ]
}