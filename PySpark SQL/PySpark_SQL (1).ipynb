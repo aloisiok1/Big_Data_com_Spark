{
  "nbformat": 4,
  "nbformat_minor": 0,
  "metadata": {
    "colab": {
      "provenance": []
    },
    "kernelspec": {
      "name": "python3",
      "display_name": "Python 3"
    },
    "language_info": {
      "name": "python"
    }
  },
  "cells": [
    {
      "cell_type": "code",
      "execution_count": null,
      "metadata": {
        "colab": {
          "base_uri": "https://localhost:8080/"
        },
        "id": "ylcHJDHquPhc",
        "outputId": "89d95836-b4a8-4cc7-e32e-a7ac842acab6"
      },
      "outputs": [
        {
          "output_type": "stream",
          "name": "stdout",
          "text": [
            "Collecting pyspark\n",
            "  Downloading pyspark-3.4.1.tar.gz (310.8 MB)\n",
            "\u001b[2K     \u001b[91m━━\u001b[0m\u001b[91m╸\u001b[0m\u001b[90m━━━━━━━━━━━━━━━━━━━━━━━━━━━━━━━━━━━━\u001b[0m \u001b[32m21.5/310.8 MB\u001b[0m \u001b[31m83.1 MB/s\u001b[0m eta \u001b[36m0:00:04\u001b[0m"
          ]
        }
      ],
      "source": [
        "!pip install pyspark"
      ]
    },
    {
      "cell_type": "code",
      "source": [
        "import pyspark\n",
        "from pyspark.sql import SparkSession\n",
        "spark = SparkSession.builder.master(\"local[*]\").getOrCreate()"
      ],
      "metadata": {
        "id": "NZ-4mfm_v4Xe"
      },
      "execution_count": null,
      "outputs": []
    },
    {
      "cell_type": "markdown",
      "source": [
        "#1 spark SQL - Consultas e Seleções"
      ],
      "metadata": {
        "id": "L4wyWVoNwdy0"
      }
    },
    {
      "cell_type": "code",
      "source": [
        "df = spark.sql('''select 'ok' as Status''')\n",
        "df.show()"
      ],
      "metadata": {
        "id": "ms2NkVHwwYM-"
      },
      "execution_count": null,
      "outputs": []
    },
    {
      "cell_type": "markdown",
      "source": [
        "#2 Importing Data"
      ],
      "metadata": {
        "id": "3hBwBSa8w5zy"
      }
    },
    {
      "cell_type": "code",
      "source": [
        "#Gerado com base em python\n",
        "df = spark.read.csv(\"/content/cereal.csv\", sep = \",\", inferSchema = True, header = True)\n",
        "df.show()"
      ],
      "metadata": {
        "id": "zzrcckCfwwSb"
      },
      "execution_count": null,
      "outputs": []
    },
    {
      "cell_type": "markdown",
      "source": [
        "#3 Manipulation Data with Spark SQL"
      ],
      "metadata": {
        "id": "ANxfrlO5xRia"
      }
    },
    {
      "cell_type": "code",
      "source": [
        "df.createOrReplaceTempView(\"cereal\")"
      ],
      "metadata": {
        "id": "vfPSxUPNxt2q"
      },
      "execution_count": null,
      "outputs": []
    },
    {
      "cell_type": "code",
      "source": [
        "#Gerado com base em SQL\n",
        "cereal = spark.sql('''select * from cereal''')\n",
        "cereal.show()"
      ],
      "metadata": {
        "id": "wKfAxgpHx6nb"
      },
      "execution_count": null,
      "outputs": []
    },
    {
      "cell_type": "code",
      "source": [
        "#filtro com Pyspark SQL\n",
        "cereal = spark.sql('''select * from cereal where type = 'C' ''')\n",
        "cereal.show()"
      ],
      "metadata": {
        "id": "U4sAayFAyI6C"
      },
      "execution_count": null,
      "outputs": []
    },
    {
      "cell_type": "code",
      "source": [
        "df1 = df.where(df[\"type\"]== \"C\")\n",
        "df1.show()"
      ],
      "metadata": {
        "id": "ZdVRx5BQySAq"
      },
      "execution_count": null,
      "outputs": []
    },
    {
      "cell_type": "code",
      "source": [
        "cereal = spark.sql('''select count(*) as total from cereal where mfr = 'G' ''')\n",
        "cereal.show()"
      ],
      "metadata": {
        "id": "k3Rb3jG2y7Sr"
      },
      "execution_count": null,
      "outputs": []
    },
    {
      "cell_type": "code",
      "source": [
        "df.where(df[\"mfr\"] == \"G\").count()"
      ],
      "metadata": {
        "id": "Cc1430Rb0M5z"
      },
      "execution_count": null,
      "outputs": []
    },
    {
      "cell_type": "markdown",
      "source": [
        "#4 Select no PySpark SQL"
      ],
      "metadata": {
        "id": "nzAGN1841foz"
      }
    },
    {
      "cell_type": "code",
      "source": [
        "df.printSchema()"
      ],
      "metadata": {
        "id": "VQbICQcM18PM"
      },
      "execution_count": null,
      "outputs": []
    },
    {
      "cell_type": "code",
      "source": [
        "df.createOrReplaceTempView(\"cereal\")"
      ],
      "metadata": {
        "id": "fqSbCFod2LV6"
      },
      "execution_count": null,
      "outputs": []
    },
    {
      "cell_type": "code",
      "source": [
        "cereal = spark.sql('''select name, type, mfr from cereal ''')\n",
        "cereal.show()"
      ],
      "metadata": {
        "id": "MaaltZCI0WmZ"
      },
      "execution_count": null,
      "outputs": []
    },
    {
      "cell_type": "markdown",
      "source": [
        "#5 Exclusão de valores repetidos, deixando apenas valores únicos"
      ],
      "metadata": {
        "id": "35As_iVe2m2y"
      }
    },
    {
      "cell_type": "code",
      "source": [
        "cereal = spark.sql('''select type, mfr from cereal ''')\n",
        "cereal.show()"
      ],
      "metadata": {
        "id": "Adk58tJB2TDR"
      },
      "execution_count": null,
      "outputs": []
    },
    {
      "cell_type": "code",
      "source": [
        "cereal = spark.sql('''select type, mfr from cereal ''')\n",
        "cereal.count()"
      ],
      "metadata": {
        "id": "rae0pszF21Uy"
      },
      "execution_count": null,
      "outputs": []
    },
    {
      "cell_type": "code",
      "source": [
        "cereal = spark.sql('''select distinct type, mfr from cereal ''')\n",
        "cereal.show()"
      ],
      "metadata": {
        "id": "zXlHWCeB2kzp"
      },
      "execution_count": null,
      "outputs": []
    },
    {
      "cell_type": "code",
      "source": [
        "cereal = spark.sql('''select distinct type, mfr from cereal ''')\n",
        "cereal.count()"
      ],
      "metadata": {
        "id": "3H5KNO6P2wIJ"
      },
      "execution_count": null,
      "outputs": []
    },
    {
      "cell_type": "markdown",
      "source": [
        "#6 Where no Spark SQL (filtro)"
      ],
      "metadata": {
        "id": "Y0E_0r9a28jZ"
      }
    },
    {
      "cell_type": "code",
      "source": [
        "cereal = spark.sql('''select * from cereal where mfr = \"N\" ''')\n",
        "cereal.count()"
      ],
      "metadata": {
        "id": "NizhrGht2634"
      },
      "execution_count": null,
      "outputs": []
    },
    {
      "cell_type": "code",
      "source": [
        "cereal = spark.sql('''select * from cereal where mfr = \"K\" and calories >= 100  ''')\n",
        "cereal.count()"
      ],
      "metadata": {
        "id": "nVdl3p4F3a5B"
      },
      "execution_count": null,
      "outputs": []
    },
    {
      "cell_type": "code",
      "source": [
        "cereal = spark.sql('''select * from cereal where mfr = \"K\" and calories >= 100  ''')\n",
        "cereal.show()"
      ],
      "metadata": {
        "id": "wX205-w-3pxp"
      },
      "execution_count": null,
      "outputs": []
    },
    {
      "cell_type": "markdown",
      "source": [
        "#7 Group By"
      ],
      "metadata": {
        "id": "If7xD1ep4d0p"
      }
    },
    {
      "cell_type": "code",
      "source": [
        "cereal = spark.sql('''SELECT mfr, type, COUNT(*) FROM cereal GROUP BY mfr, type  ''')\n",
        "cereal.count()"
      ],
      "metadata": {
        "id": "XVPoB3oA5eBy"
      },
      "execution_count": null,
      "outputs": []
    },
    {
      "cell_type": "code",
      "source": [
        "cereal = spark.sql('''SELECT mfr, type, COUNT(*) AS total FROM cereal GROUP BY mfr, type  ''')\n",
        "cereal.show()"
      ],
      "metadata": {
        "id": "F_Ss2y0_3xaZ"
      },
      "execution_count": null,
      "outputs": []
    },
    {
      "cell_type": "code",
      "source": [
        "cereal = spark.sql('''SELECT mfr, type, COUNT(*) AS total, SUM(calories) as Total_calories FROM cereal GROUP BY mfr, type  ''')\n",
        "cereal.show()"
      ],
      "metadata": {
        "id": "4vFEWVFR47MJ"
      },
      "execution_count": null,
      "outputs": []
    },
    {
      "cell_type": "code",
      "source": [
        "cereal = spark.sql('''SELECT mfr, type, COUNT(*) AS total, SUM(calories) as Total_calories FROM cereal GROUP BY mfr, type  ''')\n",
        "cereal.count()"
      ],
      "metadata": {
        "id": "-iPw-dBN6Ckx"
      },
      "execution_count": null,
      "outputs": []
    },
    {
      "cell_type": "code",
      "source": [
        "#organizando a estrutura de uma forma mais legivel\n",
        "cereal = spark.sql('''SELECT mfr, \\\n",
        "                             type, \\\n",
        "                             COUNT(*) AS total, \\\n",
        "                             SUM(calories) as Total_calories\n",
        "                      FROM cereal \\\n",
        "                      GROUP BY \\\n",
        "                             mfr, \\\n",
        "                             type  ''')\n",
        "cereal.count()"
      ],
      "metadata": {
        "id": "mfX87WWn6FyZ"
      },
      "execution_count": null,
      "outputs": []
    },
    {
      "cell_type": "markdown",
      "source": [
        "#8 Case When\n"
      ],
      "metadata": {
        "id": "ki69ok9n7UcT"
      }
    },
    {
      "cell_type": "code",
      "source": [
        "cereal = spark.sql('''SELECT DISTINCT type\n",
        "                      FROM cereal ''')\n",
        "cereal.show()"
      ],
      "metadata": {
        "id": "laY1LdfM7g45"
      },
      "execution_count": null,
      "outputs": []
    },
    {
      "cell_type": "code",
      "source": [
        "cereal = spark.sql('''SELECT mfr, \\\n",
        "                             (case\n",
        "                                   when type = \"C\" then \"A\"\n",
        "                                   else \"B\" end) as type_new,\n",
        "                             COUNT(*) AS total, \\\n",
        "                             SUM(calories) as Total_calories\n",
        "                      FROM cereal \\\n",
        "                      GROUP BY \\\n",
        "                             mfr, \\\n",
        "                             type  ''')\n",
        "cereal.show()"
      ],
      "metadata": {
        "id": "H-a-6l9V7Zhh"
      },
      "execution_count": null,
      "outputs": []
    },
    {
      "cell_type": "code",
      "source": [
        "A"
      ],
      "metadata": {
        "id": "Qwsvsm5B72gw"
      },
      "execution_count": null,
      "outputs": []
    }
  ]
}