{
  "nbformat": 4,
  "nbformat_minor": 0,
  "metadata": {
    "colab": {
      "provenance": []
    },
    "kernelspec": {
      "name": "python3",
      "display_name": "Python 3"
    },
    "language_info": {
      "name": "python"
    }
  },
  "cells": [
    {
      "cell_type": "code",
      "execution_count": 96,
      "metadata": {
        "colab": {
          "base_uri": "https://localhost:8080/"
        },
        "id": "ylcHJDHquPhc",
        "outputId": "30c74db0-be24-41b5-f8cd-569082cd5d59"
      },
      "outputs": [
        {
          "output_type": "stream",
          "name": "stdout",
          "text": [
            "Requirement already satisfied: pyspark in /usr/local/lib/python3.10/dist-packages (3.4.1)\n",
            "Requirement already satisfied: py4j==0.10.9.7 in /usr/local/lib/python3.10/dist-packages (from pyspark) (0.10.9.7)\n"
          ]
        }
      ],
      "source": [
        "!pip install pyspark"
      ]
    },
    {
      "cell_type": "code",
      "source": [
        "import pyspark\n",
        "from pyspark.sql import SparkSession\n",
        "spark = SparkSession.builder.master(\"local[*]\").getOrCreate()"
      ],
      "metadata": {
        "id": "NZ-4mfm_v4Xe"
      },
      "execution_count": 97,
      "outputs": []
    },
    {
      "cell_type": "markdown",
      "source": [
        "#1 Spark SQL - Consultas e Seleções"
      ],
      "metadata": {
        "id": "L4wyWVoNwdy0"
      }
    },
    {
      "cell_type": "code",
      "source": [
        "df = spark.sql('''select 'ok' as Status''')\n",
        "df.show()"
      ],
      "metadata": {
        "colab": {
          "base_uri": "https://localhost:8080/"
        },
        "id": "ms2NkVHwwYM-",
        "outputId": "ffd089c0-1588-4f72-d005-a9003c8bc2af"
      },
      "execution_count": 98,
      "outputs": [
        {
          "output_type": "stream",
          "name": "stdout",
          "text": [
            "+------+\n",
            "|Status|\n",
            "+------+\n",
            "|    ok|\n",
            "+------+\n",
            "\n"
          ]
        }
      ]
    },
    {
      "cell_type": "markdown",
      "source": [
        "#2 Importing Data"
      ],
      "metadata": {
        "id": "3hBwBSa8w5zy"
      }
    },
    {
      "cell_type": "code",
      "source": [
        "#Gerado com base em python\n",
        "df = spark.read.csv(\"/content/cereal.csv\", sep = \",\", inferSchema = True, header = True)\n",
        "df.show()"
      ],
      "metadata": {
        "colab": {
          "base_uri": "https://localhost:8080/"
        },
        "id": "zzrcckCfwwSb",
        "outputId": "9d034f6b-31ee-4e4c-e4b6-ddce66ba1004"
      },
      "execution_count": 99,
      "outputs": [
        {
          "output_type": "stream",
          "name": "stdout",
          "text": [
            "+--------------------+---+----+--------+-------+---+------+-----+-----+------+------+--------+-----+------+----+---------+\n",
            "|                name|mfr|type|calories|protein|fat|sodium|fiber|carbo|sugars|potass|vitamins|shelf|weight|cups|   rating|\n",
            "+--------------------+---+----+--------+-------+---+------+-----+-----+------+------+--------+-----+------+----+---------+\n",
            "|           100% Bran|  N|   C|      70|      4|  1|   130| 10.0|  5.0|     6|   280|      25|    3|   1.0|0.33|68.402973|\n",
            "|   100% Natural Bran|  Q|   C|     120|      3|  5|    15|  2.0|  8.0|     8|   135|       0|    3|   1.0| 1.0|33.983679|\n",
            "|            All-Bran|  K|   C|      70|      4|  1|   260|  9.0|  7.0|     5|   320|      25|    3|   1.0|0.33|59.425505|\n",
            "|All-Bran with Ext...|  K|   C|      50|      4|  0|   140| 14.0|  8.0|     0|   330|      25|    3|   1.0| 0.5|93.704912|\n",
            "|      Almond Delight|  R|   C|     110|      2|  2|   200|  1.0| 14.0|     8|    -1|      25|    3|   1.0|0.75|34.384843|\n",
            "|Apple Cinnamon Ch...|  G|   C|     110|      2|  2|   180|  1.5| 10.5|    10|    70|      25|    1|   1.0|0.75|29.509541|\n",
            "|         Apple Jacks|  K|   C|     110|      2|  0|   125|  1.0| 11.0|    14|    30|      25|    2|   1.0| 1.0|33.174094|\n",
            "|             Basic 4|  G|   C|     130|      3|  2|   210|  2.0| 18.0|     8|   100|      25|    3|  1.33|0.75|37.038562|\n",
            "|           Bran Chex|  R|   C|      90|      2|  1|   200|  4.0| 15.0|     6|   125|      25|    1|   1.0|0.67|49.120253|\n",
            "|         Bran Flakes|  P|   C|      90|      3|  0|   210|  5.0| 13.0|     5|   190|      25|    3|   1.0|0.67|53.313813|\n",
            "|        Cap'n'Crunch|  Q|   C|     120|      1|  2|   220|  0.0| 12.0|    12|    35|      25|    2|   1.0|0.75|18.042851|\n",
            "|            Cheerios|  G|   C|     110|      6|  2|   290|  2.0| 17.0|     1|   105|      25|    1|   1.0|1.25|50.764999|\n",
            "|Cinnamon Toast Cr...|  G|   C|     120|      1|  3|   210|  0.0| 13.0|     9|    45|      25|    2|   1.0|0.75|19.823573|\n",
            "|            Clusters|  G|   C|     110|      3|  2|   140|  2.0| 13.0|     7|   105|      25|    3|   1.0| 0.5|40.400208|\n",
            "|         Cocoa Puffs|  G|   C|     110|      1|  1|   180|  0.0| 12.0|    13|    55|      25|    2|   1.0| 1.0|22.736446|\n",
            "|           Corn Chex|  R|   C|     110|      2|  0|   280|  0.0| 22.0|     3|    25|      25|    1|   1.0| 1.0|41.445019|\n",
            "|         Corn Flakes|  K|   C|     100|      2|  0|   290|  1.0| 21.0|     2|    35|      25|    1|   1.0| 1.0|45.863324|\n",
            "|           Corn Pops|  K|   C|     110|      1|  0|    90|  1.0| 13.0|    12|    20|      25|    2|   1.0| 1.0|35.782791|\n",
            "|       Count Chocula|  G|   C|     110|      1|  1|   180|  0.0| 12.0|    13|    65|      25|    2|   1.0| 1.0|22.396513|\n",
            "|  Cracklin' Oat Bran|  K|   C|     110|      3|  3|   140|  4.0| 10.0|     7|   160|      25|    3|   1.0| 0.5|40.448772|\n",
            "+--------------------+---+----+--------+-------+---+------+-----+-----+------+------+--------+-----+------+----+---------+\n",
            "only showing top 20 rows\n",
            "\n"
          ]
        }
      ]
    },
    {
      "cell_type": "markdown",
      "source": [
        "#3 Manipulation Data with Spark SQL"
      ],
      "metadata": {
        "id": "ANxfrlO5xRia"
      }
    },
    {
      "cell_type": "code",
      "source": [
        "df.createOrReplaceTempView(\"cereal\")"
      ],
      "metadata": {
        "id": "vfPSxUPNxt2q"
      },
      "execution_count": 100,
      "outputs": []
    },
    {
      "cell_type": "code",
      "source": [
        "#Gerado com base em SQL\n",
        "cereal = spark.sql('''select * from cereal''')\n",
        "cereal.show()"
      ],
      "metadata": {
        "colab": {
          "base_uri": "https://localhost:8080/"
        },
        "id": "wKfAxgpHx6nb",
        "outputId": "3e3d5233-b39f-41ec-e3e4-ebfd7fc08d16"
      },
      "execution_count": 101,
      "outputs": [
        {
          "output_type": "stream",
          "name": "stdout",
          "text": [
            "+--------------------+---+----+--------+-------+---+------+-----+-----+------+------+--------+-----+------+----+---------+\n",
            "|                name|mfr|type|calories|protein|fat|sodium|fiber|carbo|sugars|potass|vitamins|shelf|weight|cups|   rating|\n",
            "+--------------------+---+----+--------+-------+---+------+-----+-----+------+------+--------+-----+------+----+---------+\n",
            "|           100% Bran|  N|   C|      70|      4|  1|   130| 10.0|  5.0|     6|   280|      25|    3|   1.0|0.33|68.402973|\n",
            "|   100% Natural Bran|  Q|   C|     120|      3|  5|    15|  2.0|  8.0|     8|   135|       0|    3|   1.0| 1.0|33.983679|\n",
            "|            All-Bran|  K|   C|      70|      4|  1|   260|  9.0|  7.0|     5|   320|      25|    3|   1.0|0.33|59.425505|\n",
            "|All-Bran with Ext...|  K|   C|      50|      4|  0|   140| 14.0|  8.0|     0|   330|      25|    3|   1.0| 0.5|93.704912|\n",
            "|      Almond Delight|  R|   C|     110|      2|  2|   200|  1.0| 14.0|     8|    -1|      25|    3|   1.0|0.75|34.384843|\n",
            "|Apple Cinnamon Ch...|  G|   C|     110|      2|  2|   180|  1.5| 10.5|    10|    70|      25|    1|   1.0|0.75|29.509541|\n",
            "|         Apple Jacks|  K|   C|     110|      2|  0|   125|  1.0| 11.0|    14|    30|      25|    2|   1.0| 1.0|33.174094|\n",
            "|             Basic 4|  G|   C|     130|      3|  2|   210|  2.0| 18.0|     8|   100|      25|    3|  1.33|0.75|37.038562|\n",
            "|           Bran Chex|  R|   C|      90|      2|  1|   200|  4.0| 15.0|     6|   125|      25|    1|   1.0|0.67|49.120253|\n",
            "|         Bran Flakes|  P|   C|      90|      3|  0|   210|  5.0| 13.0|     5|   190|      25|    3|   1.0|0.67|53.313813|\n",
            "|        Cap'n'Crunch|  Q|   C|     120|      1|  2|   220|  0.0| 12.0|    12|    35|      25|    2|   1.0|0.75|18.042851|\n",
            "|            Cheerios|  G|   C|     110|      6|  2|   290|  2.0| 17.0|     1|   105|      25|    1|   1.0|1.25|50.764999|\n",
            "|Cinnamon Toast Cr...|  G|   C|     120|      1|  3|   210|  0.0| 13.0|     9|    45|      25|    2|   1.0|0.75|19.823573|\n",
            "|            Clusters|  G|   C|     110|      3|  2|   140|  2.0| 13.0|     7|   105|      25|    3|   1.0| 0.5|40.400208|\n",
            "|         Cocoa Puffs|  G|   C|     110|      1|  1|   180|  0.0| 12.0|    13|    55|      25|    2|   1.0| 1.0|22.736446|\n",
            "|           Corn Chex|  R|   C|     110|      2|  0|   280|  0.0| 22.0|     3|    25|      25|    1|   1.0| 1.0|41.445019|\n",
            "|         Corn Flakes|  K|   C|     100|      2|  0|   290|  1.0| 21.0|     2|    35|      25|    1|   1.0| 1.0|45.863324|\n",
            "|           Corn Pops|  K|   C|     110|      1|  0|    90|  1.0| 13.0|    12|    20|      25|    2|   1.0| 1.0|35.782791|\n",
            "|       Count Chocula|  G|   C|     110|      1|  1|   180|  0.0| 12.0|    13|    65|      25|    2|   1.0| 1.0|22.396513|\n",
            "|  Cracklin' Oat Bran|  K|   C|     110|      3|  3|   140|  4.0| 10.0|     7|   160|      25|    3|   1.0| 0.5|40.448772|\n",
            "+--------------------+---+----+--------+-------+---+------+-----+-----+------+------+--------+-----+------+----+---------+\n",
            "only showing top 20 rows\n",
            "\n"
          ]
        }
      ]
    },
    {
      "cell_type": "code",
      "source": [
        "#filtro com Pyspark SQL\n",
        "cereal = spark.sql('''select * from cereal where type = 'C' ''')\n",
        "cereal.show()"
      ],
      "metadata": {
        "colab": {
          "base_uri": "https://localhost:8080/"
        },
        "id": "U4sAayFAyI6C",
        "outputId": "ad363552-01b0-4401-98d3-cd1eb7742165"
      },
      "execution_count": 102,
      "outputs": [
        {
          "output_type": "stream",
          "name": "stdout",
          "text": [
            "+--------------------+---+----+--------+-------+---+------+-----+-----+------+------+--------+-----+------+----+---------+\n",
            "|                name|mfr|type|calories|protein|fat|sodium|fiber|carbo|sugars|potass|vitamins|shelf|weight|cups|   rating|\n",
            "+--------------------+---+----+--------+-------+---+------+-----+-----+------+------+--------+-----+------+----+---------+\n",
            "|           100% Bran|  N|   C|      70|      4|  1|   130| 10.0|  5.0|     6|   280|      25|    3|   1.0|0.33|68.402973|\n",
            "|   100% Natural Bran|  Q|   C|     120|      3|  5|    15|  2.0|  8.0|     8|   135|       0|    3|   1.0| 1.0|33.983679|\n",
            "|            All-Bran|  K|   C|      70|      4|  1|   260|  9.0|  7.0|     5|   320|      25|    3|   1.0|0.33|59.425505|\n",
            "|All-Bran with Ext...|  K|   C|      50|      4|  0|   140| 14.0|  8.0|     0|   330|      25|    3|   1.0| 0.5|93.704912|\n",
            "|      Almond Delight|  R|   C|     110|      2|  2|   200|  1.0| 14.0|     8|    -1|      25|    3|   1.0|0.75|34.384843|\n",
            "|Apple Cinnamon Ch...|  G|   C|     110|      2|  2|   180|  1.5| 10.5|    10|    70|      25|    1|   1.0|0.75|29.509541|\n",
            "|         Apple Jacks|  K|   C|     110|      2|  0|   125|  1.0| 11.0|    14|    30|      25|    2|   1.0| 1.0|33.174094|\n",
            "|             Basic 4|  G|   C|     130|      3|  2|   210|  2.0| 18.0|     8|   100|      25|    3|  1.33|0.75|37.038562|\n",
            "|           Bran Chex|  R|   C|      90|      2|  1|   200|  4.0| 15.0|     6|   125|      25|    1|   1.0|0.67|49.120253|\n",
            "|         Bran Flakes|  P|   C|      90|      3|  0|   210|  5.0| 13.0|     5|   190|      25|    3|   1.0|0.67|53.313813|\n",
            "|        Cap'n'Crunch|  Q|   C|     120|      1|  2|   220|  0.0| 12.0|    12|    35|      25|    2|   1.0|0.75|18.042851|\n",
            "|            Cheerios|  G|   C|     110|      6|  2|   290|  2.0| 17.0|     1|   105|      25|    1|   1.0|1.25|50.764999|\n",
            "|Cinnamon Toast Cr...|  G|   C|     120|      1|  3|   210|  0.0| 13.0|     9|    45|      25|    2|   1.0|0.75|19.823573|\n",
            "|            Clusters|  G|   C|     110|      3|  2|   140|  2.0| 13.0|     7|   105|      25|    3|   1.0| 0.5|40.400208|\n",
            "|         Cocoa Puffs|  G|   C|     110|      1|  1|   180|  0.0| 12.0|    13|    55|      25|    2|   1.0| 1.0|22.736446|\n",
            "|           Corn Chex|  R|   C|     110|      2|  0|   280|  0.0| 22.0|     3|    25|      25|    1|   1.0| 1.0|41.445019|\n",
            "|         Corn Flakes|  K|   C|     100|      2|  0|   290|  1.0| 21.0|     2|    35|      25|    1|   1.0| 1.0|45.863324|\n",
            "|           Corn Pops|  K|   C|     110|      1|  0|    90|  1.0| 13.0|    12|    20|      25|    2|   1.0| 1.0|35.782791|\n",
            "|       Count Chocula|  G|   C|     110|      1|  1|   180|  0.0| 12.0|    13|    65|      25|    2|   1.0| 1.0|22.396513|\n",
            "|  Cracklin' Oat Bran|  K|   C|     110|      3|  3|   140|  4.0| 10.0|     7|   160|      25|    3|   1.0| 0.5|40.448772|\n",
            "+--------------------+---+----+--------+-------+---+------+-----+-----+------+------+--------+-----+------+----+---------+\n",
            "only showing top 20 rows\n",
            "\n"
          ]
        }
      ]
    },
    {
      "cell_type": "code",
      "source": [
        "df1 = df.where(df[\"type\"]== \"C\")\n",
        "df1.show()"
      ],
      "metadata": {
        "colab": {
          "base_uri": "https://localhost:8080/"
        },
        "id": "ZdVRx5BQySAq",
        "outputId": "8b8456ee-3433-40de-e5cf-3a3786ac0cfe"
      },
      "execution_count": 103,
      "outputs": [
        {
          "output_type": "stream",
          "name": "stdout",
          "text": [
            "+--------------------+---+----+--------+-------+---+------+-----+-----+------+------+--------+-----+------+----+---------+\n",
            "|                name|mfr|type|calories|protein|fat|sodium|fiber|carbo|sugars|potass|vitamins|shelf|weight|cups|   rating|\n",
            "+--------------------+---+----+--------+-------+---+------+-----+-----+------+------+--------+-----+------+----+---------+\n",
            "|           100% Bran|  N|   C|      70|      4|  1|   130| 10.0|  5.0|     6|   280|      25|    3|   1.0|0.33|68.402973|\n",
            "|   100% Natural Bran|  Q|   C|     120|      3|  5|    15|  2.0|  8.0|     8|   135|       0|    3|   1.0| 1.0|33.983679|\n",
            "|            All-Bran|  K|   C|      70|      4|  1|   260|  9.0|  7.0|     5|   320|      25|    3|   1.0|0.33|59.425505|\n",
            "|All-Bran with Ext...|  K|   C|      50|      4|  0|   140| 14.0|  8.0|     0|   330|      25|    3|   1.0| 0.5|93.704912|\n",
            "|      Almond Delight|  R|   C|     110|      2|  2|   200|  1.0| 14.0|     8|    -1|      25|    3|   1.0|0.75|34.384843|\n",
            "|Apple Cinnamon Ch...|  G|   C|     110|      2|  2|   180|  1.5| 10.5|    10|    70|      25|    1|   1.0|0.75|29.509541|\n",
            "|         Apple Jacks|  K|   C|     110|      2|  0|   125|  1.0| 11.0|    14|    30|      25|    2|   1.0| 1.0|33.174094|\n",
            "|             Basic 4|  G|   C|     130|      3|  2|   210|  2.0| 18.0|     8|   100|      25|    3|  1.33|0.75|37.038562|\n",
            "|           Bran Chex|  R|   C|      90|      2|  1|   200|  4.0| 15.0|     6|   125|      25|    1|   1.0|0.67|49.120253|\n",
            "|         Bran Flakes|  P|   C|      90|      3|  0|   210|  5.0| 13.0|     5|   190|      25|    3|   1.0|0.67|53.313813|\n",
            "|        Cap'n'Crunch|  Q|   C|     120|      1|  2|   220|  0.0| 12.0|    12|    35|      25|    2|   1.0|0.75|18.042851|\n",
            "|            Cheerios|  G|   C|     110|      6|  2|   290|  2.0| 17.0|     1|   105|      25|    1|   1.0|1.25|50.764999|\n",
            "|Cinnamon Toast Cr...|  G|   C|     120|      1|  3|   210|  0.0| 13.0|     9|    45|      25|    2|   1.0|0.75|19.823573|\n",
            "|            Clusters|  G|   C|     110|      3|  2|   140|  2.0| 13.0|     7|   105|      25|    3|   1.0| 0.5|40.400208|\n",
            "|         Cocoa Puffs|  G|   C|     110|      1|  1|   180|  0.0| 12.0|    13|    55|      25|    2|   1.0| 1.0|22.736446|\n",
            "|           Corn Chex|  R|   C|     110|      2|  0|   280|  0.0| 22.0|     3|    25|      25|    1|   1.0| 1.0|41.445019|\n",
            "|         Corn Flakes|  K|   C|     100|      2|  0|   290|  1.0| 21.0|     2|    35|      25|    1|   1.0| 1.0|45.863324|\n",
            "|           Corn Pops|  K|   C|     110|      1|  0|    90|  1.0| 13.0|    12|    20|      25|    2|   1.0| 1.0|35.782791|\n",
            "|       Count Chocula|  G|   C|     110|      1|  1|   180|  0.0| 12.0|    13|    65|      25|    2|   1.0| 1.0|22.396513|\n",
            "|  Cracklin' Oat Bran|  K|   C|     110|      3|  3|   140|  4.0| 10.0|     7|   160|      25|    3|   1.0| 0.5|40.448772|\n",
            "+--------------------+---+----+--------+-------+---+------+-----+-----+------+------+--------+-----+------+----+---------+\n",
            "only showing top 20 rows\n",
            "\n"
          ]
        }
      ]
    },
    {
      "cell_type": "code",
      "source": [
        "cereal = spark.sql('''select count(*) as total from cereal where mfr = 'G' ''')\n",
        "cereal.show()"
      ],
      "metadata": {
        "colab": {
          "base_uri": "https://localhost:8080/"
        },
        "id": "k3Rb3jG2y7Sr",
        "outputId": "27ffac1a-cc62-4f6d-91a5-ecb1c7b599bb"
      },
      "execution_count": 104,
      "outputs": [
        {
          "output_type": "stream",
          "name": "stdout",
          "text": [
            "+-----+\n",
            "|total|\n",
            "+-----+\n",
            "|   22|\n",
            "+-----+\n",
            "\n"
          ]
        }
      ]
    },
    {
      "cell_type": "code",
      "source": [
        "df.where(df[\"mfr\"] == \"G\").count()"
      ],
      "metadata": {
        "colab": {
          "base_uri": "https://localhost:8080/"
        },
        "id": "Cc1430Rb0M5z",
        "outputId": "6d474894-d502-4aa0-e892-393ba3000baf"
      },
      "execution_count": 105,
      "outputs": [
        {
          "output_type": "execute_result",
          "data": {
            "text/plain": [
              "22"
            ]
          },
          "metadata": {},
          "execution_count": 105
        }
      ]
    },
    {
      "cell_type": "markdown",
      "source": [
        "#4 Select no PySpark SQL"
      ],
      "metadata": {
        "id": "nzAGN1841foz"
      }
    },
    {
      "cell_type": "code",
      "source": [
        "df.printSchema()"
      ],
      "metadata": {
        "colab": {
          "base_uri": "https://localhost:8080/"
        },
        "id": "VQbICQcM18PM",
        "outputId": "97efcae1-fb0a-4ad1-c266-b10e0645ccdd"
      },
      "execution_count": 106,
      "outputs": [
        {
          "output_type": "stream",
          "name": "stdout",
          "text": [
            "root\n",
            " |-- name: string (nullable = true)\n",
            " |-- mfr: string (nullable = true)\n",
            " |-- type: string (nullable = true)\n",
            " |-- calories: integer (nullable = true)\n",
            " |-- protein: integer (nullable = true)\n",
            " |-- fat: integer (nullable = true)\n",
            " |-- sodium: integer (nullable = true)\n",
            " |-- fiber: double (nullable = true)\n",
            " |-- carbo: double (nullable = true)\n",
            " |-- sugars: integer (nullable = true)\n",
            " |-- potass: integer (nullable = true)\n",
            " |-- vitamins: integer (nullable = true)\n",
            " |-- shelf: integer (nullable = true)\n",
            " |-- weight: double (nullable = true)\n",
            " |-- cups: double (nullable = true)\n",
            " |-- rating: double (nullable = true)\n",
            "\n"
          ]
        }
      ]
    },
    {
      "cell_type": "code",
      "source": [
        "df.createOrReplaceTempView(\"cereal\")"
      ],
      "metadata": {
        "id": "fqSbCFod2LV6"
      },
      "execution_count": 107,
      "outputs": []
    },
    {
      "cell_type": "code",
      "source": [
        "cereal = spark.sql('''select name, type, mfr from cereal ''')\n",
        "cereal.show()"
      ],
      "metadata": {
        "colab": {
          "base_uri": "https://localhost:8080/"
        },
        "id": "MaaltZCI0WmZ",
        "outputId": "2d0b2dc7-c60f-412d-e0d4-2467170c98b6"
      },
      "execution_count": 108,
      "outputs": [
        {
          "output_type": "stream",
          "name": "stdout",
          "text": [
            "+--------------------+----+---+\n",
            "|                name|type|mfr|\n",
            "+--------------------+----+---+\n",
            "|           100% Bran|   C|  N|\n",
            "|   100% Natural Bran|   C|  Q|\n",
            "|            All-Bran|   C|  K|\n",
            "|All-Bran with Ext...|   C|  K|\n",
            "|      Almond Delight|   C|  R|\n",
            "|Apple Cinnamon Ch...|   C|  G|\n",
            "|         Apple Jacks|   C|  K|\n",
            "|             Basic 4|   C|  G|\n",
            "|           Bran Chex|   C|  R|\n",
            "|         Bran Flakes|   C|  P|\n",
            "|        Cap'n'Crunch|   C|  Q|\n",
            "|            Cheerios|   C|  G|\n",
            "|Cinnamon Toast Cr...|   C|  G|\n",
            "|            Clusters|   C|  G|\n",
            "|         Cocoa Puffs|   C|  G|\n",
            "|           Corn Chex|   C|  R|\n",
            "|         Corn Flakes|   C|  K|\n",
            "|           Corn Pops|   C|  K|\n",
            "|       Count Chocula|   C|  G|\n",
            "|  Cracklin' Oat Bran|   C|  K|\n",
            "+--------------------+----+---+\n",
            "only showing top 20 rows\n",
            "\n"
          ]
        }
      ]
    },
    {
      "cell_type": "markdown",
      "source": [
        "#5 Exclusão de valores repetidos, deixando apenas valores únicos"
      ],
      "metadata": {
        "id": "35As_iVe2m2y"
      }
    },
    {
      "cell_type": "code",
      "source": [
        "cereal = spark.sql('''select type, mfr from cereal ''')\n",
        "cereal.show()"
      ],
      "metadata": {
        "colab": {
          "base_uri": "https://localhost:8080/"
        },
        "id": "Adk58tJB2TDR",
        "outputId": "b1bcb0f1-e836-4062-977a-bea878704eaf"
      },
      "execution_count": 109,
      "outputs": [
        {
          "output_type": "stream",
          "name": "stdout",
          "text": [
            "+----+---+\n",
            "|type|mfr|\n",
            "+----+---+\n",
            "|   C|  N|\n",
            "|   C|  Q|\n",
            "|   C|  K|\n",
            "|   C|  K|\n",
            "|   C|  R|\n",
            "|   C|  G|\n",
            "|   C|  K|\n",
            "|   C|  G|\n",
            "|   C|  R|\n",
            "|   C|  P|\n",
            "|   C|  Q|\n",
            "|   C|  G|\n",
            "|   C|  G|\n",
            "|   C|  G|\n",
            "|   C|  G|\n",
            "|   C|  R|\n",
            "|   C|  K|\n",
            "|   C|  K|\n",
            "|   C|  G|\n",
            "|   C|  K|\n",
            "+----+---+\n",
            "only showing top 20 rows\n",
            "\n"
          ]
        }
      ]
    },
    {
      "cell_type": "code",
      "source": [
        "cereal = spark.sql('''select type, mfr from cereal ''')\n",
        "cereal.count()"
      ],
      "metadata": {
        "colab": {
          "base_uri": "https://localhost:8080/"
        },
        "id": "rae0pszF21Uy",
        "outputId": "9f149061-9c62-4f95-8f39-f660ea7b04f7"
      },
      "execution_count": 110,
      "outputs": [
        {
          "output_type": "execute_result",
          "data": {
            "text/plain": [
              "77"
            ]
          },
          "metadata": {},
          "execution_count": 110
        }
      ]
    },
    {
      "cell_type": "code",
      "source": [
        "cereal = spark.sql('''select distinct type, mfr from cereal ''')\n",
        "cereal.show()"
      ],
      "metadata": {
        "colab": {
          "base_uri": "https://localhost:8080/"
        },
        "id": "zXlHWCeB2kzp",
        "outputId": "500ea1fe-c0a2-4604-f297-10639979b8a7"
      },
      "execution_count": 111,
      "outputs": [
        {
          "output_type": "stream",
          "name": "stdout",
          "text": [
            "+----+---+\n",
            "|type|mfr|\n",
            "+----+---+\n",
            "|   C|  P|\n",
            "|   C|  Q|\n",
            "|   C|  N|\n",
            "|   H|  Q|\n",
            "|   C|  R|\n",
            "|   H|  N|\n",
            "|   C|  G|\n",
            "|   H|  A|\n",
            "|   C|  K|\n",
            "+----+---+\n",
            "\n"
          ]
        }
      ]
    },
    {
      "cell_type": "code",
      "source": [
        "cereal = spark.sql('''select distinct type, mfr from cereal ''')\n",
        "cereal.count()"
      ],
      "metadata": {
        "colab": {
          "base_uri": "https://localhost:8080/"
        },
        "id": "3H5KNO6P2wIJ",
        "outputId": "186a67b9-468b-4fe2-addb-580e943a91d4"
      },
      "execution_count": 112,
      "outputs": [
        {
          "output_type": "execute_result",
          "data": {
            "text/plain": [
              "9"
            ]
          },
          "metadata": {},
          "execution_count": 112
        }
      ]
    },
    {
      "cell_type": "markdown",
      "source": [
        "#6 Where no Spark SQL (filtro)"
      ],
      "metadata": {
        "id": "Y0E_0r9a28jZ"
      }
    },
    {
      "cell_type": "code",
      "source": [
        "cereal = spark.sql('''select * from cereal where mfr = \"N\" ''')\n",
        "cereal.count()"
      ],
      "metadata": {
        "colab": {
          "base_uri": "https://localhost:8080/"
        },
        "id": "NizhrGht2634",
        "outputId": "44c5cb15-5958-400b-9fc5-8537aa219bcc"
      },
      "execution_count": 113,
      "outputs": [
        {
          "output_type": "execute_result",
          "data": {
            "text/plain": [
              "6"
            ]
          },
          "metadata": {},
          "execution_count": 113
        }
      ]
    },
    {
      "cell_type": "code",
      "source": [
        "cereal = spark.sql('''select * from cereal where mfr = \"K\" and calories >= 100  ''')\n",
        "cereal.count()"
      ],
      "metadata": {
        "colab": {
          "base_uri": "https://localhost:8080/"
        },
        "id": "nVdl3p4F3a5B",
        "outputId": "bbf45fca-3b58-4919-f47e-f5f5ee01951d"
      },
      "execution_count": 114,
      "outputs": [
        {
          "output_type": "execute_result",
          "data": {
            "text/plain": [
              "19"
            ]
          },
          "metadata": {},
          "execution_count": 114
        }
      ]
    },
    {
      "cell_type": "code",
      "source": [
        "cereal = spark.sql('''select * from cereal where mfr = \"K\" and calories >= 100  ''')\n",
        "cereal.show()"
      ],
      "metadata": {
        "colab": {
          "base_uri": "https://localhost:8080/"
        },
        "id": "wX205-w-3pxp",
        "outputId": "b284ed12-282d-40f4-9fc5-98e85158206b"
      },
      "execution_count": 115,
      "outputs": [
        {
          "output_type": "stream",
          "name": "stdout",
          "text": [
            "+--------------------+---+----+--------+-------+---+------+-----+-----+------+------+--------+-----+------+----+---------+\n",
            "|                name|mfr|type|calories|protein|fat|sodium|fiber|carbo|sugars|potass|vitamins|shelf|weight|cups|   rating|\n",
            "+--------------------+---+----+--------+-------+---+------+-----+-----+------+------+--------+-----+------+----+---------+\n",
            "|         Apple Jacks|  K|   C|     110|      2|  0|   125|  1.0| 11.0|    14|    30|      25|    2|   1.0| 1.0|33.174094|\n",
            "|         Corn Flakes|  K|   C|     100|      2|  0|   290|  1.0| 21.0|     2|    35|      25|    1|   1.0| 1.0|45.863324|\n",
            "|           Corn Pops|  K|   C|     110|      1|  0|    90|  1.0| 13.0|    12|    20|      25|    2|   1.0| 1.0|35.782791|\n",
            "|  Cracklin' Oat Bran|  K|   C|     110|      3|  3|   140|  4.0| 10.0|     7|   160|      25|    3|   1.0| 0.5|40.448772|\n",
            "|             Crispix|  K|   C|     110|      2|  0|   220|  1.0| 21.0|     3|    30|      25|    3|   1.0| 1.0|46.895644|\n",
            "|         Froot Loops|  K|   C|     110|      2|  1|   125|  1.0| 11.0|    13|    30|      25|    2|   1.0| 1.0|32.207582|\n",
            "|      Frosted Flakes|  K|   C|     110|      1|  0|   200|  1.0| 14.0|    11|    25|      25|    1|   1.0|0.75|31.435973|\n",
            "| Frosted Mini-Wheats|  K|   C|     100|      3|  0|     0|  3.0| 14.0|     7|   100|      25|    2|   1.0| 0.8|58.345141|\n",
            "|       Fruitful Bran|  K|   C|     120|      3|  0|   240|  5.0| 14.0|    12|   190|      25|    3|  1.33|0.67|41.015492|\n",
            "|Just Right Crunch...|  K|   C|     110|      2|  1|   170|  1.0| 17.0|     6|    60|     100|    3|   1.0| 1.0|36.523683|\n",
            "|Just Right Fruit ...|  K|   C|     140|      3|  1|   170|  2.0| 20.0|     9|    95|     100|    3|   1.3|0.75|36.471512|\n",
            "|Mueslix Crispy Blend|  K|   C|     160|      3|  2|   150|  3.0| 17.0|    13|   160|      25|    3|   1.5|0.67|30.313351|\n",
            "|    Nut&Honey Crunch|  K|   C|     120|      2|  1|   190|  0.0| 15.0|     9|    40|      25|    2|   1.0|0.67|29.924285|\n",
            "|Nutri-Grain Almon...|  K|   C|     140|      3|  2|   220|  3.0| 21.0|     7|   130|      25|    3|  1.33|0.67| 40.69232|\n",
            "|          Product 19|  K|   C|     100|      3|  0|   320|  1.0| 20.0|     3|    45|     100|    3|   1.0| 1.0| 41.50354|\n",
            "|         Raisin Bran|  K|   C|     120|      3|  1|   210|  5.0| 14.0|    12|   240|      25|    2|  1.33|0.75|39.259197|\n",
            "|       Rice Krispies|  K|   C|     110|      2|  0|   290|  0.0| 22.0|     3|    35|      25|    1|   1.0| 1.0|40.560159|\n",
            "|              Smacks|  K|   C|     110|      2|  1|    70|  1.0|  9.0|    15|    40|      25|    2|   1.0|0.75|31.230054|\n",
            "|           Special K|  K|   C|     110|      6|  0|   230|  1.0| 16.0|     3|    55|      25|    1|   1.0| 1.0|53.131324|\n",
            "+--------------------+---+----+--------+-------+---+------+-----+-----+------+------+--------+-----+------+----+---------+\n",
            "\n"
          ]
        }
      ]
    },
    {
      "cell_type": "markdown",
      "source": [
        "#7 Group By"
      ],
      "metadata": {
        "id": "If7xD1ep4d0p"
      }
    },
    {
      "cell_type": "code",
      "source": [
        "cereal = spark.sql('''SELECT mfr, type, COUNT(*) FROM cereal GROUP BY mfr, type  ''')\n",
        "cereal.count()"
      ],
      "metadata": {
        "colab": {
          "base_uri": "https://localhost:8080/"
        },
        "id": "XVPoB3oA5eBy",
        "outputId": "b8d41135-a1c3-474b-f0fd-fd8f041c0b9b"
      },
      "execution_count": 116,
      "outputs": [
        {
          "output_type": "execute_result",
          "data": {
            "text/plain": [
              "9"
            ]
          },
          "metadata": {},
          "execution_count": 116
        }
      ]
    },
    {
      "cell_type": "code",
      "source": [
        "cereal = spark.sql('''SELECT mfr, type, COUNT(*) AS total FROM cereal GROUP BY mfr, type  ''')\n",
        "cereal.show()"
      ],
      "metadata": {
        "colab": {
          "base_uri": "https://localhost:8080/"
        },
        "id": "F_Ss2y0_3xaZ",
        "outputId": "2f099d9f-4049-499c-b08c-965cb953cfb4"
      },
      "execution_count": 117,
      "outputs": [
        {
          "output_type": "stream",
          "name": "stdout",
          "text": [
            "+---+----+-----+\n",
            "|mfr|type|total|\n",
            "+---+----+-----+\n",
            "|  A|   H|    1|\n",
            "|  P|   C|    9|\n",
            "|  K|   C|   23|\n",
            "|  G|   C|   22|\n",
            "|  Q|   C|    7|\n",
            "|  R|   C|    8|\n",
            "|  Q|   H|    1|\n",
            "|  N|   H|    1|\n",
            "|  N|   C|    5|\n",
            "+---+----+-----+\n",
            "\n"
          ]
        }
      ]
    },
    {
      "cell_type": "code",
      "source": [
        "cereal = spark.sql('''SELECT mfr, type, COUNT(*) AS total, SUM(calories) as Total_calories FROM cereal GROUP BY mfr, type  ''')\n",
        "cereal.show()"
      ],
      "metadata": {
        "colab": {
          "base_uri": "https://localhost:8080/"
        },
        "id": "4vFEWVFR47MJ",
        "outputId": "0db5a9b1-fddf-4ab3-8afa-dce5eecfa865"
      },
      "execution_count": 118,
      "outputs": [
        {
          "output_type": "stream",
          "name": "stdout",
          "text": [
            "+---+----+-----+--------------+\n",
            "|mfr|type|total|Total_calories|\n",
            "+---+----+-----+--------------+\n",
            "|  A|   H|    1|           100|\n",
            "|  P|   C|    9|           980|\n",
            "|  K|   C|   23|          2500|\n",
            "|  G|   C|   22|          2450|\n",
            "|  Q|   C|    7|           660|\n",
            "|  R|   C|    8|           920|\n",
            "|  Q|   H|    1|           100|\n",
            "|  N|   H|    1|           100|\n",
            "|  N|   C|    5|           420|\n",
            "+---+----+-----+--------------+\n",
            "\n"
          ]
        }
      ]
    },
    {
      "cell_type": "code",
      "source": [
        "cereal = spark.sql('''SELECT mfr, type, COUNT(*) AS total, SUM(calories) as Total_calories FROM cereal GROUP BY mfr, type  ''')\n",
        "cereal.count()"
      ],
      "metadata": {
        "colab": {
          "base_uri": "https://localhost:8080/"
        },
        "id": "-iPw-dBN6Ckx",
        "outputId": "e554d6a8-733e-47f9-8d0e-6f11b5ad28a8"
      },
      "execution_count": 119,
      "outputs": [
        {
          "output_type": "execute_result",
          "data": {
            "text/plain": [
              "9"
            ]
          },
          "metadata": {},
          "execution_count": 119
        }
      ]
    },
    {
      "cell_type": "code",
      "source": [
        "#organizando a estrutura de uma forma mais legivel\n",
        "cereal = spark.sql('''SELECT mfr, \\\n",
        "                             type, \\\n",
        "                             COUNT(*) AS total, \\\n",
        "                             SUM(calories) as Total_calories\n",
        "                      FROM cereal \\\n",
        "                      GROUP BY \\\n",
        "                             mfr, \\\n",
        "                             type  ''')\n",
        "cereal.count()"
      ],
      "metadata": {
        "colab": {
          "base_uri": "https://localhost:8080/"
        },
        "id": "mfX87WWn6FyZ",
        "outputId": "00d028c3-59e3-4def-d540-dd2b74ffe349"
      },
      "execution_count": 120,
      "outputs": [
        {
          "output_type": "execute_result",
          "data": {
            "text/plain": [
              "9"
            ]
          },
          "metadata": {},
          "execution_count": 120
        }
      ]
    },
    {
      "cell_type": "markdown",
      "source": [
        "#8 Case When\n"
      ],
      "metadata": {
        "id": "ki69ok9n7UcT"
      }
    },
    {
      "cell_type": "code",
      "source": [
        "cereal = spark.sql('''SELECT DISTINCT type\n",
        "                      FROM cereal ''')\n",
        "cereal.show()"
      ],
      "metadata": {
        "colab": {
          "base_uri": "https://localhost:8080/"
        },
        "id": "laY1LdfM7g45",
        "outputId": "5cc55c7e-efce-4864-c6d8-90523895f6ed"
      },
      "execution_count": 121,
      "outputs": [
        {
          "output_type": "stream",
          "name": "stdout",
          "text": [
            "+----+\n",
            "|type|\n",
            "+----+\n",
            "|   C|\n",
            "|   H|\n",
            "+----+\n",
            "\n"
          ]
        }
      ]
    },
    {
      "cell_type": "code",
      "source": [
        "cereal = spark.sql('''SELECT mfr, \\\n",
        "                             (case\n",
        "                                   when type = \"C\" then \"A\"\n",
        "                                   else \"B\" end) as type_new,\n",
        "                             COUNT(*) AS total, \\\n",
        "                             SUM(calories) as Total_calories\n",
        "                      FROM cereal \\\n",
        "                      GROUP BY \\\n",
        "                             mfr, \\\n",
        "                             type  ''')\n",
        "cereal.show()"
      ],
      "metadata": {
        "colab": {
          "base_uri": "https://localhost:8080/"
        },
        "id": "H-a-6l9V7Zhh",
        "outputId": "90d2387d-e4c7-4462-e8ac-f242482c496a"
      },
      "execution_count": 122,
      "outputs": [
        {
          "output_type": "stream",
          "name": "stdout",
          "text": [
            "+---+--------+-----+--------------+\n",
            "|mfr|type_new|total|Total_calories|\n",
            "+---+--------+-----+--------------+\n",
            "|  A|       B|    1|           100|\n",
            "|  P|       A|    9|           980|\n",
            "|  K|       A|   23|          2500|\n",
            "|  G|       A|   22|          2450|\n",
            "|  Q|       A|    7|           660|\n",
            "|  R|       A|    8|           920|\n",
            "|  Q|       B|    1|           100|\n",
            "|  N|       B|    1|           100|\n",
            "|  N|       A|    5|           420|\n",
            "+---+--------+-----+--------------+\n",
            "\n"
          ]
        }
      ]
    },
    {
      "cell_type": "markdown",
      "source": [
        "#9 Consultas Avansadas em SQL usando o PySpark"
      ],
      "metadata": {
        "id": "QZzJRlD4Ab1R"
      }
    },
    {
      "cell_type": "code",
      "source": [
        "df = spark.sql('''\n",
        "                   SELECT mfr,\n",
        "                          type,\n",
        "                          sum(calories) as sum_calories,\n",
        "                          min(calories) as min_calories,\n",
        "                          max(calories) as max_calories,\n",
        "                          avg(calories) as avg_calories,\n",
        "\n",
        "                          sum(carbo) as sum_carbo,\n",
        "                          min(carbo) as min_carbo,\n",
        "                          max(carbo) as max_carbo,\n",
        "                          avg(carbo) as avg_carbo,\n",
        "\n",
        "                          sum(vitamins) as sum_vitamins,\n",
        "                          min(vitamins) as min_vitamins,\n",
        "                          max(vitamins) as max_vitamins,\n",
        "                          avg(vitamins) as avg_vitamins,\n",
        "\n",
        "                          count(distinct name) as count_distinct_name,\n",
        "                          count(name) as count_names\n",
        "                   FROM cereal\n",
        "                   GROUP BY mfr, type\n",
        "                   ORDER BY mfr, type\n",
        "                   ''')\n",
        "df.show()"
      ],
      "metadata": {
        "colab": {
          "base_uri": "https://localhost:8080/"
        },
        "id": "Qwsvsm5B72gw",
        "outputId": "85dae848-7567-4180-9ead-d55281490a3e"
      },
      "execution_count": 123,
      "outputs": [
        {
          "output_type": "stream",
          "name": "stdout",
          "text": [
            "+---+----+------------+------------+------------+------------------+---------+---------+---------+------------------+------------+------------+------------+------------------+-------------------+-----------+\n",
            "|mfr|type|sum_calories|min_calories|max_calories|      avg_calories|sum_carbo|min_carbo|max_carbo|         avg_carbo|sum_vitamins|min_vitamins|max_vitamins|      avg_vitamins|count_distinct_name|count_names|\n",
            "+---+----+------------+------------+------------+------------------+---------+---------+---------+------------------+------------+------------+------------+------------------+-------------------+-----------+\n",
            "|  A|   H|         100|         100|         100|             100.0|     16.0|     16.0|     16.0|              16.0|          25|          25|          25|              25.0|                  1|          1|\n",
            "|  G|   C|        2450|         100|         140|111.36363636363636|    324.0|     10.5|     21.0|14.727272727272727|         775|          25|         100| 35.22727272727273|                 22|         22|\n",
            "|  K|   C|        2500|          50|         160|108.69565217391305|    348.0|      7.0|     22.0|15.130434782608695|         800|          25|         100| 34.78260869565217|                 23|         23|\n",
            "|  N|   C|         420|          70|          90|              84.0|     75.0|      5.0|     20.0|              15.0|          50|           0|          25|              10.0|                  5|          5|\n",
            "|  N|   H|         100|         100|         100|             100.0|     21.0|     21.0|     21.0|              21.0|           0|           0|           0|               0.0|                  1|          1|\n",
            "|  P|   C|         980|          90|         120|108.88888888888889|    119.0|     11.0|     17.0|13.222222222222221|         225|          25|          25|              25.0|                  9|          9|\n",
            "|  Q|   C|         660|          50|         120| 94.28571428571429|     81.0|      8.0|     14.0|11.571428571428571|         100|           0|          25|14.285714285714286|                  7|          7|\n",
            "|  Q|   H|         100|         100|         100|             100.0|     -1.0|     -1.0|     -1.0|              -1.0|           0|           0|           0|               0.0|                  1|          1|\n",
            "|  R|   C|         920|          90|         150|             115.0|    141.0|     14.0|     23.0|            17.625|         200|          25|          25|              25.0|                  8|          8|\n",
            "+---+----+------------+------------+------------+------------------+---------+---------+---------+------------------+------------+------------+------------+------------------+-------------------+-----------+\n",
            "\n"
          ]
        }
      ]
    },
    {
      "cell_type": "code",
      "source": [
        "df = spark.sql('''\n",
        "                   SELECT mfr,\n",
        "                          type,\n",
        "                          sum(calories) as sum_calories,\n",
        "                          min(calories) as min_calories,\n",
        "                          max(calories) as max_calories,\n",
        "                          cast(avg(calories)as decimal(10,2)) as avg_calories,\n",
        "\n",
        "                          sum(carbo) as sum_carbo,\n",
        "                          min(carbo) as min_carbo,\n",
        "                          max(carbo) as max_carbo,\n",
        "                          cast(avg(carbo)as decimal(10,2)) as avg_carbo,\n",
        "\n",
        "                          sum(vitamins) as sum_vitamins,\n",
        "                          min(vitamins) as min_vitamins,\n",
        "                          max(vitamins) as max_vitamins,\n",
        "                          cast(avg(vitamins)as decimal(10,2)) as avg_vitamins,\n",
        "\n",
        "                          count(distinct name) as count_distinct_name,\n",
        "                          count(name) as count_names\n",
        "                   FROM cereal\n",
        "                   GROUP BY mfr, type\n",
        "                   ORDER BY mfr, type\n",
        "                   ''')\n",
        "df.show()"
      ],
      "metadata": {
        "colab": {
          "base_uri": "https://localhost:8080/"
        },
        "id": "2phRzmYcA3mN",
        "outputId": "e9185554-85e3-4fa3-941e-4832d04a530f"
      },
      "execution_count": 124,
      "outputs": [
        {
          "output_type": "stream",
          "name": "stdout",
          "text": [
            "+---+----+------------+------------+------------+------------+---------+---------+---------+---------+------------+------------+------------+------------+-------------------+-----------+\n",
            "|mfr|type|sum_calories|min_calories|max_calories|avg_calories|sum_carbo|min_carbo|max_carbo|avg_carbo|sum_vitamins|min_vitamins|max_vitamins|avg_vitamins|count_distinct_name|count_names|\n",
            "+---+----+------------+------------+------------+------------+---------+---------+---------+---------+------------+------------+------------+------------+-------------------+-----------+\n",
            "|  A|   H|         100|         100|         100|      100.00|     16.0|     16.0|     16.0|    16.00|          25|          25|          25|       25.00|                  1|          1|\n",
            "|  G|   C|        2450|         100|         140|      111.36|    324.0|     10.5|     21.0|    14.73|         775|          25|         100|       35.23|                 22|         22|\n",
            "|  K|   C|        2500|          50|         160|      108.70|    348.0|      7.0|     22.0|    15.13|         800|          25|         100|       34.78|                 23|         23|\n",
            "|  N|   C|         420|          70|          90|       84.00|     75.0|      5.0|     20.0|    15.00|          50|           0|          25|       10.00|                  5|          5|\n",
            "|  N|   H|         100|         100|         100|      100.00|     21.0|     21.0|     21.0|    21.00|           0|           0|           0|        0.00|                  1|          1|\n",
            "|  P|   C|         980|          90|         120|      108.89|    119.0|     11.0|     17.0|    13.22|         225|          25|          25|       25.00|                  9|          9|\n",
            "|  Q|   C|         660|          50|         120|       94.29|     81.0|      8.0|     14.0|    11.57|         100|           0|          25|       14.29|                  7|          7|\n",
            "|  Q|   H|         100|         100|         100|      100.00|     -1.0|     -1.0|     -1.0|    -1.00|           0|           0|           0|        0.00|                  1|          1|\n",
            "|  R|   C|         920|          90|         150|      115.00|    141.0|     14.0|     23.0|    17.63|         200|          25|          25|       25.00|                  8|          8|\n",
            "+---+----+------------+------------+------------+------------+---------+---------+---------+---------+------------+------------+------------+------------+-------------------+-----------+\n",
            "\n"
          ]
        }
      ]
    },
    {
      "cell_type": "markdown",
      "source": [],
      "metadata": {
        "id": "C9oh7BHNJOQ8"
      }
    },
    {
      "cell_type": "code",
      "source": [
        "df = spark.sql('''\n",
        "                   SELECT mfr,\n",
        "                          type,\n",
        "                          (case\n",
        "                               when mfr = \"A\" then \"Abacaxi\"\n",
        "                               when mfr = \"G\" then \"Goiaba\"\n",
        "                               when mfr = \"K\" then \"Banana\"\n",
        "                               when mfr = \"N\" then \"Maça\"\n",
        "                               when mfr = \"P\" then \"Tomate\"\n",
        "                               when mfr = \"Q\" then \"Pera\"\n",
        "                               when mfr = \"R\" then \"Uva\"\n",
        "                               else \"NA\"\n",
        "                          end) as Type_fruit,\n",
        "\n",
        "                          sum(calories) as sum_calories,\n",
        "                          min(calories) as min_calories,\n",
        "                          max(calories) as max_calories,\n",
        "                          cast(avg(calories)as decimal(10,2)) as avg_calories,\n",
        "\n",
        "                          sum(carbo) as sum_carbo,\n",
        "                          min(carbo) as min_carbo,\n",
        "                          max(carbo) as max_carbo,\n",
        "                          cast(avg(carbo)as decimal(10,2)) as avg_carbo,\n",
        "\n",
        "                          sum(vitamins) as sum_vitamins,\n",
        "                          min(vitamins) as min_vitamins,\n",
        "                          max(vitamins) as max_vitamins,\n",
        "                          cast(avg(vitamins)as decimal(10,2)) as avg_vitamins,\n",
        "\n",
        "                          count(distinct name) as count_distinct_name,\n",
        "                          count(name) as count_names\n",
        "                   FROM cereal\n",
        "                   GROUP BY mfr, type\n",
        "                   ORDER BY mfr, type\n",
        "                   ''')\n",
        "df.show()"
      ],
      "metadata": {
        "colab": {
          "base_uri": "https://localhost:8080/"
        },
        "id": "PNdv-rF3IzmL",
        "outputId": "c70b4ff0-31e4-4d26-ad0c-85cf9b3f40dc"
      },
      "execution_count": 125,
      "outputs": [
        {
          "output_type": "stream",
          "name": "stdout",
          "text": [
            "+---+----+----------+------------+------------+------------+------------+---------+---------+---------+---------+------------+------------+------------+------------+-------------------+-----------+\n",
            "|mfr|type|Type_fruit|sum_calories|min_calories|max_calories|avg_calories|sum_carbo|min_carbo|max_carbo|avg_carbo|sum_vitamins|min_vitamins|max_vitamins|avg_vitamins|count_distinct_name|count_names|\n",
            "+---+----+----------+------------+------------+------------+------------+---------+---------+---------+---------+------------+------------+------------+------------+-------------------+-----------+\n",
            "|  A|   H|   Abacaxi|         100|         100|         100|      100.00|     16.0|     16.0|     16.0|    16.00|          25|          25|          25|       25.00|                  1|          1|\n",
            "|  G|   C|    Goiaba|        2450|         100|         140|      111.36|    324.0|     10.5|     21.0|    14.73|         775|          25|         100|       35.23|                 22|         22|\n",
            "|  K|   C|    Banana|        2500|          50|         160|      108.70|    348.0|      7.0|     22.0|    15.13|         800|          25|         100|       34.78|                 23|         23|\n",
            "|  N|   C|      Maça|         420|          70|          90|       84.00|     75.0|      5.0|     20.0|    15.00|          50|           0|          25|       10.00|                  5|          5|\n",
            "|  N|   H|      Maça|         100|         100|         100|      100.00|     21.0|     21.0|     21.0|    21.00|           0|           0|           0|        0.00|                  1|          1|\n",
            "|  P|   C|    Tomate|         980|          90|         120|      108.89|    119.0|     11.0|     17.0|    13.22|         225|          25|          25|       25.00|                  9|          9|\n",
            "|  Q|   C|      Pera|         660|          50|         120|       94.29|     81.0|      8.0|     14.0|    11.57|         100|           0|          25|       14.29|                  7|          7|\n",
            "|  Q|   H|      Pera|         100|         100|         100|      100.00|     -1.0|     -1.0|     -1.0|    -1.00|           0|           0|           0|        0.00|                  1|          1|\n",
            "|  R|   C|       Uva|         920|          90|         150|      115.00|    141.0|     14.0|     23.0|    17.63|         200|          25|          25|       25.00|                  8|          8|\n",
            "+---+----+----------+------------+------------+------------+------------+---------+---------+---------+---------+------------+------------+------------+------------+-------------------+-----------+\n",
            "\n"
          ]
        }
      ]
    },
    {
      "cell_type": "markdown",
      "source": [
        "#10 JOINs - INNER"
      ],
      "metadata": {
        "id": "KwamDsWLL0M5"
      }
    },
    {
      "cell_type": "code",
      "source": [
        "sales = spark.read.csv(\"/content/sales_data_sample.csv\", sep = \",\", inferSchema = True, header = True)\n",
        "sales.show()"
      ],
      "metadata": {
        "colab": {
          "base_uri": "https://localhost:8080/"
        },
        "id": "X1apuDDeKua1",
        "outputId": "ae1636ce-5536-4c18-8422-62e525da2413"
      },
      "execution_count": 126,
      "outputs": [
        {
          "output_type": "stream",
          "name": "stdout",
          "text": [
            "+-----------+---------------+---------+---------------+-------+---------------+-------+------+--------+-------+-----------+----+-----------+--------------------+----------------+--------------------+------------+-------------+--------+----------+---------+---------+---------------+----------------+--------+\n",
            "|ORDERNUMBER|QUANTITYORDERED|PRICEEACH|ORDERLINENUMBER|  SALES|      ORDERDATE| STATUS|QTR_ID|MONTH_ID|YEAR_ID|PRODUCTLINE|MSRP|PRODUCTCODE|        CUSTOMERNAME|           PHONE|        ADDRESSLINE1|ADDRESSLINE2|         CITY|   STATE|POSTALCODE|  COUNTRY|TERRITORY|CONTACTLASTNAME|CONTACTFIRSTNAME|DEALSIZE|\n",
            "+-----------+---------------+---------+---------------+-------+---------------+-------+------+--------+-------+-----------+----+-----------+--------------------+----------------+--------------------+------------+-------------+--------+----------+---------+---------+---------------+----------------+--------+\n",
            "|      10107|             30|     95.7|              2| 2871.0| 2/24/2003 0:00|Shipped|     1|       2|   2003|Motorcycles|  95|   S10_1678|   Land of Toys Inc.|      2125557818|897 Long Airport ...|        null|          NYC|      NY|     10022|      USA|       NA|             Yu|            Kwai|   Small|\n",
            "|      10121|             34|    81.35|              5| 2765.9|  5/7/2003 0:00|Shipped|     2|       5|   2003|Motorcycles|  95|   S10_1678|  Reims Collectables|      26.47.1555|  59 rue de l'Abbaye|        null|        Reims|    null|     51100|   France|     EMEA|        Henriot|            Paul|   Small|\n",
            "|      10134|             41|    94.74|              2|3884.34|  7/1/2003 0:00|Shipped|     3|       7|   2003|Motorcycles|  95|   S10_1678|     Lyon Souveniers|+33 1 46 62 7555|27 rue du Colonel...|        null|        Paris|    null|     75508|   France|     EMEA|       Da Cunha|          Daniel|  Medium|\n",
            "|      10145|             45|    83.26|              6| 3746.7| 8/25/2003 0:00|Shipped|     3|       8|   2003|Motorcycles|  95|   S10_1678|   Toys4GrownUps.com|      6265557265|  78934 Hillside Dr.|        null|     Pasadena|      CA|     90003|      USA|       NA|          Young|           Julie|  Medium|\n",
            "|      10159|             49|    100.0|             14|5205.27|10/10/2003 0:00|Shipped|     4|      10|   2003|Motorcycles|  95|   S10_1678|Corporate Gift Id...|      6505551386|     7734 Strong St.|        null|San Francisco|      CA|      null|      USA|       NA|          Brown|           Julie|  Medium|\n",
            "|      10168|             36|    96.66|              1|3479.76|10/28/2003 0:00|Shipped|     4|      10|   2003|Motorcycles|  95|   S10_1678|Technics Stores Inc.|      6505556809|   9408 Furth Circle|        null|   Burlingame|      CA|     94217|      USA|       NA|         Hirano|            Juri|  Medium|\n",
            "|      10180|             29|    86.13|              9|2497.77|11/11/2003 0:00|Shipped|     4|      11|   2003|Motorcycles|  95|   S10_1678|Daedalus Designs ...|      20.16.1555|184, chausse de T...|        null|        Lille|    null|     59000|   France|     EMEA|          Rance|         Martine|   Small|\n",
            "|      10188|             48|    100.0|              1|5512.32|11/18/2003 0:00|Shipped|     4|      11|   2003|Motorcycles|  95|   S10_1678|        Herkku Gifts|   +47 2267 3215|Drammen 121, PR 7...|        null|       Bergen|    null|    N 5804|   Norway|     EMEA|         Oeztan|          Veysel|  Medium|\n",
            "|      10201|             22|    98.57|              2|2168.54| 12/1/2003 0:00|Shipped|     4|      12|   2003|Motorcycles|  95|   S10_1678|     Mini Wheels Co.|      6505555787|5557 North Pendal...|        null|San Francisco|      CA|      null|      USA|       NA|         Murphy|           Julie|   Small|\n",
            "|      10211|             41|    100.0|             14|4708.44| 1/15/2004 0:00|Shipped|     1|       1|   2004|Motorcycles|  95|   S10_1678|    Auto Canal Petit|  (1) 47.55.6555|   25, rue Lauriston|        null|        Paris|    null|     75016|   France|     EMEA|        Perrier|       Dominique|  Medium|\n",
            "|      10223|             37|    100.0|              1|3965.66| 2/20/2004 0:00|Shipped|     1|       2|   2004|Motorcycles|  95|   S10_1678|Australian Collec...|    03 9520 4555|   636 St Kilda Road|     Level 3|    Melbourne|Victoria|      3004|Australia|     APAC|       Ferguson|           Peter|  Medium|\n",
            "|      10237|             23|    100.0|              7|2333.12|  4/5/2004 0:00|Shipped|     2|       4|   2004|Motorcycles|  95|   S10_1678|     Vitachrome Inc.|      2125551500|   2678 Kingston Rd.|   Suite 101|          NYC|      NY|     10022|      USA|       NA|          Frick|         Michael|   Small|\n",
            "|      10251|             28|    100.0|              2|3188.64| 5/18/2004 0:00|Shipped|     2|       5|   2004|Motorcycles|  95|   S10_1678|Tekni Collectable...|      2015559350|       7476 Moss Rd.|        null|       Newark|      NJ|     94019|      USA|       NA|          Brown|         William|  Medium|\n",
            "|      10263|             34|    100.0|              2|3676.76| 6/28/2004 0:00|Shipped|     2|       6|   2004|Motorcycles|  95|   S10_1678|     Gift Depot Inc.|      2035552570| 25593 South Bay Ln.|        null|  Bridgewater|      CT|     97562|      USA|       NA|           King|           Julie|  Medium|\n",
            "|      10275|             45|    92.83|              1|4177.35| 7/23/2004 0:00|Shipped|     3|       7|   2004|Motorcycles|  95|   S10_1678|   La Rochelle Gifts|      40.67.8555|67, rue des Cinqu...|        null|       Nantes|    null|     44000|   France|     EMEA|        Labrune|          Janine|  Medium|\n",
            "|      10285|             36|    100.0|              6|4099.68| 8/27/2004 0:00|Shipped|     3|       8|   2004|Motorcycles|  95|   S10_1678|Marta's Replicas Co.|      6175558555| 39323 Spinnaker Dr.|        null|    Cambridge|      MA|     51247|      USA|       NA|      Hernandez|           Marta|  Medium|\n",
            "|      10299|             23|    100.0|              9|2597.39| 9/30/2004 0:00|Shipped|     3|       9|   2004|Motorcycles|  95|   S10_1678|Toys of Finland, Co.|     90-224 8555|       Keskuskatu 45|        null|     Helsinki|    null|     21240|  Finland|     EMEA|      Karttunen|           Matti|   Small|\n",
            "|      10309|             41|    100.0|              5|4394.38|10/15/2004 0:00|Shipped|     4|      10|   2004|Motorcycles|  95|   S10_1678|  Baane Mini Imports|      07-98 9555|Erling Skakkes ga...|        null|      Stavern|    null|      4110|   Norway|     EMEA|     Bergulfsen|           Jonas|  Medium|\n",
            "|      10318|             46|    94.74|              1|4358.04| 11/2/2004 0:00|Shipped|     4|      11|   2004|Motorcycles|  95|   S10_1678|Diecast Classics ...|      2155551555|    7586 Pompton St.|        null|    Allentown|      PA|     70267|      USA|       NA|             Yu|           Kyung|  Medium|\n",
            "|      10329|             42|    100.0|              1|4396.14|11/15/2004 0:00|Shipped|     4|      11|   2004|Motorcycles|  95|   S10_1678|   Land of Toys Inc.|      2125557818|897 Long Airport ...|        null|          NYC|      NY|     10022|      USA|       NA|             Yu|            Kwai|  Medium|\n",
            "+-----------+---------------+---------+---------------+-------+---------------+-------+------+--------+-------+-----------+----+-----------+--------------------+----------------+--------------------+------------+-------------+--------+----------+---------+---------+---------------+----------------+--------+\n",
            "only showing top 20 rows\n",
            "\n"
          ]
        }
      ]
    },
    {
      "cell_type": "code",
      "source": [
        "sales.printSchema()"
      ],
      "metadata": {
        "colab": {
          "base_uri": "https://localhost:8080/"
        },
        "id": "h2YviO12MnfJ",
        "outputId": "32cd278d-8628-4586-afc2-5117f2efdeb1"
      },
      "execution_count": 127,
      "outputs": [
        {
          "output_type": "stream",
          "name": "stdout",
          "text": [
            "root\n",
            " |-- ORDERNUMBER: integer (nullable = true)\n",
            " |-- QUANTITYORDERED: integer (nullable = true)\n",
            " |-- PRICEEACH: double (nullable = true)\n",
            " |-- ORDERLINENUMBER: integer (nullable = true)\n",
            " |-- SALES: double (nullable = true)\n",
            " |-- ORDERDATE: string (nullable = true)\n",
            " |-- STATUS: string (nullable = true)\n",
            " |-- QTR_ID: integer (nullable = true)\n",
            " |-- MONTH_ID: integer (nullable = true)\n",
            " |-- YEAR_ID: integer (nullable = true)\n",
            " |-- PRODUCTLINE: string (nullable = true)\n",
            " |-- MSRP: integer (nullable = true)\n",
            " |-- PRODUCTCODE: string (nullable = true)\n",
            " |-- CUSTOMERNAME: string (nullable = true)\n",
            " |-- PHONE: string (nullable = true)\n",
            " |-- ADDRESSLINE1: string (nullable = true)\n",
            " |-- ADDRESSLINE2: string (nullable = true)\n",
            " |-- CITY: string (nullable = true)\n",
            " |-- STATE: string (nullable = true)\n",
            " |-- POSTALCODE: string (nullable = true)\n",
            " |-- COUNTRY: string (nullable = true)\n",
            " |-- TERRITORY: string (nullable = true)\n",
            " |-- CONTACTLASTNAME: string (nullable = true)\n",
            " |-- CONTACTFIRSTNAME: string (nullable = true)\n",
            " |-- DEALSIZE: string (nullable = true)\n",
            "\n"
          ]
        }
      ]
    },
    {
      "cell_type": "code",
      "source": [
        "sales.createOrReplaceTempView(\"sales\")"
      ],
      "metadata": {
        "id": "7TyxfAn7NEL1"
      },
      "execution_count": 128,
      "outputs": []
    },
    {
      "cell_type": "code",
      "source": [
        "data = spark.sql('''\n",
        "                 SELECT *\n",
        "                 FROM sales\n",
        "                 ''')\n",
        "\n",
        "data.show()"
      ],
      "metadata": {
        "colab": {
          "base_uri": "https://localhost:8080/"
        },
        "id": "emqbur1hMp0q",
        "outputId": "c613b0de-b2fc-41c2-8d3d-70dc767dd95b"
      },
      "execution_count": 129,
      "outputs": [
        {
          "output_type": "stream",
          "name": "stdout",
          "text": [
            "+-----------+---------------+---------+---------------+-------+---------------+-------+------+--------+-------+-----------+----+-----------+--------------------+----------------+--------------------+------------+-------------+--------+----------+---------+---------+---------------+----------------+--------+\n",
            "|ORDERNUMBER|QUANTITYORDERED|PRICEEACH|ORDERLINENUMBER|  SALES|      ORDERDATE| STATUS|QTR_ID|MONTH_ID|YEAR_ID|PRODUCTLINE|MSRP|PRODUCTCODE|        CUSTOMERNAME|           PHONE|        ADDRESSLINE1|ADDRESSLINE2|         CITY|   STATE|POSTALCODE|  COUNTRY|TERRITORY|CONTACTLASTNAME|CONTACTFIRSTNAME|DEALSIZE|\n",
            "+-----------+---------------+---------+---------------+-------+---------------+-------+------+--------+-------+-----------+----+-----------+--------------------+----------------+--------------------+------------+-------------+--------+----------+---------+---------+---------------+----------------+--------+\n",
            "|      10107|             30|     95.7|              2| 2871.0| 2/24/2003 0:00|Shipped|     1|       2|   2003|Motorcycles|  95|   S10_1678|   Land of Toys Inc.|      2125557818|897 Long Airport ...|        null|          NYC|      NY|     10022|      USA|       NA|             Yu|            Kwai|   Small|\n",
            "|      10121|             34|    81.35|              5| 2765.9|  5/7/2003 0:00|Shipped|     2|       5|   2003|Motorcycles|  95|   S10_1678|  Reims Collectables|      26.47.1555|  59 rue de l'Abbaye|        null|        Reims|    null|     51100|   France|     EMEA|        Henriot|            Paul|   Small|\n",
            "|      10134|             41|    94.74|              2|3884.34|  7/1/2003 0:00|Shipped|     3|       7|   2003|Motorcycles|  95|   S10_1678|     Lyon Souveniers|+33 1 46 62 7555|27 rue du Colonel...|        null|        Paris|    null|     75508|   France|     EMEA|       Da Cunha|          Daniel|  Medium|\n",
            "|      10145|             45|    83.26|              6| 3746.7| 8/25/2003 0:00|Shipped|     3|       8|   2003|Motorcycles|  95|   S10_1678|   Toys4GrownUps.com|      6265557265|  78934 Hillside Dr.|        null|     Pasadena|      CA|     90003|      USA|       NA|          Young|           Julie|  Medium|\n",
            "|      10159|             49|    100.0|             14|5205.27|10/10/2003 0:00|Shipped|     4|      10|   2003|Motorcycles|  95|   S10_1678|Corporate Gift Id...|      6505551386|     7734 Strong St.|        null|San Francisco|      CA|      null|      USA|       NA|          Brown|           Julie|  Medium|\n",
            "|      10168|             36|    96.66|              1|3479.76|10/28/2003 0:00|Shipped|     4|      10|   2003|Motorcycles|  95|   S10_1678|Technics Stores Inc.|      6505556809|   9408 Furth Circle|        null|   Burlingame|      CA|     94217|      USA|       NA|         Hirano|            Juri|  Medium|\n",
            "|      10180|             29|    86.13|              9|2497.77|11/11/2003 0:00|Shipped|     4|      11|   2003|Motorcycles|  95|   S10_1678|Daedalus Designs ...|      20.16.1555|184, chausse de T...|        null|        Lille|    null|     59000|   France|     EMEA|          Rance|         Martine|   Small|\n",
            "|      10188|             48|    100.0|              1|5512.32|11/18/2003 0:00|Shipped|     4|      11|   2003|Motorcycles|  95|   S10_1678|        Herkku Gifts|   +47 2267 3215|Drammen 121, PR 7...|        null|       Bergen|    null|    N 5804|   Norway|     EMEA|         Oeztan|          Veysel|  Medium|\n",
            "|      10201|             22|    98.57|              2|2168.54| 12/1/2003 0:00|Shipped|     4|      12|   2003|Motorcycles|  95|   S10_1678|     Mini Wheels Co.|      6505555787|5557 North Pendal...|        null|San Francisco|      CA|      null|      USA|       NA|         Murphy|           Julie|   Small|\n",
            "|      10211|             41|    100.0|             14|4708.44| 1/15/2004 0:00|Shipped|     1|       1|   2004|Motorcycles|  95|   S10_1678|    Auto Canal Petit|  (1) 47.55.6555|   25, rue Lauriston|        null|        Paris|    null|     75016|   France|     EMEA|        Perrier|       Dominique|  Medium|\n",
            "|      10223|             37|    100.0|              1|3965.66| 2/20/2004 0:00|Shipped|     1|       2|   2004|Motorcycles|  95|   S10_1678|Australian Collec...|    03 9520 4555|   636 St Kilda Road|     Level 3|    Melbourne|Victoria|      3004|Australia|     APAC|       Ferguson|           Peter|  Medium|\n",
            "|      10237|             23|    100.0|              7|2333.12|  4/5/2004 0:00|Shipped|     2|       4|   2004|Motorcycles|  95|   S10_1678|     Vitachrome Inc.|      2125551500|   2678 Kingston Rd.|   Suite 101|          NYC|      NY|     10022|      USA|       NA|          Frick|         Michael|   Small|\n",
            "|      10251|             28|    100.0|              2|3188.64| 5/18/2004 0:00|Shipped|     2|       5|   2004|Motorcycles|  95|   S10_1678|Tekni Collectable...|      2015559350|       7476 Moss Rd.|        null|       Newark|      NJ|     94019|      USA|       NA|          Brown|         William|  Medium|\n",
            "|      10263|             34|    100.0|              2|3676.76| 6/28/2004 0:00|Shipped|     2|       6|   2004|Motorcycles|  95|   S10_1678|     Gift Depot Inc.|      2035552570| 25593 South Bay Ln.|        null|  Bridgewater|      CT|     97562|      USA|       NA|           King|           Julie|  Medium|\n",
            "|      10275|             45|    92.83|              1|4177.35| 7/23/2004 0:00|Shipped|     3|       7|   2004|Motorcycles|  95|   S10_1678|   La Rochelle Gifts|      40.67.8555|67, rue des Cinqu...|        null|       Nantes|    null|     44000|   France|     EMEA|        Labrune|          Janine|  Medium|\n",
            "|      10285|             36|    100.0|              6|4099.68| 8/27/2004 0:00|Shipped|     3|       8|   2004|Motorcycles|  95|   S10_1678|Marta's Replicas Co.|      6175558555| 39323 Spinnaker Dr.|        null|    Cambridge|      MA|     51247|      USA|       NA|      Hernandez|           Marta|  Medium|\n",
            "|      10299|             23|    100.0|              9|2597.39| 9/30/2004 0:00|Shipped|     3|       9|   2004|Motorcycles|  95|   S10_1678|Toys of Finland, Co.|     90-224 8555|       Keskuskatu 45|        null|     Helsinki|    null|     21240|  Finland|     EMEA|      Karttunen|           Matti|   Small|\n",
            "|      10309|             41|    100.0|              5|4394.38|10/15/2004 0:00|Shipped|     4|      10|   2004|Motorcycles|  95|   S10_1678|  Baane Mini Imports|      07-98 9555|Erling Skakkes ga...|        null|      Stavern|    null|      4110|   Norway|     EMEA|     Bergulfsen|           Jonas|  Medium|\n",
            "|      10318|             46|    94.74|              1|4358.04| 11/2/2004 0:00|Shipped|     4|      11|   2004|Motorcycles|  95|   S10_1678|Diecast Classics ...|      2155551555|    7586 Pompton St.|        null|    Allentown|      PA|     70267|      USA|       NA|             Yu|           Kyung|  Medium|\n",
            "|      10329|             42|    100.0|              1|4396.14|11/15/2004 0:00|Shipped|     4|      11|   2004|Motorcycles|  95|   S10_1678|   Land of Toys Inc.|      2125557818|897 Long Airport ...|        null|          NYC|      NY|     10022|      USA|       NA|             Yu|            Kwai|  Medium|\n",
            "+-----------+---------------+---------+---------------+-------+---------------+-------+------+--------+-------+-----------+----+-----------+--------------------+----------------+--------------------+------------+-------------+--------+----------+---------+---------+---------------+----------------+--------+\n",
            "only showing top 20 rows\n",
            "\n"
          ]
        }
      ]
    },
    {
      "cell_type": "code",
      "source": [
        "data = spark.sql('''\n",
        "                 SELECT DISTINCT orderdate, qtr_id, month_id, year_id\n",
        "                 FROM sales\n",
        "                 ORDER BY orderdate\n",
        "                 ''')\n",
        "\n",
        "data.show()"
      ],
      "metadata": {
        "colab": {
          "base_uri": "https://localhost:8080/"
        },
        "id": "RbCtH4hjNRQa",
        "outputId": "41853e59-ac09-49ef-c08a-f528294bb87b"
      },
      "execution_count": 130,
      "outputs": [
        {
          "output_type": "stream",
          "name": "stdout",
          "text": [
            "+--------------+------+--------+-------+\n",
            "|     orderdate|qtr_id|month_id|year_id|\n",
            "+--------------+------+--------+-------+\n",
            "|1/10/2003 0:00|     1|       1|   2003|\n",
            "|1/10/2005 0:00|     1|       1|   2005|\n",
            "|1/12/2004 0:00|     1|       1|   2004|\n",
            "|1/12/2005 0:00|     1|       1|   2005|\n",
            "|1/15/2004 0:00|     1|       1|   2004|\n",
            "|1/16/2004 0:00|     1|       1|   2004|\n",
            "|1/19/2005 0:00|     1|       1|   2005|\n",
            "| 1/2/2004 0:00|     1|       1|   2004|\n",
            "|1/20/2005 0:00|     1|       1|   2005|\n",
            "|1/22/2004 0:00|     1|       1|   2004|\n",
            "|1/23/2005 0:00|     1|       1|   2005|\n",
            "|1/26/2004 0:00|     1|       1|   2004|\n",
            "|1/26/2005 0:00|     1|       1|   2005|\n",
            "|1/29/2003 0:00|     1|       1|   2003|\n",
            "|1/29/2004 0:00|     1|       1|   2004|\n",
            "|1/31/2003 0:00|     1|       1|   2003|\n",
            "|1/31/2005 0:00|     1|       1|   2005|\n",
            "| 1/5/2005 0:00|     1|       1|   2005|\n",
            "| 1/6/2003 0:00|     1|       1|   2003|\n",
            "| 1/6/2005 0:00|     1|       1|   2005|\n",
            "+--------------+------+--------+-------+\n",
            "only showing top 20 rows\n",
            "\n"
          ]
        }
      ]
    },
    {
      "cell_type": "code",
      "source": [
        "calendar = spark.sql('''\n",
        "                 SELECT DISTINCT ORDERDATE,\n",
        "                                 CUSTOMERNAME,\n",
        "                                 QTR_ID,\n",
        "                                 MONTH_ID,\n",
        "                                 YEAR_ID\n",
        "                 FROM sales\n",
        "                 ORDER BY ORDERDATE\n",
        "                 ''')\n",
        "\n",
        "\n",
        "\n",
        "sales_data = spark.sql('''\n",
        "                 SELECT DISTINCT ORDERNUMBER,\n",
        "                                 CUSTOMERNAME,\n",
        "                                 SALES,\n",
        "                                 QUANTITYORDERED,\n",
        "                                 PRODUCTCODE,\n",
        "                                 ORDERLINENUMBER,\n",
        "                                 PRICEEACH\n",
        "                 FROM sales\n",
        "                 ORDER BY ORDERNUMBER\n",
        "                 ''')\n",
        "\n",
        "customers = spark.sql('''\n",
        "                 SELECT DISTINCT CUSTOMERNAME,\n",
        "                                 PHONE,\n",
        "                                 ADDRESSLINE1,\n",
        "                                 ADDRESSLINE2,\n",
        "                                 CITY,\n",
        "                                 STATE,\n",
        "                                 POSTALCODE,\n",
        "                                 COUNTRY,\n",
        "                                 TERRITORY\n",
        "                 FROM sales\n",
        "                 ORDER BY CUSTOMERNAME\n",
        "                 ''')\n",
        "\n",
        "sales_data.createOrReplaceTempView(\"sales_data\")\n",
        "calendar.createOrReplaceTempView(\"calendar\")\n",
        "customers.createOrReplaceTempView(\"customers\")"
      ],
      "metadata": {
        "id": "JqZx0sKtNsEB"
      },
      "execution_count": 139,
      "outputs": []
    },
    {
      "cell_type": "code",
      "source": [
        "customers.show(2)"
      ],
      "metadata": {
        "colab": {
          "base_uri": "https://localhost:8080/"
        },
        "id": "MbKNLId4Tz45",
        "outputId": "e61f21d5-411e-4278-efba-72e57ed9985b"
      },
      "execution_count": 137,
      "outputs": [
        {
          "output_type": "stream",
          "name": "stdout",
          "text": [
            "+--------------+--------------+--------------------+------------+----------+-----+----------+-------+---------+\n",
            "|  CUSTOMERNAME|         PHONE|        ADDRESSLINE1|ADDRESSLINE2|      CITY|STATE|POSTALCODE|COUNTRY|TERRITORY|\n",
            "+--------------+--------------+--------------------+------------+----------+-----+----------+-------+---------+\n",
            "|AV Stores, Co.|(171) 555-1555|   Fauntleroy Circus|        null|Manchester| null|   EC2 5NT|     UK|     EMEA|\n",
            "|  Alpha Cognac|    61.77.6555|1 rue Alsace-Lorr...|        null|  Toulouse| null|     31000| France|     EMEA|\n",
            "+--------------+--------------+--------------------+------------+----------+-----+----------+-------+---------+\n",
            "only showing top 2 rows\n",
            "\n"
          ]
        }
      ]
    },
    {
      "cell_type": "code",
      "source": [
        "sales_data.show(2)"
      ],
      "metadata": {
        "colab": {
          "base_uri": "https://localhost:8080/"
        },
        "id": "17JZhsJ7UUMF",
        "outputId": "a7850e61-965c-4c8b-b2da-755dcd5d6b30"
      },
      "execution_count": 140,
      "outputs": [
        {
          "output_type": "stream",
          "name": "stdout",
          "text": [
            "+-----------+--------------------+-------+---------------+-----------+---------------+---------+\n",
            "|ORDERNUMBER|        CUSTOMERNAME|  SALES|QUANTITYORDERED|PRODUCTCODE|ORDERLINENUMBER|PRICEEACH|\n",
            "+-----------+--------------------+-------+---------------+-----------+---------------+---------+\n",
            "|      10100|Online Diecast Cr...| 3390.0|             50|   S18_2248|              2|     67.8|\n",
            "|      10100|Online Diecast Cr...|1903.22|             22|   S18_4409|              4|    86.51|\n",
            "+-----------+--------------------+-------+---------------+-----------+---------------+---------+\n",
            "only showing top 2 rows\n",
            "\n"
          ]
        }
      ]
    },
    {
      "cell_type": "code",
      "source": [
        "customers.show(2)"
      ],
      "metadata": {
        "colab": {
          "base_uri": "https://localhost:8080/"
        },
        "id": "sbckYituUf3y",
        "outputId": "9baf2b8f-0938-42ff-d3ad-3191853d25b4"
      },
      "execution_count": 141,
      "outputs": [
        {
          "output_type": "stream",
          "name": "stdout",
          "text": [
            "+--------------+--------------+--------------------+------------+----------+-----+----------+-------+---------+\n",
            "|  CUSTOMERNAME|         PHONE|        ADDRESSLINE1|ADDRESSLINE2|      CITY|STATE|POSTALCODE|COUNTRY|TERRITORY|\n",
            "+--------------+--------------+--------------------+------------+----------+-----+----------+-------+---------+\n",
            "|AV Stores, Co.|(171) 555-1555|   Fauntleroy Circus|        null|Manchester| null|   EC2 5NT|     UK|     EMEA|\n",
            "|  Alpha Cognac|    61.77.6555|1 rue Alsace-Lorr...|        null|  Toulouse| null|     31000| France|     EMEA|\n",
            "+--------------+--------------+--------------------+------------+----------+-----+----------+-------+---------+\n",
            "only showing top 2 rows\n",
            "\n"
          ]
        }
      ]
    },
    {
      "cell_type": "code",
      "source": [
        "calendar.count()"
      ],
      "metadata": {
        "colab": {
          "base_uri": "https://localhost:8080/"
        },
        "id": "WNJUT_oGPsK0",
        "outputId": "fc872ea5-e59f-4810-e447-5a0bc05015dc"
      },
      "execution_count": 133,
      "outputs": [
        {
          "output_type": "execute_result",
          "data": {
            "text/plain": [
              "306"
            ]
          },
          "metadata": {},
          "execution_count": 133
        }
      ]
    },
    {
      "cell_type": "code",
      "source": [
        "sales_data.count()"
      ],
      "metadata": {
        "colab": {
          "base_uri": "https://localhost:8080/"
        },
        "id": "SBt9OWo-RPeZ",
        "outputId": "3dd712ed-a3a4-423d-9131-3bec9e813ab5"
      },
      "execution_count": 134,
      "outputs": [
        {
          "output_type": "execute_result",
          "data": {
            "text/plain": [
              "2823"
            ]
          },
          "metadata": {},
          "execution_count": 134
        }
      ]
    },
    {
      "cell_type": "code",
      "source": [
        "customers.count()"
      ],
      "metadata": {
        "colab": {
          "base_uri": "https://localhost:8080/"
        },
        "id": "Uaqo7gGFRV7Z",
        "outputId": "66b71a86-9516-46b9-f952-34c5d3df2a24"
      },
      "execution_count": 135,
      "outputs": [
        {
          "output_type": "execute_result",
          "data": {
            "text/plain": [
              "92"
            ]
          },
          "metadata": {},
          "execution_count": 135
        }
      ]
    },
    {
      "cell_type": "code",
      "source": [
        "master = spark.sql('''\n",
        "                   SELECT *\n",
        "                   FROM sales_data s\n",
        "                   INNER JOIN customers c on s.CUSTOMERNAME = c.CUSTOMERNAME\n",
        "                   ''')\n",
        "\n",
        "master.show()"
      ],
      "metadata": {
        "colab": {
          "base_uri": "https://localhost:8080/"
        },
        "id": "g8l6kYSURZtp",
        "outputId": "b2f04f4a-a215-4687-e656-eca2d788960b"
      },
      "execution_count": 142,
      "outputs": [
        {
          "output_type": "stream",
          "name": "stdout",
          "text": [
            "+-----------+--------------------+-------+---------------+-----------+---------------+---------+--------------------+--------------+--------------------+------------+-------------+------+----------+-----------+---------+\n",
            "|ORDERNUMBER|        CUSTOMERNAME|  SALES|QUANTITYORDERED|PRODUCTCODE|ORDERLINENUMBER|PRICEEACH|        CUSTOMERNAME|         PHONE|        ADDRESSLINE1|ADDRESSLINE2|         CITY| STATE|POSTALCODE|    COUNTRY|TERRITORY|\n",
            "+-----------+--------------------+-------+---------------+-----------+---------------+---------+--------------------+--------------+--------------------+------------+-------------+------+----------+-----------+---------+\n",
            "|      10119|Salzburg Collecta...| 5004.8|             46|   S10_4757|             11|    100.0|Salzburg Collecta...|     6562-9555|         Geislweg 14|        null|     Salzburg|  null|      5020|    Austria|     EMEA|\n",
            "|      10359|  Reims Collectables|4764.48|             42|   S12_1108|              8|    100.0|  Reims Collectables|    26.47.1555|  59 rue de l'Abbaye|        null|        Reims|  null|     51100|     France|     EMEA|\n",
            "|      10411|Quebec Home Shopp...| 3213.0|             27|   S18_1097|              8|    100.0|Quebec Home Shopp...|(514) 555-8054|  43 rue St. Laurent|        null|     Montreal|Quebec|   H1J 1C3|     Canada|       NA|\n",
            "|      10367|   Toys4GrownUps.com|4703.81|             37|   S18_1749|              3|    100.0|   Toys4GrownUps.com|    6265557265|  78934 Hillside Dr.|        null|     Pasadena|    CA|     90003|        USA|       NA|\n",
            "|      10244|Euro Shopping Cha...|5950.34|             43|   S18_2795|              8|    100.0|Euro Shopping Cha...|(91) 555 94 44|  C/ Moralzarzal, 86|        null|       Madrid|  null|     28034|      Spain|     EMEA|\n",
            "|      10171|Quebec Home Shopp...|5481.45|             39|   S18_3232|              3|    100.0|Quebec Home Shopp...|(514) 555-8054|  43 rue St. Laurent|        null|     Montreal|Quebec|   H1J 1C3|     Canada|       NA|\n",
            "|      10175|Stylish Desk Deco...|4419.89|             29|   S18_3232|              5|    100.0|Stylish Desk Deco...|(171) 555-0297|      35 King George|        null|       London|  null|   WX3 6FW|         UK|     EMEA|\n",
            "|      10252|    Auto Canal Petit| 3559.4|             26|   S18_4721|              4|    100.0|    Auto Canal Petit|(1) 47.55.6555|   25, rue Lauriston|        null|        Paris|  null|     75016|     France|     EMEA|\n",
            "|      10176| L'ordine Souveniers|1857.06|             27|   S24_1444|              8|    68.78| L'ordine Souveniers|   0522-556555|Strada Provincial...|        null|Reggio Emilia|  null|     42100|      Italy|     EMEA|\n",
            "|      10336|La Corne D'abonda...| 5972.4|             45|   S24_1444|              4|    100.0|La Corne D'abonda...|(1) 42.34.2555|265, boulevard Ch...|        null|        Paris|  null|     75012|     France|     EMEA|\n",
            "|      10133|Euro Shopping Cha...| 3858.1|             41|   S24_1785|              5|     94.1|Euro Shopping Cha...|(91) 555 94 44|  C/ Moralzarzal, 86|        null|       Madrid|  null|     28034|      Spain|     EMEA|\n",
            "|      10261|Quebec Home Shopp...|2005.74|             22|   S24_3151|              3|    91.17|Quebec Home Shopp...|(514) 555-8054|  43 rue St. Laurent|        null|     Montreal|Quebec|   H1J 1C3|     Canada|       NA|\n",
            "|      10262|Euro Shopping Cha...|4273.29|             49|   S24_3816|             16|    87.21|Euro Shopping Cha...|(91) 555 94 44|  C/ Moralzarzal, 86|        null|       Madrid|  null|     28034|      Spain|     EMEA|\n",
            "|      10108|     Cruz & Sons Co.| 5448.8|             40|   S24_3856|              1|    100.0|     Cruz & Sons Co.|+63 2 555 3587|15 McCallum Stree...|        null|  Makati City|  null|   1227 MM|Philippines|    Japan|\n",
            "|      10371|Mini Gifts Distri...| 1329.4|             20|   S32_2509|              2|    66.47|Mini Gifts Distri...|    4155551450|     5677 Strong St.|        null|   San Rafael|    CA|     97562|        USA|       NA|\n",
            "|      10119|Salzburg Collecta...|1916.75|             25|  S700_1138|             14|    76.67|Salzburg Collecta...|     6562-9555|         Geislweg 14|        null|     Salzburg|  null|      5020|    Austria|     EMEA|\n",
            "|      10155|Toys of Finland, Co.| 2353.4|             20|  S700_2466|              2|    100.0|Toys of Finland, Co.|   90-224 8555|       Keskuskatu 45|        null|     Helsinki|  null|     21240|    Finland|     EMEA|\n",
            "|      10235|Royal Canadian Co...| 3372.5|             38|  S700_2466|             10|    88.75|Royal Canadian Co...|(604) 555-4555|  23 Tsawassen Blvd.|        null|    Tsawassen|    BC|   T2F 8M4|     Canada|       NA|\n",
            "|      10126|Corrida Auto Repl...|7329.06|             38|   S10_1949|             11|    100.0|Corrida Auto Repl...|(91) 555 22 82|      C/ Araquil, 67|        null|       Madrid|  null|     28023|      Spain|     EMEA|\n",
            "|      10409|    Handji Gifts& Co| 785.64|              6|   S18_2325|              2|    100.0|    Handji Gifts& Co|  +65 224 1555|Village Close - 1...|   2nd Floor|    Singapore|  null|     69045|  Singapore|     APAC|\n",
            "+-----------+--------------------+-------+---------------+-----------+---------------+---------+--------------------+--------------+--------------------+------------+-------------+------+----------+-----------+---------+\n",
            "only showing top 20 rows\n",
            "\n"
          ]
        }
      ]
    },
    {
      "cell_type": "code",
      "source": [
        "master = spark.sql('''\n",
        "                   SELECT DISTINCT s.ordernumber, c.city\n",
        "                   FROM sales_data s\n",
        "                   INNER JOIN customers c on s.CUSTOMERNAME = c.CUSTOMERNAME\n",
        "                   ''')\n",
        "\n",
        "master.show()"
      ],
      "metadata": {
        "colab": {
          "base_uri": "https://localhost:8080/"
        },
        "id": "XQ0Xc_81TQkx",
        "outputId": "0829b11b-62d2-41b0-be53-416d763b232a"
      },
      "execution_count": 143,
      "outputs": [
        {
          "output_type": "stream",
          "name": "stdout",
          "text": [
            "+-----------+-------------+\n",
            "|ordernumber|         city|\n",
            "+-----------+-------------+\n",
            "|      10300|    Frankfurt|\n",
            "|      10385|   San Rafael|\n",
            "|      10241|   Strasbourg|\n",
            "|      10182|   San Rafael|\n",
            "|      10140|   Burlingame|\n",
            "|      10153|       Madrid|\n",
            "|      10293|       Torino|\n",
            "|      10161|      Aaarhus|\n",
            "|      10406|    Kobenhavn|\n",
            "|      10414|       Boston|\n",
            "|      10311|       Madrid|\n",
            "|      10357|   San Rafael|\n",
            "|      10195| White Plains|\n",
            "|      10422|    Allentown|\n",
            "|      10189|     Pasadena|\n",
            "|      10111|San Francisco|\n",
            "|      10204|          NYC|\n",
            "|      10304|   Versailles|\n",
            "|      10151|         Oulu|\n",
            "|      10290|   Brickhaven|\n",
            "+-----------+-------------+\n",
            "only showing top 20 rows\n",
            "\n"
          ]
        }
      ]
    }
  ]
}