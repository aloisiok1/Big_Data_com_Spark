{
  "nbformat": 4,
  "nbformat_minor": 0,
  "metadata": {
    "colab": {
      "provenance": [],
      "toc_visible": true
    },
    "kernelspec": {
      "name": "python3",
      "display_name": "Python 3"
    },
    "language_info": {
      "name": "python"
    }
  },
  "cells": [
    {
      "cell_type": "code",
      "execution_count": 32,
      "metadata": {
        "colab": {
          "base_uri": "https://localhost:8080/"
        },
        "id": "ylcHJDHquPhc",
        "outputId": "83ea01b5-f319-4a64-9b9c-703c37bc62bf"
      },
      "outputs": [
        {
          "output_type": "stream",
          "name": "stdout",
          "text": [
            "Requirement already satisfied: pyspark in /usr/local/lib/python3.10/dist-packages (3.4.1)\n",
            "Requirement already satisfied: py4j==0.10.9.7 in /usr/local/lib/python3.10/dist-packages (from pyspark) (0.10.9.7)\n"
          ]
        }
      ],
      "source": [
        "!pip install pyspark"
      ]
    },
    {
      "cell_type": "code",
      "source": [
        "import pyspark\n",
        "from pyspark.sql import SparkSession\n",
        "spark = SparkSession.builder.master(\"local[*]\").getOrCreate()"
      ],
      "metadata": {
        "id": "NZ-4mfm_v4Xe"
      },
      "execution_count": 33,
      "outputs": []
    },
    {
      "cell_type": "markdown",
      "source": [
        "#1 Spark SQL - Consultas e Seleções"
      ],
      "metadata": {
        "id": "L4wyWVoNwdy0"
      }
    },
    {
      "cell_type": "code",
      "source": [
        "df = spark.sql('''select 'ok' as Status''')\n",
        "df.show()"
      ],
      "metadata": {
        "colab": {
          "base_uri": "https://localhost:8080/"
        },
        "id": "ms2NkVHwwYM-",
        "outputId": "8b5e4c42-56b9-47d1-f562-1fa89dc28021"
      },
      "execution_count": 34,
      "outputs": [
        {
          "output_type": "stream",
          "name": "stdout",
          "text": [
            "+------+\n",
            "|Status|\n",
            "+------+\n",
            "|    ok|\n",
            "+------+\n",
            "\n"
          ]
        }
      ]
    },
    {
      "cell_type": "markdown",
      "source": [
        "#2 Importing Data"
      ],
      "metadata": {
        "id": "3hBwBSa8w5zy"
      }
    },
    {
      "cell_type": "code",
      "source": [
        "#Gerado com base em python\n",
        "df = spark.read.csv(\"/content/cereal.csv\", sep = \",\", inferSchema = True, header = True)\n",
        "df.show()"
      ],
      "metadata": {
        "colab": {
          "base_uri": "https://localhost:8080/"
        },
        "id": "zzrcckCfwwSb",
        "outputId": "0b79db70-4bc5-4f23-d122-145ad934c395"
      },
      "execution_count": 35,
      "outputs": [
        {
          "output_type": "stream",
          "name": "stdout",
          "text": [
            "+--------------------+---+----+--------+-------+---+------+-----+-----+------+------+--------+-----+------+----+---------+\n",
            "|                name|mfr|type|calories|protein|fat|sodium|fiber|carbo|sugars|potass|vitamins|shelf|weight|cups|   rating|\n",
            "+--------------------+---+----+--------+-------+---+------+-----+-----+------+------+--------+-----+------+----+---------+\n",
            "|           100% Bran|  N|   C|      70|      4|  1|   130| 10.0|  5.0|     6|   280|      25|    3|   1.0|0.33|68.402973|\n",
            "|   100% Natural Bran|  Q|   C|     120|      3|  5|    15|  2.0|  8.0|     8|   135|       0|    3|   1.0| 1.0|33.983679|\n",
            "|            All-Bran|  K|   C|      70|      4|  1|   260|  9.0|  7.0|     5|   320|      25|    3|   1.0|0.33|59.425505|\n",
            "|All-Bran with Ext...|  K|   C|      50|      4|  0|   140| 14.0|  8.0|     0|   330|      25|    3|   1.0| 0.5|93.704912|\n",
            "|      Almond Delight|  R|   C|     110|      2|  2|   200|  1.0| 14.0|     8|    -1|      25|    3|   1.0|0.75|34.384843|\n",
            "|Apple Cinnamon Ch...|  G|   C|     110|      2|  2|   180|  1.5| 10.5|    10|    70|      25|    1|   1.0|0.75|29.509541|\n",
            "|         Apple Jacks|  K|   C|     110|      2|  0|   125|  1.0| 11.0|    14|    30|      25|    2|   1.0| 1.0|33.174094|\n",
            "|             Basic 4|  G|   C|     130|      3|  2|   210|  2.0| 18.0|     8|   100|      25|    3|  1.33|0.75|37.038562|\n",
            "|           Bran Chex|  R|   C|      90|      2|  1|   200|  4.0| 15.0|     6|   125|      25|    1|   1.0|0.67|49.120253|\n",
            "|         Bran Flakes|  P|   C|      90|      3|  0|   210|  5.0| 13.0|     5|   190|      25|    3|   1.0|0.67|53.313813|\n",
            "|        Cap'n'Crunch|  Q|   C|     120|      1|  2|   220|  0.0| 12.0|    12|    35|      25|    2|   1.0|0.75|18.042851|\n",
            "|            Cheerios|  G|   C|     110|      6|  2|   290|  2.0| 17.0|     1|   105|      25|    1|   1.0|1.25|50.764999|\n",
            "|Cinnamon Toast Cr...|  G|   C|     120|      1|  3|   210|  0.0| 13.0|     9|    45|      25|    2|   1.0|0.75|19.823573|\n",
            "|            Clusters|  G|   C|     110|      3|  2|   140|  2.0| 13.0|     7|   105|      25|    3|   1.0| 0.5|40.400208|\n",
            "|         Cocoa Puffs|  G|   C|     110|      1|  1|   180|  0.0| 12.0|    13|    55|      25|    2|   1.0| 1.0|22.736446|\n",
            "|           Corn Chex|  R|   C|     110|      2|  0|   280|  0.0| 22.0|     3|    25|      25|    1|   1.0| 1.0|41.445019|\n",
            "|         Corn Flakes|  K|   C|     100|      2|  0|   290|  1.0| 21.0|     2|    35|      25|    1|   1.0| 1.0|45.863324|\n",
            "|           Corn Pops|  K|   C|     110|      1|  0|    90|  1.0| 13.0|    12|    20|      25|    2|   1.0| 1.0|35.782791|\n",
            "|       Count Chocula|  G|   C|     110|      1|  1|   180|  0.0| 12.0|    13|    65|      25|    2|   1.0| 1.0|22.396513|\n",
            "|  Cracklin' Oat Bran|  K|   C|     110|      3|  3|   140|  4.0| 10.0|     7|   160|      25|    3|   1.0| 0.5|40.448772|\n",
            "+--------------------+---+----+--------+-------+---+------+-----+-----+------+------+--------+-----+------+----+---------+\n",
            "only showing top 20 rows\n",
            "\n"
          ]
        }
      ]
    },
    {
      "cell_type": "markdown",
      "source": [
        "#3 Manipulation Data with Spark SQL"
      ],
      "metadata": {
        "id": "ANxfrlO5xRia"
      }
    },
    {
      "cell_type": "code",
      "source": [
        "df.createOrReplaceTempView(\"cereal\")"
      ],
      "metadata": {
        "id": "vfPSxUPNxt2q"
      },
      "execution_count": 36,
      "outputs": []
    },
    {
      "cell_type": "code",
      "source": [
        "#Gerado com base em SQL\n",
        "cereal = spark.sql('''select * from cereal''')\n",
        "cereal.show()"
      ],
      "metadata": {
        "colab": {
          "base_uri": "https://localhost:8080/"
        },
        "id": "wKfAxgpHx6nb",
        "outputId": "6f37952f-585c-4723-bf28-a9c2b0f64828"
      },
      "execution_count": 37,
      "outputs": [
        {
          "output_type": "stream",
          "name": "stdout",
          "text": [
            "+--------------------+---+----+--------+-------+---+------+-----+-----+------+------+--------+-----+------+----+---------+\n",
            "|                name|mfr|type|calories|protein|fat|sodium|fiber|carbo|sugars|potass|vitamins|shelf|weight|cups|   rating|\n",
            "+--------------------+---+----+--------+-------+---+------+-----+-----+------+------+--------+-----+------+----+---------+\n",
            "|           100% Bran|  N|   C|      70|      4|  1|   130| 10.0|  5.0|     6|   280|      25|    3|   1.0|0.33|68.402973|\n",
            "|   100% Natural Bran|  Q|   C|     120|      3|  5|    15|  2.0|  8.0|     8|   135|       0|    3|   1.0| 1.0|33.983679|\n",
            "|            All-Bran|  K|   C|      70|      4|  1|   260|  9.0|  7.0|     5|   320|      25|    3|   1.0|0.33|59.425505|\n",
            "|All-Bran with Ext...|  K|   C|      50|      4|  0|   140| 14.0|  8.0|     0|   330|      25|    3|   1.0| 0.5|93.704912|\n",
            "|      Almond Delight|  R|   C|     110|      2|  2|   200|  1.0| 14.0|     8|    -1|      25|    3|   1.0|0.75|34.384843|\n",
            "|Apple Cinnamon Ch...|  G|   C|     110|      2|  2|   180|  1.5| 10.5|    10|    70|      25|    1|   1.0|0.75|29.509541|\n",
            "|         Apple Jacks|  K|   C|     110|      2|  0|   125|  1.0| 11.0|    14|    30|      25|    2|   1.0| 1.0|33.174094|\n",
            "|             Basic 4|  G|   C|     130|      3|  2|   210|  2.0| 18.0|     8|   100|      25|    3|  1.33|0.75|37.038562|\n",
            "|           Bran Chex|  R|   C|      90|      2|  1|   200|  4.0| 15.0|     6|   125|      25|    1|   1.0|0.67|49.120253|\n",
            "|         Bran Flakes|  P|   C|      90|      3|  0|   210|  5.0| 13.0|     5|   190|      25|    3|   1.0|0.67|53.313813|\n",
            "|        Cap'n'Crunch|  Q|   C|     120|      1|  2|   220|  0.0| 12.0|    12|    35|      25|    2|   1.0|0.75|18.042851|\n",
            "|            Cheerios|  G|   C|     110|      6|  2|   290|  2.0| 17.0|     1|   105|      25|    1|   1.0|1.25|50.764999|\n",
            "|Cinnamon Toast Cr...|  G|   C|     120|      1|  3|   210|  0.0| 13.0|     9|    45|      25|    2|   1.0|0.75|19.823573|\n",
            "|            Clusters|  G|   C|     110|      3|  2|   140|  2.0| 13.0|     7|   105|      25|    3|   1.0| 0.5|40.400208|\n",
            "|         Cocoa Puffs|  G|   C|     110|      1|  1|   180|  0.0| 12.0|    13|    55|      25|    2|   1.0| 1.0|22.736446|\n",
            "|           Corn Chex|  R|   C|     110|      2|  0|   280|  0.0| 22.0|     3|    25|      25|    1|   1.0| 1.0|41.445019|\n",
            "|         Corn Flakes|  K|   C|     100|      2|  0|   290|  1.0| 21.0|     2|    35|      25|    1|   1.0| 1.0|45.863324|\n",
            "|           Corn Pops|  K|   C|     110|      1|  0|    90|  1.0| 13.0|    12|    20|      25|    2|   1.0| 1.0|35.782791|\n",
            "|       Count Chocula|  G|   C|     110|      1|  1|   180|  0.0| 12.0|    13|    65|      25|    2|   1.0| 1.0|22.396513|\n",
            "|  Cracklin' Oat Bran|  K|   C|     110|      3|  3|   140|  4.0| 10.0|     7|   160|      25|    3|   1.0| 0.5|40.448772|\n",
            "+--------------------+---+----+--------+-------+---+------+-----+-----+------+------+--------+-----+------+----+---------+\n",
            "only showing top 20 rows\n",
            "\n"
          ]
        }
      ]
    },
    {
      "cell_type": "code",
      "source": [
        "#filtro com Pyspark SQL\n",
        "cereal = spark.sql('''select * from cereal where type = 'C' ''')\n",
        "cereal.show()"
      ],
      "metadata": {
        "colab": {
          "base_uri": "https://localhost:8080/"
        },
        "id": "U4sAayFAyI6C",
        "outputId": "dce8b033-1e69-4f9d-e528-918a24af1ac6"
      },
      "execution_count": 38,
      "outputs": [
        {
          "output_type": "stream",
          "name": "stdout",
          "text": [
            "+--------------------+---+----+--------+-------+---+------+-----+-----+------+------+--------+-----+------+----+---------+\n",
            "|                name|mfr|type|calories|protein|fat|sodium|fiber|carbo|sugars|potass|vitamins|shelf|weight|cups|   rating|\n",
            "+--------------------+---+----+--------+-------+---+------+-----+-----+------+------+--------+-----+------+----+---------+\n",
            "|           100% Bran|  N|   C|      70|      4|  1|   130| 10.0|  5.0|     6|   280|      25|    3|   1.0|0.33|68.402973|\n",
            "|   100% Natural Bran|  Q|   C|     120|      3|  5|    15|  2.0|  8.0|     8|   135|       0|    3|   1.0| 1.0|33.983679|\n",
            "|            All-Bran|  K|   C|      70|      4|  1|   260|  9.0|  7.0|     5|   320|      25|    3|   1.0|0.33|59.425505|\n",
            "|All-Bran with Ext...|  K|   C|      50|      4|  0|   140| 14.0|  8.0|     0|   330|      25|    3|   1.0| 0.5|93.704912|\n",
            "|      Almond Delight|  R|   C|     110|      2|  2|   200|  1.0| 14.0|     8|    -1|      25|    3|   1.0|0.75|34.384843|\n",
            "|Apple Cinnamon Ch...|  G|   C|     110|      2|  2|   180|  1.5| 10.5|    10|    70|      25|    1|   1.0|0.75|29.509541|\n",
            "|         Apple Jacks|  K|   C|     110|      2|  0|   125|  1.0| 11.0|    14|    30|      25|    2|   1.0| 1.0|33.174094|\n",
            "|             Basic 4|  G|   C|     130|      3|  2|   210|  2.0| 18.0|     8|   100|      25|    3|  1.33|0.75|37.038562|\n",
            "|           Bran Chex|  R|   C|      90|      2|  1|   200|  4.0| 15.0|     6|   125|      25|    1|   1.0|0.67|49.120253|\n",
            "|         Bran Flakes|  P|   C|      90|      3|  0|   210|  5.0| 13.0|     5|   190|      25|    3|   1.0|0.67|53.313813|\n",
            "|        Cap'n'Crunch|  Q|   C|     120|      1|  2|   220|  0.0| 12.0|    12|    35|      25|    2|   1.0|0.75|18.042851|\n",
            "|            Cheerios|  G|   C|     110|      6|  2|   290|  2.0| 17.0|     1|   105|      25|    1|   1.0|1.25|50.764999|\n",
            "|Cinnamon Toast Cr...|  G|   C|     120|      1|  3|   210|  0.0| 13.0|     9|    45|      25|    2|   1.0|0.75|19.823573|\n",
            "|            Clusters|  G|   C|     110|      3|  2|   140|  2.0| 13.0|     7|   105|      25|    3|   1.0| 0.5|40.400208|\n",
            "|         Cocoa Puffs|  G|   C|     110|      1|  1|   180|  0.0| 12.0|    13|    55|      25|    2|   1.0| 1.0|22.736446|\n",
            "|           Corn Chex|  R|   C|     110|      2|  0|   280|  0.0| 22.0|     3|    25|      25|    1|   1.0| 1.0|41.445019|\n",
            "|         Corn Flakes|  K|   C|     100|      2|  0|   290|  1.0| 21.0|     2|    35|      25|    1|   1.0| 1.0|45.863324|\n",
            "|           Corn Pops|  K|   C|     110|      1|  0|    90|  1.0| 13.0|    12|    20|      25|    2|   1.0| 1.0|35.782791|\n",
            "|       Count Chocula|  G|   C|     110|      1|  1|   180|  0.0| 12.0|    13|    65|      25|    2|   1.0| 1.0|22.396513|\n",
            "|  Cracklin' Oat Bran|  K|   C|     110|      3|  3|   140|  4.0| 10.0|     7|   160|      25|    3|   1.0| 0.5|40.448772|\n",
            "+--------------------+---+----+--------+-------+---+------+-----+-----+------+------+--------+-----+------+----+---------+\n",
            "only showing top 20 rows\n",
            "\n"
          ]
        }
      ]
    },
    {
      "cell_type": "code",
      "source": [
        "df1 = df.where(df[\"type\"]== \"C\")\n",
        "df1.show()"
      ],
      "metadata": {
        "colab": {
          "base_uri": "https://localhost:8080/"
        },
        "id": "ZdVRx5BQySAq",
        "outputId": "1e477478-1d84-466d-bc88-2e15deb91254"
      },
      "execution_count": 39,
      "outputs": [
        {
          "output_type": "stream",
          "name": "stdout",
          "text": [
            "+--------------------+---+----+--------+-------+---+------+-----+-----+------+------+--------+-----+------+----+---------+\n",
            "|                name|mfr|type|calories|protein|fat|sodium|fiber|carbo|sugars|potass|vitamins|shelf|weight|cups|   rating|\n",
            "+--------------------+---+----+--------+-------+---+------+-----+-----+------+------+--------+-----+------+----+---------+\n",
            "|           100% Bran|  N|   C|      70|      4|  1|   130| 10.0|  5.0|     6|   280|      25|    3|   1.0|0.33|68.402973|\n",
            "|   100% Natural Bran|  Q|   C|     120|      3|  5|    15|  2.0|  8.0|     8|   135|       0|    3|   1.0| 1.0|33.983679|\n",
            "|            All-Bran|  K|   C|      70|      4|  1|   260|  9.0|  7.0|     5|   320|      25|    3|   1.0|0.33|59.425505|\n",
            "|All-Bran with Ext...|  K|   C|      50|      4|  0|   140| 14.0|  8.0|     0|   330|      25|    3|   1.0| 0.5|93.704912|\n",
            "|      Almond Delight|  R|   C|     110|      2|  2|   200|  1.0| 14.0|     8|    -1|      25|    3|   1.0|0.75|34.384843|\n",
            "|Apple Cinnamon Ch...|  G|   C|     110|      2|  2|   180|  1.5| 10.5|    10|    70|      25|    1|   1.0|0.75|29.509541|\n",
            "|         Apple Jacks|  K|   C|     110|      2|  0|   125|  1.0| 11.0|    14|    30|      25|    2|   1.0| 1.0|33.174094|\n",
            "|             Basic 4|  G|   C|     130|      3|  2|   210|  2.0| 18.0|     8|   100|      25|    3|  1.33|0.75|37.038562|\n",
            "|           Bran Chex|  R|   C|      90|      2|  1|   200|  4.0| 15.0|     6|   125|      25|    1|   1.0|0.67|49.120253|\n",
            "|         Bran Flakes|  P|   C|      90|      3|  0|   210|  5.0| 13.0|     5|   190|      25|    3|   1.0|0.67|53.313813|\n",
            "|        Cap'n'Crunch|  Q|   C|     120|      1|  2|   220|  0.0| 12.0|    12|    35|      25|    2|   1.0|0.75|18.042851|\n",
            "|            Cheerios|  G|   C|     110|      6|  2|   290|  2.0| 17.0|     1|   105|      25|    1|   1.0|1.25|50.764999|\n",
            "|Cinnamon Toast Cr...|  G|   C|     120|      1|  3|   210|  0.0| 13.0|     9|    45|      25|    2|   1.0|0.75|19.823573|\n",
            "|            Clusters|  G|   C|     110|      3|  2|   140|  2.0| 13.0|     7|   105|      25|    3|   1.0| 0.5|40.400208|\n",
            "|         Cocoa Puffs|  G|   C|     110|      1|  1|   180|  0.0| 12.0|    13|    55|      25|    2|   1.0| 1.0|22.736446|\n",
            "|           Corn Chex|  R|   C|     110|      2|  0|   280|  0.0| 22.0|     3|    25|      25|    1|   1.0| 1.0|41.445019|\n",
            "|         Corn Flakes|  K|   C|     100|      2|  0|   290|  1.0| 21.0|     2|    35|      25|    1|   1.0| 1.0|45.863324|\n",
            "|           Corn Pops|  K|   C|     110|      1|  0|    90|  1.0| 13.0|    12|    20|      25|    2|   1.0| 1.0|35.782791|\n",
            "|       Count Chocula|  G|   C|     110|      1|  1|   180|  0.0| 12.0|    13|    65|      25|    2|   1.0| 1.0|22.396513|\n",
            "|  Cracklin' Oat Bran|  K|   C|     110|      3|  3|   140|  4.0| 10.0|     7|   160|      25|    3|   1.0| 0.5|40.448772|\n",
            "+--------------------+---+----+--------+-------+---+------+-----+-----+------+------+--------+-----+------+----+---------+\n",
            "only showing top 20 rows\n",
            "\n"
          ]
        }
      ]
    },
    {
      "cell_type": "code",
      "source": [
        "cereal = spark.sql('''select count(*) as total from cereal where mfr = 'G' ''')\n",
        "cereal.show()"
      ],
      "metadata": {
        "colab": {
          "base_uri": "https://localhost:8080/"
        },
        "id": "k3Rb3jG2y7Sr",
        "outputId": "a502401d-2764-43c9-db11-d062680dba23"
      },
      "execution_count": 40,
      "outputs": [
        {
          "output_type": "stream",
          "name": "stdout",
          "text": [
            "+-----+\n",
            "|total|\n",
            "+-----+\n",
            "|   22|\n",
            "+-----+\n",
            "\n"
          ]
        }
      ]
    },
    {
      "cell_type": "code",
      "source": [
        "df.where(df[\"mfr\"] == \"G\").count()"
      ],
      "metadata": {
        "colab": {
          "base_uri": "https://localhost:8080/"
        },
        "id": "Cc1430Rb0M5z",
        "outputId": "103431fb-eaa8-42fc-a26d-3b26fda6ae88"
      },
      "execution_count": 41,
      "outputs": [
        {
          "output_type": "execute_result",
          "data": {
            "text/plain": [
              "22"
            ]
          },
          "metadata": {},
          "execution_count": 41
        }
      ]
    },
    {
      "cell_type": "markdown",
      "source": [
        "#4 Select no PySpark SQL"
      ],
      "metadata": {
        "id": "nzAGN1841foz"
      }
    },
    {
      "cell_type": "code",
      "source": [
        "df.printSchema()"
      ],
      "metadata": {
        "colab": {
          "base_uri": "https://localhost:8080/"
        },
        "id": "VQbICQcM18PM",
        "outputId": "b3fb6495-efaf-4574-97df-3bdbb30e666c"
      },
      "execution_count": 42,
      "outputs": [
        {
          "output_type": "stream",
          "name": "stdout",
          "text": [
            "root\n",
            " |-- name: string (nullable = true)\n",
            " |-- mfr: string (nullable = true)\n",
            " |-- type: string (nullable = true)\n",
            " |-- calories: integer (nullable = true)\n",
            " |-- protein: integer (nullable = true)\n",
            " |-- fat: integer (nullable = true)\n",
            " |-- sodium: integer (nullable = true)\n",
            " |-- fiber: double (nullable = true)\n",
            " |-- carbo: double (nullable = true)\n",
            " |-- sugars: integer (nullable = true)\n",
            " |-- potass: integer (nullable = true)\n",
            " |-- vitamins: integer (nullable = true)\n",
            " |-- shelf: integer (nullable = true)\n",
            " |-- weight: double (nullable = true)\n",
            " |-- cups: double (nullable = true)\n",
            " |-- rating: double (nullable = true)\n",
            "\n"
          ]
        }
      ]
    },
    {
      "cell_type": "code",
      "source": [
        "df.createOrReplaceTempView(\"cereal\")"
      ],
      "metadata": {
        "id": "fqSbCFod2LV6"
      },
      "execution_count": 43,
      "outputs": []
    },
    {
      "cell_type": "code",
      "source": [
        "cereal = spark.sql('''select name, type, mfr from cereal ''')\n",
        "cereal.show()"
      ],
      "metadata": {
        "colab": {
          "base_uri": "https://localhost:8080/"
        },
        "id": "MaaltZCI0WmZ",
        "outputId": "9e31080f-1366-43e3-c61b-55e52916488d"
      },
      "execution_count": 44,
      "outputs": [
        {
          "output_type": "stream",
          "name": "stdout",
          "text": [
            "+--------------------+----+---+\n",
            "|                name|type|mfr|\n",
            "+--------------------+----+---+\n",
            "|           100% Bran|   C|  N|\n",
            "|   100% Natural Bran|   C|  Q|\n",
            "|            All-Bran|   C|  K|\n",
            "|All-Bran with Ext...|   C|  K|\n",
            "|      Almond Delight|   C|  R|\n",
            "|Apple Cinnamon Ch...|   C|  G|\n",
            "|         Apple Jacks|   C|  K|\n",
            "|             Basic 4|   C|  G|\n",
            "|           Bran Chex|   C|  R|\n",
            "|         Bran Flakes|   C|  P|\n",
            "|        Cap'n'Crunch|   C|  Q|\n",
            "|            Cheerios|   C|  G|\n",
            "|Cinnamon Toast Cr...|   C|  G|\n",
            "|            Clusters|   C|  G|\n",
            "|         Cocoa Puffs|   C|  G|\n",
            "|           Corn Chex|   C|  R|\n",
            "|         Corn Flakes|   C|  K|\n",
            "|           Corn Pops|   C|  K|\n",
            "|       Count Chocula|   C|  G|\n",
            "|  Cracklin' Oat Bran|   C|  K|\n",
            "+--------------------+----+---+\n",
            "only showing top 20 rows\n",
            "\n"
          ]
        }
      ]
    },
    {
      "cell_type": "markdown",
      "source": [
        "#5 Exclusão de valores repetidos, deixando apenas valores únicos"
      ],
      "metadata": {
        "id": "35As_iVe2m2y"
      }
    },
    {
      "cell_type": "code",
      "source": [
        "cereal = spark.sql('''select type, mfr from cereal ''')\n",
        "cereal.show()"
      ],
      "metadata": {
        "colab": {
          "base_uri": "https://localhost:8080/"
        },
        "id": "Adk58tJB2TDR",
        "outputId": "e06a897e-cf7f-45e0-dd34-602b3d09016e"
      },
      "execution_count": 45,
      "outputs": [
        {
          "output_type": "stream",
          "name": "stdout",
          "text": [
            "+----+---+\n",
            "|type|mfr|\n",
            "+----+---+\n",
            "|   C|  N|\n",
            "|   C|  Q|\n",
            "|   C|  K|\n",
            "|   C|  K|\n",
            "|   C|  R|\n",
            "|   C|  G|\n",
            "|   C|  K|\n",
            "|   C|  G|\n",
            "|   C|  R|\n",
            "|   C|  P|\n",
            "|   C|  Q|\n",
            "|   C|  G|\n",
            "|   C|  G|\n",
            "|   C|  G|\n",
            "|   C|  G|\n",
            "|   C|  R|\n",
            "|   C|  K|\n",
            "|   C|  K|\n",
            "|   C|  G|\n",
            "|   C|  K|\n",
            "+----+---+\n",
            "only showing top 20 rows\n",
            "\n"
          ]
        }
      ]
    },
    {
      "cell_type": "code",
      "source": [
        "cereal = spark.sql('''select type, mfr from cereal ''')\n",
        "cereal.count()"
      ],
      "metadata": {
        "colab": {
          "base_uri": "https://localhost:8080/"
        },
        "id": "rae0pszF21Uy",
        "outputId": "f2d850d1-58bf-4c81-9a54-df19b066c453"
      },
      "execution_count": 46,
      "outputs": [
        {
          "output_type": "execute_result",
          "data": {
            "text/plain": [
              "77"
            ]
          },
          "metadata": {},
          "execution_count": 46
        }
      ]
    },
    {
      "cell_type": "code",
      "source": [
        "cereal = spark.sql('''select distinct type, mfr from cereal ''')\n",
        "cereal.show()"
      ],
      "metadata": {
        "colab": {
          "base_uri": "https://localhost:8080/"
        },
        "id": "zXlHWCeB2kzp",
        "outputId": "fc6a8783-e940-44dc-c49d-5fbabc29dd1f"
      },
      "execution_count": 47,
      "outputs": [
        {
          "output_type": "stream",
          "name": "stdout",
          "text": [
            "+----+---+\n",
            "|type|mfr|\n",
            "+----+---+\n",
            "|   C|  P|\n",
            "|   C|  Q|\n",
            "|   C|  N|\n",
            "|   H|  Q|\n",
            "|   C|  R|\n",
            "|   H|  N|\n",
            "|   C|  G|\n",
            "|   H|  A|\n",
            "|   C|  K|\n",
            "+----+---+\n",
            "\n"
          ]
        }
      ]
    },
    {
      "cell_type": "code",
      "source": [
        "cereal = spark.sql('''select distinct type, mfr from cereal ''')\n",
        "cereal.count()"
      ],
      "metadata": {
        "colab": {
          "base_uri": "https://localhost:8080/"
        },
        "id": "3H5KNO6P2wIJ",
        "outputId": "baf959db-5497-4bd9-e4b6-0a2a155b9937"
      },
      "execution_count": 48,
      "outputs": [
        {
          "output_type": "execute_result",
          "data": {
            "text/plain": [
              "9"
            ]
          },
          "metadata": {},
          "execution_count": 48
        }
      ]
    },
    {
      "cell_type": "markdown",
      "source": [
        "#6 Where no Spark SQL (filtro)"
      ],
      "metadata": {
        "id": "Y0E_0r9a28jZ"
      }
    },
    {
      "cell_type": "code",
      "source": [
        "cereal = spark.sql('''select * from cereal where mfr = \"N\" ''')\n",
        "cereal.count()"
      ],
      "metadata": {
        "colab": {
          "base_uri": "https://localhost:8080/"
        },
        "id": "NizhrGht2634",
        "outputId": "fa38bea7-e1dc-4638-b6a0-6b3d77443906"
      },
      "execution_count": 49,
      "outputs": [
        {
          "output_type": "execute_result",
          "data": {
            "text/plain": [
              "6"
            ]
          },
          "metadata": {},
          "execution_count": 49
        }
      ]
    },
    {
      "cell_type": "code",
      "source": [
        "cereal = spark.sql('''select * from cereal where mfr = \"K\" and calories >= 100  ''')\n",
        "cereal.count()"
      ],
      "metadata": {
        "colab": {
          "base_uri": "https://localhost:8080/"
        },
        "id": "nVdl3p4F3a5B",
        "outputId": "8ade5113-3170-493c-81f5-dea61a3367d0"
      },
      "execution_count": 50,
      "outputs": [
        {
          "output_type": "execute_result",
          "data": {
            "text/plain": [
              "19"
            ]
          },
          "metadata": {},
          "execution_count": 50
        }
      ]
    },
    {
      "cell_type": "code",
      "source": [
        "cereal = spark.sql('''select * from cereal where mfr = \"K\" and calories >= 100  ''')\n",
        "cereal.show()"
      ],
      "metadata": {
        "colab": {
          "base_uri": "https://localhost:8080/"
        },
        "id": "wX205-w-3pxp",
        "outputId": "b3658748-6afd-496d-8fb7-5625dad492a4"
      },
      "execution_count": 51,
      "outputs": [
        {
          "output_type": "stream",
          "name": "stdout",
          "text": [
            "+--------------------+---+----+--------+-------+---+------+-----+-----+------+------+--------+-----+------+----+---------+\n",
            "|                name|mfr|type|calories|protein|fat|sodium|fiber|carbo|sugars|potass|vitamins|shelf|weight|cups|   rating|\n",
            "+--------------------+---+----+--------+-------+---+------+-----+-----+------+------+--------+-----+------+----+---------+\n",
            "|         Apple Jacks|  K|   C|     110|      2|  0|   125|  1.0| 11.0|    14|    30|      25|    2|   1.0| 1.0|33.174094|\n",
            "|         Corn Flakes|  K|   C|     100|      2|  0|   290|  1.0| 21.0|     2|    35|      25|    1|   1.0| 1.0|45.863324|\n",
            "|           Corn Pops|  K|   C|     110|      1|  0|    90|  1.0| 13.0|    12|    20|      25|    2|   1.0| 1.0|35.782791|\n",
            "|  Cracklin' Oat Bran|  K|   C|     110|      3|  3|   140|  4.0| 10.0|     7|   160|      25|    3|   1.0| 0.5|40.448772|\n",
            "|             Crispix|  K|   C|     110|      2|  0|   220|  1.0| 21.0|     3|    30|      25|    3|   1.0| 1.0|46.895644|\n",
            "|         Froot Loops|  K|   C|     110|      2|  1|   125|  1.0| 11.0|    13|    30|      25|    2|   1.0| 1.0|32.207582|\n",
            "|      Frosted Flakes|  K|   C|     110|      1|  0|   200|  1.0| 14.0|    11|    25|      25|    1|   1.0|0.75|31.435973|\n",
            "| Frosted Mini-Wheats|  K|   C|     100|      3|  0|     0|  3.0| 14.0|     7|   100|      25|    2|   1.0| 0.8|58.345141|\n",
            "|       Fruitful Bran|  K|   C|     120|      3|  0|   240|  5.0| 14.0|    12|   190|      25|    3|  1.33|0.67|41.015492|\n",
            "|Just Right Crunch...|  K|   C|     110|      2|  1|   170|  1.0| 17.0|     6|    60|     100|    3|   1.0| 1.0|36.523683|\n",
            "|Just Right Fruit ...|  K|   C|     140|      3|  1|   170|  2.0| 20.0|     9|    95|     100|    3|   1.3|0.75|36.471512|\n",
            "|Mueslix Crispy Blend|  K|   C|     160|      3|  2|   150|  3.0| 17.0|    13|   160|      25|    3|   1.5|0.67|30.313351|\n",
            "|    Nut&Honey Crunch|  K|   C|     120|      2|  1|   190|  0.0| 15.0|     9|    40|      25|    2|   1.0|0.67|29.924285|\n",
            "|Nutri-Grain Almon...|  K|   C|     140|      3|  2|   220|  3.0| 21.0|     7|   130|      25|    3|  1.33|0.67| 40.69232|\n",
            "|          Product 19|  K|   C|     100|      3|  0|   320|  1.0| 20.0|     3|    45|     100|    3|   1.0| 1.0| 41.50354|\n",
            "|         Raisin Bran|  K|   C|     120|      3|  1|   210|  5.0| 14.0|    12|   240|      25|    2|  1.33|0.75|39.259197|\n",
            "|       Rice Krispies|  K|   C|     110|      2|  0|   290|  0.0| 22.0|     3|    35|      25|    1|   1.0| 1.0|40.560159|\n",
            "|              Smacks|  K|   C|     110|      2|  1|    70|  1.0|  9.0|    15|    40|      25|    2|   1.0|0.75|31.230054|\n",
            "|           Special K|  K|   C|     110|      6|  0|   230|  1.0| 16.0|     3|    55|      25|    1|   1.0| 1.0|53.131324|\n",
            "+--------------------+---+----+--------+-------+---+------+-----+-----+------+------+--------+-----+------+----+---------+\n",
            "\n"
          ]
        }
      ]
    },
    {
      "cell_type": "markdown",
      "source": [
        "#7 Group By"
      ],
      "metadata": {
        "id": "If7xD1ep4d0p"
      }
    },
    {
      "cell_type": "code",
      "source": [
        "cereal = spark.sql('''SELECT mfr, type, COUNT(*) FROM cereal GROUP BY mfr, type  ''')\n",
        "cereal.count()"
      ],
      "metadata": {
        "colab": {
          "base_uri": "https://localhost:8080/"
        },
        "id": "XVPoB3oA5eBy",
        "outputId": "3c6a12aa-f69c-46e4-afa1-7d516f4cb0e0"
      },
      "execution_count": 52,
      "outputs": [
        {
          "output_type": "execute_result",
          "data": {
            "text/plain": [
              "9"
            ]
          },
          "metadata": {},
          "execution_count": 52
        }
      ]
    },
    {
      "cell_type": "code",
      "source": [
        "cereal = spark.sql('''SELECT mfr, type, COUNT(*) AS total FROM cereal GROUP BY mfr, type  ''')\n",
        "cereal.show()"
      ],
      "metadata": {
        "colab": {
          "base_uri": "https://localhost:8080/"
        },
        "id": "F_Ss2y0_3xaZ",
        "outputId": "353ddb16-9e55-4b10-f03b-6542331e7856"
      },
      "execution_count": 53,
      "outputs": [
        {
          "output_type": "stream",
          "name": "stdout",
          "text": [
            "+---+----+-----+\n",
            "|mfr|type|total|\n",
            "+---+----+-----+\n",
            "|  A|   H|    1|\n",
            "|  P|   C|    9|\n",
            "|  K|   C|   23|\n",
            "|  G|   C|   22|\n",
            "|  Q|   C|    7|\n",
            "|  R|   C|    8|\n",
            "|  Q|   H|    1|\n",
            "|  N|   H|    1|\n",
            "|  N|   C|    5|\n",
            "+---+----+-----+\n",
            "\n"
          ]
        }
      ]
    },
    {
      "cell_type": "code",
      "source": [
        "cereal = spark.sql('''SELECT mfr, type, COUNT(*) AS total, SUM(calories) as Total_calories FROM cereal GROUP BY mfr, type  ''')\n",
        "cereal.show()"
      ],
      "metadata": {
        "colab": {
          "base_uri": "https://localhost:8080/"
        },
        "id": "4vFEWVFR47MJ",
        "outputId": "c31089cf-6397-40cd-f662-50176ceb310c"
      },
      "execution_count": 54,
      "outputs": [
        {
          "output_type": "stream",
          "name": "stdout",
          "text": [
            "+---+----+-----+--------------+\n",
            "|mfr|type|total|Total_calories|\n",
            "+---+----+-----+--------------+\n",
            "|  A|   H|    1|           100|\n",
            "|  P|   C|    9|           980|\n",
            "|  K|   C|   23|          2500|\n",
            "|  G|   C|   22|          2450|\n",
            "|  Q|   C|    7|           660|\n",
            "|  R|   C|    8|           920|\n",
            "|  Q|   H|    1|           100|\n",
            "|  N|   H|    1|           100|\n",
            "|  N|   C|    5|           420|\n",
            "+---+----+-----+--------------+\n",
            "\n"
          ]
        }
      ]
    },
    {
      "cell_type": "code",
      "source": [
        "cereal = spark.sql('''SELECT mfr, type, COUNT(*) AS total, SUM(calories) as Total_calories FROM cereal GROUP BY mfr, type  ''')\n",
        "cereal.count()"
      ],
      "metadata": {
        "colab": {
          "base_uri": "https://localhost:8080/"
        },
        "id": "-iPw-dBN6Ckx",
        "outputId": "c6e6ad3d-58f4-4b23-9c72-2dc6c399a483"
      },
      "execution_count": 55,
      "outputs": [
        {
          "output_type": "execute_result",
          "data": {
            "text/plain": [
              "9"
            ]
          },
          "metadata": {},
          "execution_count": 55
        }
      ]
    },
    {
      "cell_type": "code",
      "source": [
        "#organizando a estrutura de uma forma mais legivel\n",
        "cereal = spark.sql('''SELECT mfr, \\\n",
        "                             type, \\\n",
        "                             COUNT(*) AS total, \\\n",
        "                             SUM(calories) as Total_calories\n",
        "                      FROM cereal \\\n",
        "                      GROUP BY \\\n",
        "                             mfr, \\\n",
        "                             type  ''')\n",
        "cereal.count()"
      ],
      "metadata": {
        "colab": {
          "base_uri": "https://localhost:8080/"
        },
        "id": "mfX87WWn6FyZ",
        "outputId": "cafd1568-2ec3-43d6-f858-82f751210ac1"
      },
      "execution_count": 56,
      "outputs": [
        {
          "output_type": "execute_result",
          "data": {
            "text/plain": [
              "9"
            ]
          },
          "metadata": {},
          "execution_count": 56
        }
      ]
    },
    {
      "cell_type": "markdown",
      "source": [
        "#8 Case When\n"
      ],
      "metadata": {
        "id": "ki69ok9n7UcT"
      }
    },
    {
      "cell_type": "code",
      "source": [
        "cereal = spark.sql('''SELECT DISTINCT type\n",
        "                      FROM cereal ''')\n",
        "cereal.show()"
      ],
      "metadata": {
        "colab": {
          "base_uri": "https://localhost:8080/"
        },
        "id": "laY1LdfM7g45",
        "outputId": "44fc5a5b-55df-4dc6-88aa-74d652fe69c9"
      },
      "execution_count": 57,
      "outputs": [
        {
          "output_type": "stream",
          "name": "stdout",
          "text": [
            "+----+\n",
            "|type|\n",
            "+----+\n",
            "|   C|\n",
            "|   H|\n",
            "+----+\n",
            "\n"
          ]
        }
      ]
    },
    {
      "cell_type": "code",
      "source": [
        "cereal = spark.sql('''SELECT mfr, \\\n",
        "                             (case\n",
        "                                   when type = \"C\" then \"A\"\n",
        "                                   else \"B\" end) as type_new,\n",
        "                             COUNT(*) AS total, \\\n",
        "                             SUM(calories) as Total_calories\n",
        "                      FROM cereal \\\n",
        "                      GROUP BY \\\n",
        "                             mfr, \\\n",
        "                             type  ''')\n",
        "cereal.show()"
      ],
      "metadata": {
        "colab": {
          "base_uri": "https://localhost:8080/"
        },
        "id": "H-a-6l9V7Zhh",
        "outputId": "f3f6f0a9-f71e-47a3-c9bf-7d20cfa78c6f"
      },
      "execution_count": 58,
      "outputs": [
        {
          "output_type": "stream",
          "name": "stdout",
          "text": [
            "+---+--------+-----+--------------+\n",
            "|mfr|type_new|total|Total_calories|\n",
            "+---+--------+-----+--------------+\n",
            "|  A|       B|    1|           100|\n",
            "|  P|       A|    9|           980|\n",
            "|  K|       A|   23|          2500|\n",
            "|  G|       A|   22|          2450|\n",
            "|  Q|       A|    7|           660|\n",
            "|  R|       A|    8|           920|\n",
            "|  Q|       B|    1|           100|\n",
            "|  N|       B|    1|           100|\n",
            "|  N|       A|    5|           420|\n",
            "+---+--------+-----+--------------+\n",
            "\n"
          ]
        }
      ]
    },
    {
      "cell_type": "markdown",
      "source": [
        "#9 Consultas Avansadas em SQL usando o PySpark"
      ],
      "metadata": {
        "id": "QZzJRlD4Ab1R"
      }
    },
    {
      "cell_type": "code",
      "source": [
        "df = spark.sql('''\n",
        "                   SELECT mfr,\n",
        "                          type,\n",
        "                          sum(calories) as sum_calories,\n",
        "                          min(calories) as min_calories,\n",
        "                          max(calories) as max_calories,\n",
        "                          avg(calories) as avg_calories,\n",
        "\n",
        "                          sum(carbo) as sum_carbo,\n",
        "                          min(carbo) as min_carbo,\n",
        "                          max(carbo) as max_carbo,\n",
        "                          avg(carbo) as avg_carbo,\n",
        "\n",
        "                          sum(vitamins) as sum_vitamins,\n",
        "                          min(vitamins) as min_vitamins,\n",
        "                          max(vitamins) as max_vitamins,\n",
        "                          avg(vitamins) as avg_vitamins,\n",
        "\n",
        "                          count(distinct name) as count_distinct_name,\n",
        "                          count(name) as count_names\n",
        "                   FROM cereal\n",
        "                   GROUP BY mfr, type\n",
        "                   ORDER BY mfr, type\n",
        "                   ''')\n",
        "df.show()"
      ],
      "metadata": {
        "colab": {
          "base_uri": "https://localhost:8080/"
        },
        "id": "Qwsvsm5B72gw",
        "outputId": "3b3151bd-6ee1-406a-8c9a-6a7ef4387ab2"
      },
      "execution_count": 61,
      "outputs": [
        {
          "output_type": "stream",
          "name": "stdout",
          "text": [
            "+---+----+------------+------------+------------+------------------+---------+---------+---------+------------------+------------+------------+------------+------------------+-------------------+-----------+\n",
            "|mfr|type|sum_calories|min_calories|max_calories|      avg_calories|sum_carbo|min_carbo|max_carbo|         avg_carbo|sum_vitamins|min_vitamins|max_vitamins|      avg_vitamins|count_distinct_name|count_names|\n",
            "+---+----+------------+------------+------------+------------------+---------+---------+---------+------------------+------------+------------+------------+------------------+-------------------+-----------+\n",
            "|  A|   H|         100|         100|         100|             100.0|     16.0|     16.0|     16.0|              16.0|          25|          25|          25|              25.0|                  1|          1|\n",
            "|  G|   C|        2450|         100|         140|111.36363636363636|    324.0|     10.5|     21.0|14.727272727272727|         775|          25|         100| 35.22727272727273|                 22|         22|\n",
            "|  K|   C|        2500|          50|         160|108.69565217391305|    348.0|      7.0|     22.0|15.130434782608695|         800|          25|         100| 34.78260869565217|                 23|         23|\n",
            "|  N|   C|         420|          70|          90|              84.0|     75.0|      5.0|     20.0|              15.0|          50|           0|          25|              10.0|                  5|          5|\n",
            "|  N|   H|         100|         100|         100|             100.0|     21.0|     21.0|     21.0|              21.0|           0|           0|           0|               0.0|                  1|          1|\n",
            "|  P|   C|         980|          90|         120|108.88888888888889|    119.0|     11.0|     17.0|13.222222222222221|         225|          25|          25|              25.0|                  9|          9|\n",
            "|  Q|   C|         660|          50|         120| 94.28571428571429|     81.0|      8.0|     14.0|11.571428571428571|         100|           0|          25|14.285714285714286|                  7|          7|\n",
            "|  Q|   H|         100|         100|         100|             100.0|     -1.0|     -1.0|     -1.0|              -1.0|           0|           0|           0|               0.0|                  1|          1|\n",
            "|  R|   C|         920|          90|         150|             115.0|    141.0|     14.0|     23.0|            17.625|         200|          25|          25|              25.0|                  8|          8|\n",
            "+---+----+------------+------------+------------+------------------+---------+---------+---------+------------------+------------+------------+------------+------------------+-------------------+-----------+\n",
            "\n"
          ]
        }
      ]
    },
    {
      "cell_type": "code",
      "source": [
        "df = spark.sql('''\n",
        "                   SELECT mfr,\n",
        "                          type,\n",
        "                          sum(calories) as sum_calories,\n",
        "                          min(calories) as min_calories,\n",
        "                          max(calories) as max_calories,\n",
        "                          cast(avg(calories)as decimal(10,2)) as avg_calories,\n",
        "\n",
        "                          sum(carbo) as sum_carbo,\n",
        "                          min(carbo) as min_carbo,\n",
        "                          max(carbo) as max_carbo,\n",
        "                          cast(avg(carbo)as decimal(10,2)) as avg_carbo,\n",
        "\n",
        "                          sum(vitamins) as sum_vitamins,\n",
        "                          min(vitamins) as min_vitamins,\n",
        "                          max(vitamins) as max_vitamins,\n",
        "                          cast(avg(vitamins)as decimal(10,2)) as avg_vitamins,\n",
        "\n",
        "                          count(distinct name) as count_distinct_name,\n",
        "                          count(name) as count_names\n",
        "                   FROM cereal\n",
        "                   GROUP BY mfr, type\n",
        "                   ORDER BY mfr, type\n",
        "                   ''')\n",
        "df.show()"
      ],
      "metadata": {
        "colab": {
          "base_uri": "https://localhost:8080/"
        },
        "id": "2phRzmYcA3mN",
        "outputId": "613b0a68-9325-425b-8157-feb54ee759da"
      },
      "execution_count": 62,
      "outputs": [
        {
          "output_type": "stream",
          "name": "stdout",
          "text": [
            "+---+----+------------+------------+------------+------------+---------+---------+---------+---------+------------+------------+------------+------------+-------------------+-----------+\n",
            "|mfr|type|sum_calories|min_calories|max_calories|avg_calories|sum_carbo|min_carbo|max_carbo|avg_carbo|sum_vitamins|min_vitamins|max_vitamins|avg_vitamins|count_distinct_name|count_names|\n",
            "+---+----+------------+------------+------------+------------+---------+---------+---------+---------+------------+------------+------------+------------+-------------------+-----------+\n",
            "|  A|   H|         100|         100|         100|      100.00|     16.0|     16.0|     16.0|    16.00|          25|          25|          25|       25.00|                  1|          1|\n",
            "|  G|   C|        2450|         100|         140|      111.36|    324.0|     10.5|     21.0|    14.73|         775|          25|         100|       35.23|                 22|         22|\n",
            "|  K|   C|        2500|          50|         160|      108.70|    348.0|      7.0|     22.0|    15.13|         800|          25|         100|       34.78|                 23|         23|\n",
            "|  N|   C|         420|          70|          90|       84.00|     75.0|      5.0|     20.0|    15.00|          50|           0|          25|       10.00|                  5|          5|\n",
            "|  N|   H|         100|         100|         100|      100.00|     21.0|     21.0|     21.0|    21.00|           0|           0|           0|        0.00|                  1|          1|\n",
            "|  P|   C|         980|          90|         120|      108.89|    119.0|     11.0|     17.0|    13.22|         225|          25|          25|       25.00|                  9|          9|\n",
            "|  Q|   C|         660|          50|         120|       94.29|     81.0|      8.0|     14.0|    11.57|         100|           0|          25|       14.29|                  7|          7|\n",
            "|  Q|   H|         100|         100|         100|      100.00|     -1.0|     -1.0|     -1.0|    -1.00|           0|           0|           0|        0.00|                  1|          1|\n",
            "|  R|   C|         920|          90|         150|      115.00|    141.0|     14.0|     23.0|    17.63|         200|          25|          25|       25.00|                  8|          8|\n",
            "+---+----+------------+------------+------------+------------+---------+---------+---------+---------+------------+------------+------------+------------+-------------------+-----------+\n",
            "\n"
          ]
        }
      ]
    },
    {
      "cell_type": "markdown",
      "source": [],
      "metadata": {
        "id": "C9oh7BHNJOQ8"
      }
    },
    {
      "cell_type": "code",
      "source": [
        "df = spark.sql('''\n",
        "                   SELECT mfr,\n",
        "                          type,\n",
        "                          (case\n",
        "                               when mfr = \"A\" then \"Abacaxi\"\n",
        "                               when mfr = \"G\" then \"Goiaba\"\n",
        "                               when mfr = \"K\" then \"Banana\"\n",
        "                               when mfr = \"N\" then \"Maça\"\n",
        "                               when mfr = \"P\" then \"Tomate\"\n",
        "                               when mfr = \"Q\" then \"Pera\"\n",
        "                               when mfr = \"R\" then \"Uva\"\n",
        "                               else \"NA\"\n",
        "                          end) as Type_fruit,\n",
        "\n",
        "                          sum(calories) as sum_calories,\n",
        "                          min(calories) as min_calories,\n",
        "                          max(calories) as max_calories,\n",
        "                          cast(avg(calories)as decimal(10,2)) as avg_calories,\n",
        "\n",
        "                          sum(carbo) as sum_carbo,\n",
        "                          min(carbo) as min_carbo,\n",
        "                          max(carbo) as max_carbo,\n",
        "                          cast(avg(carbo)as decimal(10,2)) as avg_carbo,\n",
        "\n",
        "                          sum(vitamins) as sum_vitamins,\n",
        "                          min(vitamins) as min_vitamins,\n",
        "                          max(vitamins) as max_vitamins,\n",
        "                          cast(avg(vitamins)as decimal(10,2)) as avg_vitamins,\n",
        "\n",
        "                          count(distinct name) as count_distinct_name,\n",
        "                          count(name) as count_names\n",
        "                   FROM cereal\n",
        "                   GROUP BY mfr, type\n",
        "                   ORDER BY mfr, type\n",
        "                   ''')\n",
        "df.show()"
      ],
      "metadata": {
        "colab": {
          "base_uri": "https://localhost:8080/"
        },
        "id": "PNdv-rF3IzmL",
        "outputId": "fa34fb82-605b-4379-ce14-58ae6e305f84"
      },
      "execution_count": 63,
      "outputs": [
        {
          "output_type": "stream",
          "name": "stdout",
          "text": [
            "+---+----+----------+------------+------------+------------+------------+---------+---------+---------+---------+------------+------------+------------+------------+-------------------+-----------+\n",
            "|mfr|type|Type_fruit|sum_calories|min_calories|max_calories|avg_calories|sum_carbo|min_carbo|max_carbo|avg_carbo|sum_vitamins|min_vitamins|max_vitamins|avg_vitamins|count_distinct_name|count_names|\n",
            "+---+----+----------+------------+------------+------------+------------+---------+---------+---------+---------+------------+------------+------------+------------+-------------------+-----------+\n",
            "|  A|   H|   Abacaxi|         100|         100|         100|      100.00|     16.0|     16.0|     16.0|    16.00|          25|          25|          25|       25.00|                  1|          1|\n",
            "|  G|   C|    Goiaba|        2450|         100|         140|      111.36|    324.0|     10.5|     21.0|    14.73|         775|          25|         100|       35.23|                 22|         22|\n",
            "|  K|   C|    Banana|        2500|          50|         160|      108.70|    348.0|      7.0|     22.0|    15.13|         800|          25|         100|       34.78|                 23|         23|\n",
            "|  N|   C|      Maça|         420|          70|          90|       84.00|     75.0|      5.0|     20.0|    15.00|          50|           0|          25|       10.00|                  5|          5|\n",
            "|  N|   H|      Maça|         100|         100|         100|      100.00|     21.0|     21.0|     21.0|    21.00|           0|           0|           0|        0.00|                  1|          1|\n",
            "|  P|   C|    Tomate|         980|          90|         120|      108.89|    119.0|     11.0|     17.0|    13.22|         225|          25|          25|       25.00|                  9|          9|\n",
            "|  Q|   C|      Pera|         660|          50|         120|       94.29|     81.0|      8.0|     14.0|    11.57|         100|           0|          25|       14.29|                  7|          7|\n",
            "|  Q|   H|      Pera|         100|         100|         100|      100.00|     -1.0|     -1.0|     -1.0|    -1.00|           0|           0|           0|        0.00|                  1|          1|\n",
            "|  R|   C|       Uva|         920|          90|         150|      115.00|    141.0|     14.0|     23.0|    17.63|         200|          25|          25|       25.00|                  8|          8|\n",
            "+---+----+----------+------------+------------+------------+------------+---------+---------+---------+---------+------------+------------+------------+------------+-------------------+-----------+\n",
            "\n"
          ]
        }
      ]
    },
    {
      "cell_type": "code",
      "source": [],
      "metadata": {
        "id": "X1apuDDeKua1"
      },
      "execution_count": null,
      "outputs": []
    }
  ]
}